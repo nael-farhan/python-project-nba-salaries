{
 "cells": [
  {
   "cell_type": "code",
   "execution_count": 2,
   "outputs": [],
   "source": [
    "import pandas as pd\n",
    "import numpy as np"
   ],
   "metadata": {
    "collapsed": false,
    "pycharm": {
     "name": "#%%\n"
    }
   }
  },
  {
   "cell_type": "code",
   "execution_count": 32,
   "metadata": {
    "collapsed": true
   },
   "outputs": [],
   "source": [
    "df_21 = pd.read_csv('data\\data21.csv')"
   ]
  },
  {
   "cell_type": "code",
   "execution_count": 33,
   "outputs": [],
   "source": [
    "df_21.drop(df_21[df_21['salary'].isnull()].index, inplace=True)"
   ],
   "metadata": {
    "collapsed": false,
    "pycharm": {
     "name": "#%%\n"
    }
   }
  },
  {
   "cell_type": "code",
   "execution_count": 60,
   "outputs": [],
   "source": [
    "df_21.dropna(axis=1, how='all', inplace=True)"
   ],
   "metadata": {
    "collapsed": false,
    "pycharm": {
     "name": "#%%\n"
    }
   }
  },
  {
   "cell_type": "code",
   "execution_count": 5,
   "outputs": [],
   "source": [
    "import numpy as np\n",
    "from sklearn.svm import LinearSVC\n",
    "from sklearn.feature_selection import SelectFromModel\n",
    "from sklearn.model_selection import train_test_split\n",
    "from sklearn.preprocessing import StandardScaler\n",
    "from sklearn.linear_model import Lasso\n",
    "import sklearn.metrics\n",
    "from sklearn.linear_model import LinearRegression\n",
    "import matplotlib.cm as cm\n",
    "import matplotlib.pyplot as plt\n",
    "from sklearn.linear_model import lasso_path\n",
    "import seaborn as sns"
   ],
   "metadata": {
    "collapsed": false,
    "pycharm": {
     "name": "#%%\n"
    }
   }
  },
  {
   "cell_type": "code",
   "execution_count": 37,
   "outputs": [
    {
     "name": "stderr",
     "output_type": "stream",
     "text": [
      "C:\\Users\\nael3\\anaconda3\\lib\\site-packages\\pandas\\core\\frame.py:4166: SettingWithCopyWarning: \n",
      "A value is trying to be set on a copy of a slice from a DataFrame\n",
      "\n",
      "See the caveats in the documentation: https://pandas.pydata.org/pandas-docs/stable/user_guide/indexing.html#returning-a-view-versus-a-copy\n",
      "  return super().replace(\n"
     ]
    }
   ],
   "source": [
    "df = df_21.select_dtypes(include=np.number)\n",
    "df.replace([np.inf, -np.inf], np.nan, inplace=True)\n",
    "df = df.fillna(0)\n",
    "col_names = df.loc[:, df.columns != 'salary'].columns.values\n",
    "features = df[col_names]\n",
    "features = StandardScaler().fit(features.values).transform(features.values)\n",
    "df[col_names] = features"
   ],
   "metadata": {
    "collapsed": false,
    "pycharm": {
     "name": "#%%\n"
    }
   }
  },
  {
   "cell_type": "code",
   "execution_count": 66,
   "outputs": [],
   "source": [
    "df_21.replace([np.inf, -np.inf], np.nan, inplace=True)\n",
    "df_21 = df_21.fillna(0)"
   ],
   "metadata": {
    "collapsed": false,
    "pycharm": {
     "name": "#%%\n"
    }
   }
  },
  {
   "cell_type": "code",
   "execution_count": 70,
   "outputs": [],
   "source": [
    "df_21 = df_21.select_dtypes(include=np.number)"
   ],
   "metadata": {
    "collapsed": false,
    "pycharm": {
     "name": "#%%\n"
    }
   }
  },
  {
   "cell_type": "code",
   "execution_count": 72,
   "outputs": [],
   "source": [
    "df_21 = df_21.loc[:, (df_21 != 0).any(axis=0)]"
   ],
   "metadata": {
    "collapsed": false,
    "pycharm": {
     "name": "#%%\n"
    }
   }
  },
  {
   "cell_type": "code",
   "execution_count": 75,
   "outputs": [
    {
     "data": {
      "text/plain": "     assist_percentage  assists  assists_per_poss  block_percentage  blocks  \\\n1                 28.7    357.0               8.3               3.2    73.0   \n2                 10.3     46.0               3.9               1.6    10.0   \n3                 22.2    188.0               7.8               0.1     1.0   \n4                 12.6      3.0               4.4               2.8     1.0   \n5                  6.3     81.0               2.4               1.3    23.0   \n..                 ...      ...               ...               ...     ...   \n621                6.5      4.0               2.2               5.2     5.0   \n622               18.1    150.0               6.4               2.1    26.0   \n623               22.5    174.0               7.9               1.0    11.0   \n624               10.9    167.0               3.3               2.6    70.0   \n625                4.9     26.0               1.5               3.8    36.0   \n\n     blocks_per_poss  box_plus_minus  defensive_box_plus_minus  \\\n1                1.7             9.0                       2.8   \n2                0.9            -3.5                       0.2   \n3                0.0            -2.1                      -1.5   \n4                1.5            -7.3                      -3.4   \n5                0.7             0.0                       0.5   \n..               ...             ...                       ...   \n621              2.8            -5.3                      -0.4   \n622              1.1             0.8                       2.2   \n623              0.5            -4.0                       0.3   \n624              1.4            -0.4                      -0.4   \n625              2.0            -5.0                      -1.0   \n\n     defensive_rebound_percentage  defensive_rebounds  ...  \\\n1                            28.9               574.0  ...   \n2                            12.9                70.0  ...   \n3                             7.0                74.0  ...   \n4                            12.7                 4.0  ...   \n5                            17.3               269.0  ...   \n..                            ...                 ...  ...   \n621                          12.5                10.0  ...   \n622                          19.5               205.0  ...   \n623                           8.8                87.0  ...   \n624                          11.8               265.0  ...   \n625                          21.5               171.0  ...   \n\n     two_point_attempts  two_point_attempts_per_poss  two_point_percentage  \\\n1                 879.0                         20.5                 0.636   \n2                 108.0                          9.2                 0.556   \n3                 126.0                          5.3                 0.413   \n4                   8.0                         11.7                 0.625   \n5                 115.0                          3.4                 0.583   \n..                  ...                          ...                   ...   \n621                17.0                          9.5                 0.412   \n622               117.0                          5.0                 0.718   \n623               214.0                          9.7                 0.463   \n624               690.0                         13.7                 0.529   \n625               330.0                         18.5                 0.542   \n\n     two_pointers  two_pointers_per_poss  usage_percentage  \\\n1           559.0                   13.0              32.5   \n2            60.0                    5.1              15.3   \n3            52.0                    2.2              16.8   \n4             5.0                    7.3              24.0   \n5            67.0                    2.0              11.6   \n..            ...                    ...               ...   \n621           7.0                    3.9              17.6   \n622          84.0                    3.6              11.0   \n623          99.0                    4.5              16.9   \n624         365.0                    7.3              23.3   \n625         179.0                   10.1              23.8   \n\n     value_over_replacement_player  weight  win_shares  \\\n1                              5.6     242        10.2   \n2                             -0.2     219         0.7   \n3                              0.0     183         2.1   \n4                              0.0     210         0.0   \n5                              0.8     209         3.5   \n..                             ...     ...         ...   \n621                           -0.1     215         0.0   \n622                            0.8     209         3.0   \n623                           -0.5     210         0.9   \n624                            1.0     197         3.9   \n625                           -0.6     240         0.7   \n\n     win_shares_per_48_minutes  \n1                        0.244  \n2                        0.057  \n3                        0.088  \n4                        0.008  \n5                        0.108  \n..                         ...  \n621                      0.015  \n622                      0.130  \n623                      0.039  \n624                      0.080  \n625                      0.042  \n\n[566 rows x 75 columns]",
      "text/html": "<div>\n<style scoped>\n    .dataframe tbody tr th:only-of-type {\n        vertical-align: middle;\n    }\n\n    .dataframe tbody tr th {\n        vertical-align: top;\n    }\n\n    .dataframe thead th {\n        text-align: right;\n    }\n</style>\n<table border=\"1\" class=\"dataframe\">\n  <thead>\n    <tr style=\"text-align: right;\">\n      <th></th>\n      <th>assist_percentage</th>\n      <th>assists</th>\n      <th>assists_per_poss</th>\n      <th>block_percentage</th>\n      <th>blocks</th>\n      <th>blocks_per_poss</th>\n      <th>box_plus_minus</th>\n      <th>defensive_box_plus_minus</th>\n      <th>defensive_rebound_percentage</th>\n      <th>defensive_rebounds</th>\n      <th>...</th>\n      <th>two_point_attempts</th>\n      <th>two_point_attempts_per_poss</th>\n      <th>two_point_percentage</th>\n      <th>two_pointers</th>\n      <th>two_pointers_per_poss</th>\n      <th>usage_percentage</th>\n      <th>value_over_replacement_player</th>\n      <th>weight</th>\n      <th>win_shares</th>\n      <th>win_shares_per_48_minutes</th>\n    </tr>\n  </thead>\n  <tbody>\n    <tr>\n      <th>1</th>\n      <td>28.7</td>\n      <td>357.0</td>\n      <td>8.3</td>\n      <td>3.2</td>\n      <td>73.0</td>\n      <td>1.7</td>\n      <td>9.0</td>\n      <td>2.8</td>\n      <td>28.9</td>\n      <td>574.0</td>\n      <td>...</td>\n      <td>879.0</td>\n      <td>20.5</td>\n      <td>0.636</td>\n      <td>559.0</td>\n      <td>13.0</td>\n      <td>32.5</td>\n      <td>5.6</td>\n      <td>242</td>\n      <td>10.2</td>\n      <td>0.244</td>\n    </tr>\n    <tr>\n      <th>2</th>\n      <td>10.3</td>\n      <td>46.0</td>\n      <td>3.9</td>\n      <td>1.6</td>\n      <td>10.0</td>\n      <td>0.9</td>\n      <td>-3.5</td>\n      <td>0.2</td>\n      <td>12.9</td>\n      <td>70.0</td>\n      <td>...</td>\n      <td>108.0</td>\n      <td>9.2</td>\n      <td>0.556</td>\n      <td>60.0</td>\n      <td>5.1</td>\n      <td>15.3</td>\n      <td>-0.2</td>\n      <td>219</td>\n      <td>0.7</td>\n      <td>0.057</td>\n    </tr>\n    <tr>\n      <th>3</th>\n      <td>22.2</td>\n      <td>188.0</td>\n      <td>7.8</td>\n      <td>0.1</td>\n      <td>1.0</td>\n      <td>0.0</td>\n      <td>-2.1</td>\n      <td>-1.5</td>\n      <td>7.0</td>\n      <td>74.0</td>\n      <td>...</td>\n      <td>126.0</td>\n      <td>5.3</td>\n      <td>0.413</td>\n      <td>52.0</td>\n      <td>2.2</td>\n      <td>16.8</td>\n      <td>0.0</td>\n      <td>183</td>\n      <td>2.1</td>\n      <td>0.088</td>\n    </tr>\n    <tr>\n      <th>4</th>\n      <td>12.6</td>\n      <td>3.0</td>\n      <td>4.4</td>\n      <td>2.8</td>\n      <td>1.0</td>\n      <td>1.5</td>\n      <td>-7.3</td>\n      <td>-3.4</td>\n      <td>12.7</td>\n      <td>4.0</td>\n      <td>...</td>\n      <td>8.0</td>\n      <td>11.7</td>\n      <td>0.625</td>\n      <td>5.0</td>\n      <td>7.3</td>\n      <td>24.0</td>\n      <td>0.0</td>\n      <td>210</td>\n      <td>0.0</td>\n      <td>0.008</td>\n    </tr>\n    <tr>\n      <th>5</th>\n      <td>6.3</td>\n      <td>81.0</td>\n      <td>2.4</td>\n      <td>1.3</td>\n      <td>23.0</td>\n      <td>0.7</td>\n      <td>0.0</td>\n      <td>0.5</td>\n      <td>17.3</td>\n      <td>269.0</td>\n      <td>...</td>\n      <td>115.0</td>\n      <td>3.4</td>\n      <td>0.583</td>\n      <td>67.0</td>\n      <td>2.0</td>\n      <td>11.6</td>\n      <td>0.8</td>\n      <td>209</td>\n      <td>3.5</td>\n      <td>0.108</td>\n    </tr>\n    <tr>\n      <th>...</th>\n      <td>...</td>\n      <td>...</td>\n      <td>...</td>\n      <td>...</td>\n      <td>...</td>\n      <td>...</td>\n      <td>...</td>\n      <td>...</td>\n      <td>...</td>\n      <td>...</td>\n      <td>...</td>\n      <td>...</td>\n      <td>...</td>\n      <td>...</td>\n      <td>...</td>\n      <td>...</td>\n      <td>...</td>\n      <td>...</td>\n      <td>...</td>\n      <td>...</td>\n      <td>...</td>\n    </tr>\n    <tr>\n      <th>621</th>\n      <td>6.5</td>\n      <td>4.0</td>\n      <td>2.2</td>\n      <td>5.2</td>\n      <td>5.0</td>\n      <td>2.8</td>\n      <td>-5.3</td>\n      <td>-0.4</td>\n      <td>12.5</td>\n      <td>10.0</td>\n      <td>...</td>\n      <td>17.0</td>\n      <td>9.5</td>\n      <td>0.412</td>\n      <td>7.0</td>\n      <td>3.9</td>\n      <td>17.6</td>\n      <td>-0.1</td>\n      <td>215</td>\n      <td>0.0</td>\n      <td>0.015</td>\n    </tr>\n    <tr>\n      <th>622</th>\n      <td>18.1</td>\n      <td>150.0</td>\n      <td>6.4</td>\n      <td>2.1</td>\n      <td>26.0</td>\n      <td>1.1</td>\n      <td>0.8</td>\n      <td>2.2</td>\n      <td>19.5</td>\n      <td>205.0</td>\n      <td>...</td>\n      <td>117.0</td>\n      <td>5.0</td>\n      <td>0.718</td>\n      <td>84.0</td>\n      <td>3.6</td>\n      <td>11.0</td>\n      <td>0.8</td>\n      <td>209</td>\n      <td>3.0</td>\n      <td>0.130</td>\n    </tr>\n    <tr>\n      <th>623</th>\n      <td>22.5</td>\n      <td>174.0</td>\n      <td>7.9</td>\n      <td>1.0</td>\n      <td>11.0</td>\n      <td>0.5</td>\n      <td>-4.0</td>\n      <td>0.3</td>\n      <td>8.8</td>\n      <td>87.0</td>\n      <td>...</td>\n      <td>214.0</td>\n      <td>9.7</td>\n      <td>0.463</td>\n      <td>99.0</td>\n      <td>4.5</td>\n      <td>16.9</td>\n      <td>-0.5</td>\n      <td>210</td>\n      <td>0.9</td>\n      <td>0.039</td>\n    </tr>\n    <tr>\n      <th>624</th>\n      <td>10.9</td>\n      <td>167.0</td>\n      <td>3.3</td>\n      <td>2.6</td>\n      <td>70.0</td>\n      <td>1.4</td>\n      <td>-0.4</td>\n      <td>-0.4</td>\n      <td>11.8</td>\n      <td>265.0</td>\n      <td>...</td>\n      <td>690.0</td>\n      <td>13.7</td>\n      <td>0.529</td>\n      <td>365.0</td>\n      <td>7.3</td>\n      <td>23.3</td>\n      <td>1.0</td>\n      <td>197</td>\n      <td>3.9</td>\n      <td>0.080</td>\n    </tr>\n    <tr>\n      <th>625</th>\n      <td>4.9</td>\n      <td>26.0</td>\n      <td>1.5</td>\n      <td>3.8</td>\n      <td>36.0</td>\n      <td>2.0</td>\n      <td>-5.0</td>\n      <td>-1.0</td>\n      <td>21.5</td>\n      <td>171.0</td>\n      <td>...</td>\n      <td>330.0</td>\n      <td>18.5</td>\n      <td>0.542</td>\n      <td>179.0</td>\n      <td>10.1</td>\n      <td>23.8</td>\n      <td>-0.6</td>\n      <td>240</td>\n      <td>0.7</td>\n      <td>0.042</td>\n    </tr>\n  </tbody>\n</table>\n<p>566 rows × 75 columns</p>\n</div>"
     },
     "execution_count": 75,
     "metadata": {},
     "output_type": "execute_result"
    }
   ],
   "source": [
    "df_21"
   ],
   "metadata": {
    "collapsed": false,
    "pycharm": {
     "name": "#%%\n"
    }
   }
  },
  {
   "cell_type": "code",
   "execution_count": 82,
   "outputs": [],
   "source": [
    "X_train, X_test, y_train, y_test = train_test_split(\n",
    "    df.drop([\"salary\"], axis = 1),\n",
    "    df[['salary']].values.ravel(), test_size=0.2, random_state=0\n",
    ")"
   ],
   "metadata": {
    "collapsed": false,
    "pycharm": {
     "name": "#%%\n"
    }
   }
  },
  {
   "cell_type": "code",
   "execution_count": 83,
   "outputs": [
    {
     "name": "stderr",
     "output_type": "stream",
     "text": [
      "C:\\Users\\nael3\\anaconda3\\lib\\site-packages\\sklearn\\linear_model\\_coordinate_descent.py:529: ConvergenceWarning: Objective did not converge. You might want to increase the number of iterations. Duality gap: 6508699270689675.0, tolerance: 3868342017471.385\n",
      "  model = cd_fast.enet_coordinate_descent(\n"
     ]
    },
    {
     "data": {
      "text/plain": "['assist_percentage',\n 'assists',\n 'assists_per_poss',\n 'block_percentage',\n 'blocks',\n 'blocks_per_poss',\n 'box_plus_minus',\n 'defensive_box_plus_minus',\n 'defensive_rebound_percentage',\n 'defensive_rebounds',\n 'defensive_rebounds_per_poss',\n 'defensive_win_shares',\n 'effective_field_goal_percentage',\n 'field_goal_attempts',\n 'field_goal_attempts_per_poss',\n 'field_goal_perc_sixteen_foot_plus_two_pointers',\n 'field_goal_perc_ten_to_sixteen_feet',\n 'field_goal_perc_three_to_ten_feet',\n 'field_goal_perc_zero_to_three_feet',\n 'field_goal_percentage',\n 'field_goals',\n 'field_goals_per_poss',\n 'free_throw_attempt_rate',\n 'free_throw_attempts',\n 'free_throw_attempts_per_poss',\n 'free_throw_percentage',\n 'free_throws',\n 'free_throws_per_poss',\n 'games_played',\n 'games_started',\n 'half_court_heaves',\n 'half_court_heaves_made',\n 'minutes_played',\n 'offensive_box_plus_minus',\n 'offensive_rebound_percentage',\n 'offensive_rebounds',\n 'offensive_rebounds_per_poss',\n 'offensive_win_shares',\n 'percentage_sixteen_foot_plus_two_pointers',\n 'percentage_ten_to_sixteen_footers',\n 'percentage_three_to_ten_footers',\n 'percentage_zero_to_three_footers',\n 'personal_fouls',\n 'personal_fouls_per_poss',\n 'player_efficiency_rating',\n 'points',\n 'points_per_poss',\n 'shooting_distance',\n 'steal_percentage',\n 'steals',\n 'steals_per_poss',\n 'three_point_attempt_rate',\n 'three_point_attempts',\n 'three_point_attempts_per_poss',\n 'three_point_percentage',\n 'three_pointers',\n 'three_pointers_per_poss',\n 'total_rebound_percentage',\n 'total_rebounds',\n 'total_rebounds_per_poss',\n 'true_shooting_percentage',\n 'turnover_percentage',\n 'turnovers',\n 'turnovers_per_poss',\n 'two_point_attempts',\n 'two_point_attempts_per_poss',\n 'two_point_percentage',\n 'two_pointers',\n 'two_pointers_per_poss',\n 'usage_percentage',\n 'value_over_replacement_player',\n 'weight',\n 'win_shares',\n 'win_shares_per_48_minutes']"
     },
     "execution_count": 83,
     "metadata": {},
     "output_type": "execute_result"
    }
   ],
   "source": [
    "lasso1 = Lasso(fit_intercept=True,normalize=False,alpha = 0.1).fit(X_train,y_train)\n",
    "\n",
    "features_selec = df.select_dtypes(include=np.number).drop(\"salary\", axis = 1).columns[np.abs(lasso1.coef_)>0].tolist()\n",
    "features_selec"
   ],
   "metadata": {
    "collapsed": false,
    "pycharm": {
     "name": "#%%\n"
    }
   }
  },
  {
   "cell_type": "code",
   "execution_count": 78,
   "outputs": [
    {
     "data": {
      "text/plain": "74"
     },
     "execution_count": 78,
     "metadata": {},
     "output_type": "execute_result"
    }
   ],
   "source": [
    "len(features_selec)"
   ],
   "metadata": {
    "collapsed": false,
    "pycharm": {
     "name": "#%%\n"
    }
   }
  },
  {
   "cell_type": "code",
   "execution_count": 80,
   "outputs": [],
   "source": [
    "import statsmodels.api as sm"
   ],
   "metadata": {
    "collapsed": false,
    "pycharm": {
     "name": "#%%\n"
    }
   }
  },
  {
   "cell_type": "code",
   "execution_count": 85,
   "outputs": [],
   "source": [
    "mod = sm.OLS(y_train, X_train)\n",
    "res = mod.fit()"
   ],
   "metadata": {
    "collapsed": false,
    "pycharm": {
     "name": "#%%\n"
    }
   }
  },
  {
   "cell_type": "code",
   "execution_count": 87,
   "outputs": [
    {
     "name": "stdout",
     "output_type": "stream",
     "text": [
      "                                 OLS Regression Results                                \n",
      "=======================================================================================\n",
      "Dep. Variable:                      y   R-squared (uncentered):                   0.435\n",
      "Model:                            OLS   Adj. R-squared (uncentered):              0.332\n",
      "Method:                 Least Squares   F-statistic:                              4.203\n",
      "Date:                Tue, 04 Jan 2022   Prob (F-statistic):                    6.56e-20\n",
      "Time:                        14:46:28   Log-Likelihood:                         -7885.3\n",
      "No. Observations:                 452   AIC:                                  1.591e+04\n",
      "Df Residuals:                     382   BIC:                                  1.620e+04\n",
      "Df Model:                          70                                                  \n",
      "Covariance Type:            nonrobust                                                  \n",
      "==================================================================================================================\n",
      "                                                     coef    std err          t      P>|t|      [0.025      0.975]\n",
      "------------------------------------------------------------------------------------------------------------------\n",
      "assist_percentage                               6.321e+06   5.54e+06      1.142      0.254   -4.56e+06    1.72e+07\n",
      "assists                                          1.54e+07   4.84e+06      3.179      0.002    5.87e+06    2.49e+07\n",
      "assists_per_poss                                -1.51e+07   7.67e+06     -1.968      0.050   -3.02e+07   -1.26e+04\n",
      "block_percentage                               -6.437e+06   6.78e+06     -0.950      0.343   -1.98e+07    6.89e+06\n",
      "blocks                                          4.703e+06   1.55e+06      3.042      0.003    1.66e+06    7.74e+06\n",
      "blocks_per_poss                                 6.947e+05   7.34e+06      0.095      0.925   -1.37e+07    1.51e+07\n",
      "box_plus_minus                                  1.454e+07   4.47e+07      0.325      0.745   -7.34e+07    1.03e+08\n",
      "defensive_box_plus_minus                       -4.001e+06   1.44e+07     -0.278      0.781   -3.23e+07    2.43e+07\n",
      "defensive_rebound_percentage                   -1.541e+07   1.83e+07     -0.842      0.400   -5.14e+07    2.06e+07\n",
      "defensive_rebounds                              9.791e+05   1.97e+06      0.496      0.620    -2.9e+06    4.86e+06\n",
      "defensive_rebounds_per_poss                    -2.696e+06   3.22e+07     -0.084      0.933    -6.6e+07    6.06e+07\n",
      "defensive_win_shares                           -1.655e+06   9.26e+06     -0.179      0.858   -1.99e+07    1.66e+07\n",
      "effective_field_goal_percentage                 3.347e+07   1.89e+07      1.775      0.077   -3.61e+06    7.06e+07\n",
      "field_goal_attempts                            -1.594e+07   8.34e+06     -1.910      0.057   -3.23e+07    4.67e+05\n",
      "field_goal_attempts_per_poss                     4.92e+07   5.16e+07      0.953      0.341   -5.23e+07    1.51e+08\n",
      "field_goal_perc_sixteen_foot_plus_two_pointers  3.682e+05   6.17e+05      0.597      0.551   -8.45e+05    1.58e+06\n",
      "field_goal_perc_ten_to_sixteen_feet             2.956e+04   6.57e+05      0.045      0.964   -1.26e+06    1.32e+06\n",
      "field_goal_perc_three_to_ten_feet                1.34e+06   7.74e+05      1.732      0.084   -1.81e+05    2.86e+06\n",
      "field_goal_perc_zero_to_three_feet              2.109e+06   8.76e+05      2.406      0.017    3.86e+05    3.83e+06\n",
      "field_goal_percentage                          -3.615e+07   1.81e+07     -2.001      0.046   -7.17e+07   -6.35e+05\n",
      "field_goals                                     1.346e+07   6.63e+06      2.032      0.043    4.34e+05    2.65e+07\n",
      "field_goals_per_poss                             2.93e+07   4.34e+07      0.676      0.500    -5.6e+07    1.15e+08\n",
      "free_throw_attempt_rate                         2.592e+06   1.51e+06      1.717      0.087   -3.75e+05    5.56e+06\n",
      "free_throw_attempts                            -1.637e+07   7.23e+06     -2.265      0.024   -3.06e+07   -2.16e+06\n",
      "free_throw_attempts_per_poss                    3.229e+06   6.53e+06      0.494      0.621   -9.61e+06    1.61e+07\n",
      "free_throw_percentage                           5.584e+04   9.79e+05      0.057      0.955   -1.87e+06    1.98e+06\n",
      "free_throws                                     2.041e+07   8.26e+06      2.471      0.014    4.17e+06    3.67e+07\n",
      "free_throws_per_poss                            2.115e+06   1.37e+07      0.154      0.878   -2.49e+07    2.91e+07\n",
      "games_played                                   -2.199e+06   1.52e+06     -1.444      0.150   -5.19e+06    7.96e+05\n",
      "games_started                                   9.122e+05   1.19e+06      0.765      0.445   -1.43e+06    3.26e+06\n",
      "half_court_heaves                               8.927e+05   6.05e+05      1.477      0.141   -2.96e+05    2.08e+06\n",
      "half_court_heaves_made                         -7.423e+05   6.12e+05     -1.212      0.226   -1.95e+06    4.62e+05\n",
      "minutes_played                                 -9.425e+06   5.63e+06     -1.675      0.095   -2.05e+07    1.64e+06\n",
      "offensive_box_plus_minus                        1.762e+06   3.82e+07      0.046      0.963   -7.34e+07    7.69e+07\n",
      "offensive_rebound_percentage                   -8.061e+06   2.22e+07     -0.364      0.716   -5.16e+07    3.55e+07\n",
      "offensive_rebounds                              3.484e+06    2.5e+06      1.391      0.165   -1.44e+06    8.41e+06\n",
      "offensive_rebounds_per_poss                    -8.566e+06   2.01e+07     -0.427      0.670    -4.8e+07    3.09e+07\n",
      "offensive_win_shares                           -1.095e+07   1.81e+07     -0.605      0.546   -4.65e+07    2.47e+07\n",
      "percentage_sixteen_foot_plus_two_pointers      -8.507e+05   4.24e+07     -0.020      0.984   -8.43e+07    8.26e+07\n",
      "percentage_ten_to_sixteen_footers              -4.542e+06   4.92e+07     -0.092      0.927   -1.01e+08    9.23e+07\n",
      "percentage_three_to_ten_footers                 -7.93e+06   7.41e+07     -0.107      0.915   -1.54e+08    1.38e+08\n",
      "percentage_zero_to_three_footers               -1.546e+07   1.38e+08     -0.112      0.911   -2.88e+08    2.57e+08\n",
      "personal_fouls                                 -2.176e+05   1.93e+06     -0.113      0.910   -4.01e+06    3.58e+06\n",
      "personal_fouls_per_poss                         2.922e+06   2.41e+06      1.214      0.225   -1.81e+06    7.65e+06\n",
      "player_efficiency_rating                        1.516e+07   2.15e+07      0.706      0.481   -2.71e+07    5.74e+07\n",
      "points                                          1.587e+07   6.67e+06      2.381      0.018    2.76e+06     2.9e+07\n",
      "points_per_poss                                 -4.98e+07   5.21e+07     -0.955      0.340   -1.52e+08    5.27e+07\n",
      "shooting_distance                              -1.374e+07   9.62e+06     -1.428      0.154   -3.26e+07    5.18e+06\n",
      "steal_percentage                               -2.778e+07   4.59e+07     -0.605      0.545   -1.18e+08    6.24e+07\n",
      "steals                                          5.783e+05   2.06e+06      0.281      0.779   -3.47e+06    4.63e+06\n",
      "steals_per_poss                                 2.623e+07   4.57e+07      0.574      0.566   -6.35e+07    1.16e+08\n",
      "three_point_attempt_rate                       -1.862e+07   1.73e+08     -0.107      0.915    -3.6e+08    3.22e+08\n",
      "three_point_attempts                           -1.288e+07   7.17e+06     -1.796      0.073    -2.7e+07    1.22e+06\n",
      "three_point_attempts_per_poss                  -1.121e+07   3.79e+07     -0.296      0.768   -8.57e+07    6.33e+07\n",
      "three_point_percentage                          2.558e+04   8.21e+05      0.031      0.975   -1.59e+06    1.64e+06\n",
      "three_pointers                                  1.548e+07   7.28e+06      2.126      0.034    1.16e+06    2.98e+07\n",
      "three_pointers_per_poss                        -2.412e+07   2.22e+07     -1.088      0.277   -6.77e+07    1.95e+07\n",
      "total_rebound_percentage                        3.485e+07   3.36e+07      1.036      0.301   -3.13e+07    1.01e+08\n",
      "total_rebounds                                  1.747e+06   1.25e+06      1.394      0.164   -7.17e+05    4.21e+06\n",
      "total_rebounds_per_poss                        -1.159e+07   4.52e+07     -0.256      0.798   -1.01e+08    7.74e+07\n",
      "true_shooting_percentage                       -4.036e+06   7.45e+06     -0.542      0.588   -1.87e+07    1.06e+07\n",
      "turnover_percentage                            -1.073e+05    1.6e+06     -0.067      0.947   -3.25e+06    3.04e+06\n",
      "turnovers                                      -1.265e+07   5.03e+06     -2.518      0.012   -2.25e+07   -2.77e+06\n",
      "turnovers_per_poss                              1.336e+07    9.2e+06      1.452      0.147   -4.74e+06    3.14e+07\n",
      "two_point_attempts                             -1.462e+07   9.27e+06     -1.577      0.116   -3.28e+07    3.61e+06\n",
      "two_point_attempts_per_poss                     -3.06e+07   4.81e+07     -0.636      0.525   -1.25e+08    6.41e+07\n",
      "two_point_percentage                           -1.507e+06   1.77e+06     -0.851      0.395   -4.99e+06    1.97e+06\n",
      "two_pointers                                    9.869e+06   6.52e+06      1.513      0.131   -2.96e+06    2.27e+07\n",
      "two_pointers_per_poss                          -1.992e+07   3.36e+07     -0.593      0.553   -8.59e+07    4.61e+07\n",
      "usage_percentage                                4.033e+06   2.07e+07      0.195      0.846   -3.67e+07    4.48e+07\n",
      "value_over_replacement_player                  -6.576e+06   3.86e+06     -1.703      0.089   -1.42e+07    1.02e+06\n",
      "weight                                          1.793e+06   7.38e+05      2.431      0.016    3.43e+05    3.24e+06\n",
      "win_shares                                       5.63e+06   2.46e+07      0.229      0.819   -4.28e+07    5.41e+07\n",
      "win_shares_per_48_minutes                       2.906e+06   6.49e+06      0.448      0.655   -9.86e+06    1.57e+07\n",
      "==============================================================================\n",
      "Omnibus:                       15.424   Durbin-Watson:                   0.642\n",
      "Prob(Omnibus):                  0.000   Jarque-Bera (JB):               26.982\n",
      "Skew:                           0.206   Prob(JB):                     1.38e-06\n",
      "Kurtosis:                       4.123   Cond. No.                     1.61e+16\n",
      "==============================================================================\n",
      "\n",
      "Warnings:\n",
      "[1] Standard Errors assume that the covariance matrix of the errors is correctly specified.\n",
      "[2] The smallest eigenvalue is 4.37e-29. This might indicate that there are\n",
      "strong multicollinearity problems or that the design matrix is singular.\n"
     ]
    }
   ],
   "source": [
    "print(res.summary())"
   ],
   "metadata": {
    "collapsed": false,
    "pycharm": {
     "name": "#%%\n"
    }
   }
  }
 ],
 "metadata": {
  "kernelspec": {
   "display_name": "Python 3",
   "language": "python",
   "name": "python3"
  },
  "language_info": {
   "codemirror_mode": {
    "name": "ipython",
    "version": 2
   },
   "file_extension": ".py",
   "mimetype": "text/x-python",
   "name": "python",
   "nbconvert_exporter": "python",
   "pygments_lexer": "ipython2",
   "version": "2.7.6"
  }
 },
 "nbformat": 4,
 "nbformat_minor": 0
}