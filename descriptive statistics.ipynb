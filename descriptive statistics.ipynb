{
 "cells": [
  {
   "cell_type": "code",
   "execution_count": 1,
   "metadata": {
    "collapsed": true
   },
   "outputs": [],
   "source": [
    "import pandas as pd"
   ]
  },
  {
   "cell_type": "code",
   "execution_count": 3,
   "outputs": [],
   "source": [
    "df_21= pd.read_csv('data\\data21.csv')\n",
    "df_20= pd.read_csv('data\\data20.csv')\n",
    "df_19= pd.read_csv('data\\data19.csv')"
   ],
   "metadata": {
    "collapsed": false,
    "pycharm": {
     "name": "#%%\n"
    }
   }
  },
  {
   "cell_type": "code",
   "execution_count": 11,
   "outputs": [
    {
     "data": {
      "text/plain": "     games_played                 name\n558          64.0           Alec Burks\n559          43.0      Marquese Chriss\n560          81.0      Jordan Clarkson\n561          47.0           Sam Dekker\n562          48.0  Matthew Dellavedova\n563          36.0        Channing Frye\n565          60.0          George Hill\n567          72.0          Rodney Hood\n569          39.0       Brandon Knight\n570          70.0          Kyle Korver\n573          67.0      Larry Nance Jr.\n574          51.0          David Nwaba\n575          76.0           Cedi Osman\n576          40.0        Cameron Payne\n577          82.0        Collin Sexton\n580          68.0         Nik Stauskas\n581          43.0     Tristan Thompson\n582          59.0           Ante Žižić",
      "text/html": "<div>\n<style scoped>\n    .dataframe tbody tr th:only-of-type {\n        vertical-align: middle;\n    }\n\n    .dataframe tbody tr th {\n        vertical-align: top;\n    }\n\n    .dataframe thead th {\n        text-align: right;\n    }\n</style>\n<table border=\"1\" class=\"dataframe\">\n  <thead>\n    <tr style=\"text-align: right;\">\n      <th></th>\n      <th>games_played</th>\n      <th>name</th>\n    </tr>\n  </thead>\n  <tbody>\n    <tr>\n      <th>558</th>\n      <td>64.0</td>\n      <td>Alec Burks</td>\n    </tr>\n    <tr>\n      <th>559</th>\n      <td>43.0</td>\n      <td>Marquese Chriss</td>\n    </tr>\n    <tr>\n      <th>560</th>\n      <td>81.0</td>\n      <td>Jordan Clarkson</td>\n    </tr>\n    <tr>\n      <th>561</th>\n      <td>47.0</td>\n      <td>Sam Dekker</td>\n    </tr>\n    <tr>\n      <th>562</th>\n      <td>48.0</td>\n      <td>Matthew Dellavedova</td>\n    </tr>\n    <tr>\n      <th>563</th>\n      <td>36.0</td>\n      <td>Channing Frye</td>\n    </tr>\n    <tr>\n      <th>565</th>\n      <td>60.0</td>\n      <td>George Hill</td>\n    </tr>\n    <tr>\n      <th>567</th>\n      <td>72.0</td>\n      <td>Rodney Hood</td>\n    </tr>\n    <tr>\n      <th>569</th>\n      <td>39.0</td>\n      <td>Brandon Knight</td>\n    </tr>\n    <tr>\n      <th>570</th>\n      <td>70.0</td>\n      <td>Kyle Korver</td>\n    </tr>\n    <tr>\n      <th>573</th>\n      <td>67.0</td>\n      <td>Larry Nance Jr.</td>\n    </tr>\n    <tr>\n      <th>574</th>\n      <td>51.0</td>\n      <td>David Nwaba</td>\n    </tr>\n    <tr>\n      <th>575</th>\n      <td>76.0</td>\n      <td>Cedi Osman</td>\n    </tr>\n    <tr>\n      <th>576</th>\n      <td>40.0</td>\n      <td>Cameron Payne</td>\n    </tr>\n    <tr>\n      <th>577</th>\n      <td>82.0</td>\n      <td>Collin Sexton</td>\n    </tr>\n    <tr>\n      <th>580</th>\n      <td>68.0</td>\n      <td>Nik Stauskas</td>\n    </tr>\n    <tr>\n      <th>581</th>\n      <td>43.0</td>\n      <td>Tristan Thompson</td>\n    </tr>\n    <tr>\n      <th>582</th>\n      <td>59.0</td>\n      <td>Ante Žižić</td>\n    </tr>\n  </tbody>\n</table>\n</div>"
     },
     "execution_count": 11,
     "metadata": {},
     "output_type": "execute_result"
    }
   ],
   "source": [
    "df_19[(df_19['team']=='CLE') & (df_19['games_played']>30)][['games_played','name']]\n",
    "# pb pour les joueurs transférés en cours de saison, games_played vaut le total joué dans les différentes équipes au cours de la saison"
   ],
   "metadata": {
    "collapsed": false,
    "pycharm": {
     "name": "#%%\n"
    }
   }
  },
  {
   "cell_type": "code",
   "execution_count": 12,
   "outputs": [
    {
     "data": {
      "text/plain": "     and_ones  assist_percentage  assists  assists_per_poss  block_percentage  \\\n431       NaN                8.9     81.0               2.9               0.7   \n570       NaN                8.9     81.0               2.9               0.7   \n\n     blocking_fouls  blocks  blocks_per_poss  box_plus_minus  \\\n431             NaN    12.0              0.4            -0.5   \n570             NaN    12.0              0.4            -0.5   \n\n     center_percentage  ...  two_pointers  two_pointers_per_poss  \\\n431                  0  ...          63.0                    2.3   \n570                  0  ...          63.0                    2.3   \n\n     two_pointers_assisted_percentage  usage_percentage  \\\n431                               NaN              18.5   \n570                               NaN              18.5   \n\n     value_over_replacement_player  weight  win_shares  \\\n431                            0.5     212         2.3   \n570                            0.5     212         2.3   \n\n     win_shares_per_48_minutes         name  team  \n431                      0.082  Kyle Korver   UTA  \n570                      0.082  Kyle Korver   CLE  \n\n[2 rows x 108 columns]",
      "text/html": "<div>\n<style scoped>\n    .dataframe tbody tr th:only-of-type {\n        vertical-align: middle;\n    }\n\n    .dataframe tbody tr th {\n        vertical-align: top;\n    }\n\n    .dataframe thead th {\n        text-align: right;\n    }\n</style>\n<table border=\"1\" class=\"dataframe\">\n  <thead>\n    <tr style=\"text-align: right;\">\n      <th></th>\n      <th>and_ones</th>\n      <th>assist_percentage</th>\n      <th>assists</th>\n      <th>assists_per_poss</th>\n      <th>block_percentage</th>\n      <th>blocking_fouls</th>\n      <th>blocks</th>\n      <th>blocks_per_poss</th>\n      <th>box_plus_minus</th>\n      <th>center_percentage</th>\n      <th>...</th>\n      <th>two_pointers</th>\n      <th>two_pointers_per_poss</th>\n      <th>two_pointers_assisted_percentage</th>\n      <th>usage_percentage</th>\n      <th>value_over_replacement_player</th>\n      <th>weight</th>\n      <th>win_shares</th>\n      <th>win_shares_per_48_minutes</th>\n      <th>name</th>\n      <th>team</th>\n    </tr>\n  </thead>\n  <tbody>\n    <tr>\n      <th>431</th>\n      <td>NaN</td>\n      <td>8.9</td>\n      <td>81.0</td>\n      <td>2.9</td>\n      <td>0.7</td>\n      <td>NaN</td>\n      <td>12.0</td>\n      <td>0.4</td>\n      <td>-0.5</td>\n      <td>0</td>\n      <td>...</td>\n      <td>63.0</td>\n      <td>2.3</td>\n      <td>NaN</td>\n      <td>18.5</td>\n      <td>0.5</td>\n      <td>212</td>\n      <td>2.3</td>\n      <td>0.082</td>\n      <td>Kyle Korver</td>\n      <td>UTA</td>\n    </tr>\n    <tr>\n      <th>570</th>\n      <td>NaN</td>\n      <td>8.9</td>\n      <td>81.0</td>\n      <td>2.9</td>\n      <td>0.7</td>\n      <td>NaN</td>\n      <td>12.0</td>\n      <td>0.4</td>\n      <td>-0.5</td>\n      <td>0</td>\n      <td>...</td>\n      <td>63.0</td>\n      <td>2.3</td>\n      <td>NaN</td>\n      <td>18.5</td>\n      <td>0.5</td>\n      <td>212</td>\n      <td>2.3</td>\n      <td>0.082</td>\n      <td>Kyle Korver</td>\n      <td>CLE</td>\n    </tr>\n  </tbody>\n</table>\n<p>2 rows × 108 columns</p>\n</div>"
     },
     "execution_count": 12,
     "metadata": {},
     "output_type": "execute_result"
    }
   ],
   "source": [
    "df_19[df_19['name']=='Kyle Korver']\n",
    "# joueur transféré apparaît dans les 2 équipes"
   ],
   "metadata": {
    "collapsed": false,
    "pycharm": {
     "name": "#%%\n"
    }
   }
  },
  {
   "cell_type": "markdown",
   "source": [
    "## Stats des sur les variables qui nous intéressent"
   ],
   "metadata": {
    "collapsed": false,
    "pycharm": {
     "name": "#%% md\n"
    }
   }
  },
  {
   "cell_type": "code",
   "execution_count": 16,
   "outputs": [],
   "source": [
    "df_19nd = df_19.groupby('name', group_keys=False).apply(lambda df: df.head(1))\n",
    "# nd pour \"non duplicates\""
   ],
   "metadata": {
    "collapsed": false,
    "pycharm": {
     "name": "#%%\n"
    }
   }
  },
  {
   "cell_type": "code",
   "execution_count": 21,
   "outputs": [],
   "source": [
    "df_20nd = df_20.groupby('name', group_keys=False).apply(lambda df: df.head(1))\n",
    "df_21nd = df_21.groupby('name', group_keys=False).apply(lambda df: df.head(1))"
   ],
   "metadata": {
    "collapsed": false,
    "pycharm": {
     "name": "#%%\n"
    }
   }
  },
  {
   "cell_type": "code",
   "execution_count": 17,
   "outputs": [
    {
     "name": "stdout",
     "output_type": "stream",
     "text": [
      "530 622\n"
     ]
    }
   ],
   "source": [
    "print(len(df_19nd),len(df_19))"
   ],
   "metadata": {
    "collapsed": false,
    "pycharm": {
     "name": "#%%\n"
    }
   }
  },
  {
   "cell_type": "code",
   "execution_count": 30,
   "outputs": [
    {
     "data": {
      "text/plain": "609    37457154.0\n51     35654150.0\n474    35654150.0\n202    35654150.0\n520    32088932.0\n          ...    \n604           NaN\n190           NaN\n301           NaN\n525           NaN\n66            NaN\nName: salary, Length: 530, dtype: float64"
     },
     "execution_count": 30,
     "metadata": {},
     "output_type": "execute_result"
    }
   ],
   "source": [
    "df_19nd['salary'].sort_values(ascending=False)"
   ],
   "metadata": {
    "collapsed": false,
    "pycharm": {
     "name": "#%%\n"
    }
   }
  },
  {
   "cell_type": "code",
   "execution_count": 31,
   "outputs": [
    {
     "data": {
      "text/plain": "575    40231758.0\n446    38506482.0\n197    38506482.0\n188    38199000.0\n45     37436858.0\n          ...    \n230           NaN\n292           NaN\n465           NaN\n277           NaN\n200           NaN\nName: salary, Length: 530, dtype: float64"
     },
     "execution_count": 31,
     "metadata": {},
     "output_type": "execute_result"
    }
   ],
   "source": [
    "df_20nd['salary'].sort_values(ascending=False)"
   ],
   "metadata": {
    "collapsed": false,
    "pycharm": {
     "name": "#%%\n"
    }
   }
  },
  {
   "cell_type": "code",
   "execution_count": 32,
   "outputs": [
    {
     "data": {
      "text/plain": "611    43006362.0\n264    41358814.0\n241    41358814.0\n204    41254920.0\n184    41254920.0\n          ...    \n302           NaN\n423           NaN\n228           NaN\n141           NaN\n220           NaN\nName: salary, Length: 540, dtype: float64"
     },
     "execution_count": 32,
     "metadata": {},
     "output_type": "execute_result"
    }
   ],
   "source": [
    "df_21nd['salary'].sort_values(ascending=False)"
   ],
   "metadata": {
    "collapsed": false,
    "pycharm": {
     "name": "#%%\n"
    }
   }
  },
  {
   "cell_type": "code",
   "execution_count": 37,
   "outputs": [
    {
     "data": {
      "text/plain": "team\nATL      47371.0\nBOS     838464.0\nBRK       4737.0\nCHI      88531.0\nCHO     988464.0\nCLE      76236.0\nDAL     838464.0\nDEN     311070.0\nDET     838464.0\nGSW     486892.0\nHOU     137376.0\nIND     449794.0\nLAC    1349383.0\nLAL      52108.0\nMEM      47371.0\nMIA       9474.0\nMIL     456733.0\nMIN     203695.0\nNOP     194220.0\nNYK      42634.0\nOKC     151587.0\nORL     838464.0\nPHI      92857.0\nPHO     198580.0\nPOR     838464.0\nSAC      94742.0\nSAS      59820.0\nTOR     457418.0\nUTA    1378242.0\nWAS      17092.0\nName: salary, dtype: float64"
     },
     "execution_count": 37,
     "metadata": {},
     "output_type": "execute_result"
    }
   ],
   "source": [
    "df_19nd.groupby('team')['salary'].hist()"
   ],
   "metadata": {
    "collapsed": false,
    "pycharm": {
     "name": "#%%\n"
    }
   }
  }
 ],
 "metadata": {
  "kernelspec": {
   "display_name": "Python 3",
   "language": "python",
   "name": "python3"
  },
  "language_info": {
   "codemirror_mode": {
    "name": "ipython",
    "version": 2
   },
   "file_extension": ".py",
   "mimetype": "text/x-python",
   "name": "python",
   "nbconvert_exporter": "python",
   "pygments_lexer": "ipython2",
   "version": "2.7.6"
  }
 },
 "nbformat": 4,
 "nbformat_minor": 0
}