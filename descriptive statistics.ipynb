{
 "cells": [
  {
   "cell_type": "markdown",
   "source": [
    "# Analyse exploratoire des données"
   ],
   "metadata": {
    "collapsed": false
   }
  },
  {
   "cell_type": "code",
   "execution_count": 1,
   "metadata": {
    "collapsed": true
   },
   "outputs": [],
   "source": [
    "import pandas as pd"
   ]
  },
  {
   "cell_type": "code",
   "execution_count": 3,
   "outputs": [],
   "source": [
    "df_21= pd.read_csv('data\\data21.csv')\n",
    "df_20= pd.read_csv('data\\data20.csv')\n",
    "df_19= pd.read_csv('data\\data19.csv')"
   ],
   "metadata": {
    "collapsed": false,
    "pycharm": {
     "name": "#%%\n"
    }
   }
  },
  {
   "cell_type": "markdown",
   "source": [
    "## Premiers constats"
   ],
   "metadata": {
    "collapsed": false
   }
  },
  {
   "cell_type": "code",
   "execution_count": 71,
   "outputs": [
    {
     "name": "stdout",
     "output_type": "stream",
     "text": [
      "Il y a 444 joueurs qui apparaissent 1 fois dans la base de 2019\n",
      "Il y a 80 joueurs qui apparaissent 2 fois dans la base de 2019\n",
      "Il y a 6 joueurs qui apparaissent 3 fois dans la base de 2019\n"
     ]
    }
   ],
   "source": [
    "d19 = df_19.groupby('name')['name'].transform('size').value_counts()\n",
    "for i in range(1,len(d19)+1):\n",
    "    print(\"Il y a \"+str(int(d19[i]/i))+\" joueurs qui apparaissent \"+str(i)+\" fois dans la base de 2019\")"
   ],
   "metadata": {
    "collapsed": false,
    "pycharm": {
     "name": "#%%\n"
    }
   }
  },
  {
   "cell_type": "code",
   "execution_count": 73,
   "outputs": [
    {
     "name": "stdout",
     "output_type": "stream",
     "text": [
      "Il y a 470 joueurs qui apparaissent 1 fois dans la base de 2020\n",
      "Il y a 58 joueurs qui apparaissent 2 fois dans la base de 2020\n",
      "Il y a 2 joueurs qui apparaissent 3 fois dans la base de 2020\n"
     ]
    }
   ],
   "source": [
    "d20 = df_20.groupby('name')['name'].transform('size').value_counts()\n",
    "for i in range(1,len(d20)+1):\n",
    "    print(\"Il y a \"+str(int(d20[i]/i))+\" joueurs qui apparaissent \"+str(i)+\" fois dans la base de 2020\")"
   ],
   "metadata": {
    "collapsed": false,
    "pycharm": {
     "name": "#%%\n"
    }
   }
  },
  {
   "cell_type": "code",
   "execution_count": 80,
   "outputs": [
    {
     "name": "stdout",
     "output_type": "stream",
     "text": [
      "Il y a 461 joueurs qui apparaissent 1 fois dans la base de 2021\n",
      "Il y a 72 joueurs qui apparaissent 2 fois dans la base de 2021\n",
      "Il y a 7 joueurs qui apparaissent 3 fois dans la base de 2021\n"
     ]
    }
   ],
   "source": [
    "d21 = df_21.groupby('name')['name'].transform('size').value_counts()\n",
    "for i in range(1,len(d21)+1):\n",
    "    print(\"Il y a \"+str(int(d21[i]/i))+\" joueurs qui apparaissent \"+str(i)+\" fois dans la base de 2021\")"
   ],
   "metadata": {
    "collapsed": false,
    "pycharm": {
     "name": "#%%\n"
    }
   }
  },
  {
   "cell_type": "markdown",
   "source": [
    "Ceci s'explique par la possibilité de transfert de joueurs au cours de la saison : ils apparaissent ainsi dans les équipes dans lequelles ils ont joué"
   ],
   "metadata": {
    "collapsed": false,
    "pycharm": {
     "name": "#%% md\n"
    }
   }
  },
  {
   "cell_type": "code",
   "execution_count": 86,
   "outputs": [
    {
     "data": {
      "text/plain": "     and_ones  assist_percentage  assists  assists_per_poss  block_percentage  \\\n558       NaN               13.7    128.0               4.6               1.3   \n90        NaN               13.7    128.0               4.6               1.3   \n424       NaN               13.7    128.0               4.6               1.3   \n212       NaN               17.1     24.0               6.3               0.9   \n288       NaN               17.1     24.0               6.3               0.9   \n\n     blocking_fouls  blocks  blocks_per_poss  box_plus_minus  \\\n558             NaN    21.0              0.7            -1.2   \n90              NaN    21.0              0.7            -1.2   \n424             NaN    21.0              0.7            -1.2   \n212             NaN     2.0              0.5            -7.1   \n288             NaN     2.0              0.5            -7.1   \n\n     center_percentage  ...  two_pointers  two_pointers_per_poss  \\\n558                  0  ...         131.0                    4.7   \n90                   0  ...         131.0                    4.7   \n424                  0  ...         131.0                    4.7   \n212                  0  ...          11.0                    2.9   \n288                  0  ...          11.0                    2.9   \n\n     two_pointers_assisted_percentage  usage_percentage  \\\n558                               NaN              19.0   \n90                                NaN              19.0   \n424                               NaN              19.0   \n212                               NaN              16.8   \n288                               NaN              16.8   \n\n     value_over_replacement_player  weight  win_shares  \\\n558                            0.3     214         1.5   \n90                             0.3     214         1.5   \n424                            0.3     214         1.5   \n212                           -0.2     213        -0.1   \n288                           -0.2     213        -0.1   \n\n     win_shares_per_48_minutes             name  team  \n558                      0.052       Alec Burks   CLE  \n90                       0.052       Alec Burks   SAC  \n424                      0.052       Alec Burks   UTA  \n212                     -0.027  Andrew Harrison   NOP  \n288                     -0.027  Andrew Harrison   MEM  \n\n[5 rows x 108 columns]",
      "text/html": "<div>\n<style scoped>\n    .dataframe tbody tr th:only-of-type {\n        vertical-align: middle;\n    }\n\n    .dataframe tbody tr th {\n        vertical-align: top;\n    }\n\n    .dataframe thead th {\n        text-align: right;\n    }\n</style>\n<table border=\"1\" class=\"dataframe\">\n  <thead>\n    <tr style=\"text-align: right;\">\n      <th></th>\n      <th>and_ones</th>\n      <th>assist_percentage</th>\n      <th>assists</th>\n      <th>assists_per_poss</th>\n      <th>block_percentage</th>\n      <th>blocking_fouls</th>\n      <th>blocks</th>\n      <th>blocks_per_poss</th>\n      <th>box_plus_minus</th>\n      <th>center_percentage</th>\n      <th>...</th>\n      <th>two_pointers</th>\n      <th>two_pointers_per_poss</th>\n      <th>two_pointers_assisted_percentage</th>\n      <th>usage_percentage</th>\n      <th>value_over_replacement_player</th>\n      <th>weight</th>\n      <th>win_shares</th>\n      <th>win_shares_per_48_minutes</th>\n      <th>name</th>\n      <th>team</th>\n    </tr>\n  </thead>\n  <tbody>\n    <tr>\n      <th>558</th>\n      <td>NaN</td>\n      <td>13.7</td>\n      <td>128.0</td>\n      <td>4.6</td>\n      <td>1.3</td>\n      <td>NaN</td>\n      <td>21.0</td>\n      <td>0.7</td>\n      <td>-1.2</td>\n      <td>0</td>\n      <td>...</td>\n      <td>131.0</td>\n      <td>4.7</td>\n      <td>NaN</td>\n      <td>19.0</td>\n      <td>0.3</td>\n      <td>214</td>\n      <td>1.5</td>\n      <td>0.052</td>\n      <td>Alec Burks</td>\n      <td>CLE</td>\n    </tr>\n    <tr>\n      <th>90</th>\n      <td>NaN</td>\n      <td>13.7</td>\n      <td>128.0</td>\n      <td>4.6</td>\n      <td>1.3</td>\n      <td>NaN</td>\n      <td>21.0</td>\n      <td>0.7</td>\n      <td>-1.2</td>\n      <td>0</td>\n      <td>...</td>\n      <td>131.0</td>\n      <td>4.7</td>\n      <td>NaN</td>\n      <td>19.0</td>\n      <td>0.3</td>\n      <td>214</td>\n      <td>1.5</td>\n      <td>0.052</td>\n      <td>Alec Burks</td>\n      <td>SAC</td>\n    </tr>\n    <tr>\n      <th>424</th>\n      <td>NaN</td>\n      <td>13.7</td>\n      <td>128.0</td>\n      <td>4.6</td>\n      <td>1.3</td>\n      <td>NaN</td>\n      <td>21.0</td>\n      <td>0.7</td>\n      <td>-1.2</td>\n      <td>0</td>\n      <td>...</td>\n      <td>131.0</td>\n      <td>4.7</td>\n      <td>NaN</td>\n      <td>19.0</td>\n      <td>0.3</td>\n      <td>214</td>\n      <td>1.5</td>\n      <td>0.052</td>\n      <td>Alec Burks</td>\n      <td>UTA</td>\n    </tr>\n    <tr>\n      <th>212</th>\n      <td>NaN</td>\n      <td>17.1</td>\n      <td>24.0</td>\n      <td>6.3</td>\n      <td>0.9</td>\n      <td>NaN</td>\n      <td>2.0</td>\n      <td>0.5</td>\n      <td>-7.1</td>\n      <td>0</td>\n      <td>...</td>\n      <td>11.0</td>\n      <td>2.9</td>\n      <td>NaN</td>\n      <td>16.8</td>\n      <td>-0.2</td>\n      <td>213</td>\n      <td>-0.1</td>\n      <td>-0.027</td>\n      <td>Andrew Harrison</td>\n      <td>NOP</td>\n    </tr>\n    <tr>\n      <th>288</th>\n      <td>NaN</td>\n      <td>17.1</td>\n      <td>24.0</td>\n      <td>6.3</td>\n      <td>0.9</td>\n      <td>NaN</td>\n      <td>2.0</td>\n      <td>0.5</td>\n      <td>-7.1</td>\n      <td>0</td>\n      <td>...</td>\n      <td>11.0</td>\n      <td>2.9</td>\n      <td>NaN</td>\n      <td>16.8</td>\n      <td>-0.2</td>\n      <td>213</td>\n      <td>-0.1</td>\n      <td>-0.027</td>\n      <td>Andrew Harrison</td>\n      <td>MEM</td>\n    </tr>\n  </tbody>\n</table>\n<p>5 rows × 108 columns</p>\n</div>"
     },
     "execution_count": 86,
     "metadata": {},
     "output_type": "execute_result"
    }
   ],
   "source": [
    "df_19[df_19.groupby('name')['name'].transform('size') > 1].sort_values(by=['name']).head()"
   ],
   "metadata": {
    "collapsed": false,
    "pycharm": {
     "name": "#%%\n"
    }
   }
  },
  {
   "cell_type": "markdown",
   "source": [
    "**Problème** : pour ces joueurs, leurs statistiques sont les mêmes quelque soit l'équipe pour laquelle ils jouent, et non pas leurs statistiques liées uniquement à leurs matchs joués pour chaque équipe\n",
    "Selon ce que l'on va faire par la suite, nous déciderons de garder ou non l'une de ces les lignes similaires (qui ne diffèrent que par la colonne 'team')"
   ],
   "metadata": {
    "collapsed": false,
    "pycharm": {
     "name": "#%% md\n"
    }
   }
  },
  {
   "cell_type": "markdown",
   "source": [
    "## Stats des sur les variables qui nous intéressent"
   ],
   "metadata": {
    "collapsed": false,
    "pycharm": {
     "name": "#%% md\n"
    }
   }
  },
  {
   "cell_type": "markdown",
   "source": [
    "### Variable 'salary'"
   ],
   "metadata": {
    "collapsed": false
   }
  },
  {
   "cell_type": "code",
   "execution_count": 79,
   "outputs": [
    {
     "name": "stdout",
     "output_type": "stream",
     "text": [
      "Il y a 49 salaires inconnus dans la base de 2019\n",
      "Il y a 51 salaires inconnus dans la base de 2020\n",
      "Il y a 60 salaires inconnus dans la base de 2021\n"
     ]
    }
   ],
   "source": [
    "print(\"Il y a \"+str(df_19['salary'].isnull().sum())+\" salaires inconnus dans la base de 2019\")\n",
    "print(\"Il y a \"+str(df_20['salary'].isnull().sum())+\" salaires inconnus dans la base de 2020\")\n",
    "print(\"Il y a \"+str(df_21['salary'].isnull().sum())+\" salaires inconnus dans la base de 2021\")"
   ],
   "metadata": {
    "collapsed": false,
    "pycharm": {
     "name": "#%%\n"
    }
   }
  },
  {
   "cell_type": "code",
   "execution_count": 85,
   "outputs": [
    {
     "name": "stdout",
     "output_type": "stream",
     "text": [
      "10.224489795918368\n",
      "10.647058823529411\n",
      "20.416666666666668\n"
     ]
    }
   ],
   "source": [
    "print(df_19[df_19['salary'].isnull()]['games_played'].mean())\n",
    "print(df_20[df_20['salary'].isnull()]['games_played'].mean())\n",
    "print(df_21[df_21['salary'].isnull()]['games_played'].mean())"
   ],
   "metadata": {
    "collapsed": false,
    "pycharm": {
     "name": "#%%\n"
    }
   }
  },
  {
   "cell_type": "code",
   "execution_count": 16,
   "outputs": [],
   "source": [
    "df_19nd = df_19.groupby('name', group_keys=False).apply(lambda df: df.sample(1))\n",
    "df_20nd = df_20.groupby('name', group_keys=False).apply(lambda df: df.sample(1))\n",
    "df_21nd = df_21.groupby('name', group_keys=False).apply(lambda df: df.sample(1))"
   ],
   "metadata": {
    "collapsed": false,
    "pycharm": {
     "name": "#%%\n"
    }
   }
  },
  {
   "cell_type": "code",
   "execution_count": 31,
   "outputs": [
    {
     "data": {
      "text/plain": "575    40231758.0\n446    38506482.0\n197    38506482.0\n188    38199000.0\n45     37436858.0\n          ...    \n230           NaN\n292           NaN\n465           NaN\n277           NaN\n200           NaN\nName: salary, Length: 530, dtype: float64"
     },
     "execution_count": 31,
     "metadata": {},
     "output_type": "execute_result"
    }
   ],
   "source": [
    "df_20nd['salary'].sort_values(ascending=False)"
   ],
   "metadata": {
    "collapsed": false,
    "pycharm": {
     "name": "#%%\n"
    }
   }
  },
  {
   "cell_type": "code",
   "execution_count": 32,
   "outputs": [
    {
     "data": {
      "text/plain": "611    43006362.0\n264    41358814.0\n241    41358814.0\n204    41254920.0\n184    41254920.0\n          ...    \n302           NaN\n423           NaN\n228           NaN\n141           NaN\n220           NaN\nName: salary, Length: 540, dtype: float64"
     },
     "execution_count": 32,
     "metadata": {},
     "output_type": "execute_result"
    }
   ],
   "source": [
    "df_21nd['salary'].sort_values(ascending=False)"
   ],
   "metadata": {
    "collapsed": false,
    "pycharm": {
     "name": "#%%\n"
    }
   }
  },
  {
   "cell_type": "code",
   "execution_count": 87,
   "outputs": [
    {
     "data": {
      "text/plain": "     and_ones  assist_percentage  assists  assists_per_poss  block_percentage  \\\n1         NaN               28.7    357.0               8.3               3.2   \n2         NaN               10.3     46.0               3.9               1.6   \n3         NaN               22.2    188.0               7.8               0.1   \n5         NaN                6.3     81.0               2.4               1.3   \n6         NaN                7.9     49.0               3.0               2.9   \n..        ...                ...      ...               ...               ...   \n620       NaN               15.4     99.0               4.7               0.8   \n622       NaN               18.1    150.0               6.4               2.1   \n623       NaN               22.5    174.0               7.9               1.0   \n624       NaN               10.9    167.0               3.3               2.6   \n625       NaN                4.9     26.0               1.5               3.8   \n\n     blocking_fouls  blocks  blocks_per_poss  box_plus_minus  \\\n1               NaN    73.0              1.7             9.0   \n2               NaN    10.0              0.9            -3.5   \n3               NaN     1.0              0.0            -2.1   \n5               NaN    23.0              0.7             0.0   \n6               NaN    26.0              1.6             0.4   \n..              ...     ...              ...             ...   \n620             NaN     9.0              0.4            -0.5   \n622             NaN    26.0              1.1             0.8   \n623             NaN    11.0              0.5            -4.0   \n624             NaN    70.0              1.4            -0.4   \n625             NaN    36.0              2.0            -5.0   \n\n     center_percentage  ...  two_pointers  two_pointers_per_poss  \\\n1                    0  ...         559.0                   13.0   \n2                    0  ...          60.0                    5.1   \n3                    0  ...          52.0                    2.2   \n5                    0  ...          67.0                    2.0   \n6                    0  ...          70.0                    4.2   \n..                 ...  ...           ...                    ...   \n620                  0  ...         108.0                    5.1   \n622                  0  ...          84.0                    3.6   \n623                  0  ...          99.0                    4.5   \n624                  0  ...         365.0                    7.3   \n625                  0  ...         179.0                   10.1   \n\n     two_pointers_assisted_percentage  usage_percentage  \\\n1                                 NaN              32.5   \n2                                 NaN              15.3   \n3                                 NaN              16.8   \n5                                 NaN              11.6   \n6                                 NaN              14.3   \n..                                ...               ...   \n620                               NaN              25.0   \n622                               NaN              11.0   \n623                               NaN              16.9   \n624                               NaN              23.3   \n625                               NaN              23.8   \n\n     value_over_replacement_player  weight  win_shares  \\\n1                              5.6     242        10.2   \n2                             -0.2     219         0.7   \n3                              0.0     183         2.1   \n5                              0.8     209         3.5   \n6                              0.5     221         2.2   \n..                             ...     ...         ...   \n620                            0.4     194         1.9   \n622                            0.8     209         3.0   \n623                           -0.5     210         0.9   \n624                            1.0     197         3.9   \n625                           -0.6     240         0.7   \n\n     win_shares_per_48_minutes                    name  team  \n1                        0.244   Giannis Antetokounmpo   MIL  \n2                        0.057  Thanasis Antetokounmpo   MIL  \n3                        0.088           D.J. Augustin   MIL  \n5                        0.108         Pat Connaughton   MIL  \n6                        0.133            Torrey Craig   MIL  \n..                         ...                     ...   ...  \n620                      0.094            Jordan Poole   GSW  \n622                      0.130   Juan Toscano-Anderson   GSW  \n623                      0.039          Brad Wanamaker   GSW  \n624                      0.080          Andrew Wiggins   GSW  \n625                      0.042           James Wiseman   GSW  \n\n[450 rows x 108 columns]",
      "text/html": "<div>\n<style scoped>\n    .dataframe tbody tr th:only-of-type {\n        vertical-align: middle;\n    }\n\n    .dataframe tbody tr th {\n        vertical-align: top;\n    }\n\n    .dataframe thead th {\n        text-align: right;\n    }\n</style>\n<table border=\"1\" class=\"dataframe\">\n  <thead>\n    <tr style=\"text-align: right;\">\n      <th></th>\n      <th>and_ones</th>\n      <th>assist_percentage</th>\n      <th>assists</th>\n      <th>assists_per_poss</th>\n      <th>block_percentage</th>\n      <th>blocking_fouls</th>\n      <th>blocks</th>\n      <th>blocks_per_poss</th>\n      <th>box_plus_minus</th>\n      <th>center_percentage</th>\n      <th>...</th>\n      <th>two_pointers</th>\n      <th>two_pointers_per_poss</th>\n      <th>two_pointers_assisted_percentage</th>\n      <th>usage_percentage</th>\n      <th>value_over_replacement_player</th>\n      <th>weight</th>\n      <th>win_shares</th>\n      <th>win_shares_per_48_minutes</th>\n      <th>name</th>\n      <th>team</th>\n    </tr>\n  </thead>\n  <tbody>\n    <tr>\n      <th>1</th>\n      <td>NaN</td>\n      <td>28.7</td>\n      <td>357.0</td>\n      <td>8.3</td>\n      <td>3.2</td>\n      <td>NaN</td>\n      <td>73.0</td>\n      <td>1.7</td>\n      <td>9.0</td>\n      <td>0</td>\n      <td>...</td>\n      <td>559.0</td>\n      <td>13.0</td>\n      <td>NaN</td>\n      <td>32.5</td>\n      <td>5.6</td>\n      <td>242</td>\n      <td>10.2</td>\n      <td>0.244</td>\n      <td>Giannis Antetokounmpo</td>\n      <td>MIL</td>\n    </tr>\n    <tr>\n      <th>2</th>\n      <td>NaN</td>\n      <td>10.3</td>\n      <td>46.0</td>\n      <td>3.9</td>\n      <td>1.6</td>\n      <td>NaN</td>\n      <td>10.0</td>\n      <td>0.9</td>\n      <td>-3.5</td>\n      <td>0</td>\n      <td>...</td>\n      <td>60.0</td>\n      <td>5.1</td>\n      <td>NaN</td>\n      <td>15.3</td>\n      <td>-0.2</td>\n      <td>219</td>\n      <td>0.7</td>\n      <td>0.057</td>\n      <td>Thanasis Antetokounmpo</td>\n      <td>MIL</td>\n    </tr>\n    <tr>\n      <th>3</th>\n      <td>NaN</td>\n      <td>22.2</td>\n      <td>188.0</td>\n      <td>7.8</td>\n      <td>0.1</td>\n      <td>NaN</td>\n      <td>1.0</td>\n      <td>0.0</td>\n      <td>-2.1</td>\n      <td>0</td>\n      <td>...</td>\n      <td>52.0</td>\n      <td>2.2</td>\n      <td>NaN</td>\n      <td>16.8</td>\n      <td>0.0</td>\n      <td>183</td>\n      <td>2.1</td>\n      <td>0.088</td>\n      <td>D.J. Augustin</td>\n      <td>MIL</td>\n    </tr>\n    <tr>\n      <th>5</th>\n      <td>NaN</td>\n      <td>6.3</td>\n      <td>81.0</td>\n      <td>2.4</td>\n      <td>1.3</td>\n      <td>NaN</td>\n      <td>23.0</td>\n      <td>0.7</td>\n      <td>0.0</td>\n      <td>0</td>\n      <td>...</td>\n      <td>67.0</td>\n      <td>2.0</td>\n      <td>NaN</td>\n      <td>11.6</td>\n      <td>0.8</td>\n      <td>209</td>\n      <td>3.5</td>\n      <td>0.108</td>\n      <td>Pat Connaughton</td>\n      <td>MIL</td>\n    </tr>\n    <tr>\n      <th>6</th>\n      <td>NaN</td>\n      <td>7.9</td>\n      <td>49.0</td>\n      <td>3.0</td>\n      <td>2.9</td>\n      <td>NaN</td>\n      <td>26.0</td>\n      <td>1.6</td>\n      <td>0.4</td>\n      <td>0</td>\n      <td>...</td>\n      <td>70.0</td>\n      <td>4.2</td>\n      <td>NaN</td>\n      <td>14.3</td>\n      <td>0.5</td>\n      <td>221</td>\n      <td>2.2</td>\n      <td>0.133</td>\n      <td>Torrey Craig</td>\n      <td>MIL</td>\n    </tr>\n    <tr>\n      <th>...</th>\n      <td>...</td>\n      <td>...</td>\n      <td>...</td>\n      <td>...</td>\n      <td>...</td>\n      <td>...</td>\n      <td>...</td>\n      <td>...</td>\n      <td>...</td>\n      <td>...</td>\n      <td>...</td>\n      <td>...</td>\n      <td>...</td>\n      <td>...</td>\n      <td>...</td>\n      <td>...</td>\n      <td>...</td>\n      <td>...</td>\n      <td>...</td>\n      <td>...</td>\n      <td>...</td>\n    </tr>\n    <tr>\n      <th>620</th>\n      <td>NaN</td>\n      <td>15.4</td>\n      <td>99.0</td>\n      <td>4.7</td>\n      <td>0.8</td>\n      <td>NaN</td>\n      <td>9.0</td>\n      <td>0.4</td>\n      <td>-0.5</td>\n      <td>0</td>\n      <td>...</td>\n      <td>108.0</td>\n      <td>5.1</td>\n      <td>NaN</td>\n      <td>25.0</td>\n      <td>0.4</td>\n      <td>194</td>\n      <td>1.9</td>\n      <td>0.094</td>\n      <td>Jordan Poole</td>\n      <td>GSW</td>\n    </tr>\n    <tr>\n      <th>622</th>\n      <td>NaN</td>\n      <td>18.1</td>\n      <td>150.0</td>\n      <td>6.4</td>\n      <td>2.1</td>\n      <td>NaN</td>\n      <td>26.0</td>\n      <td>1.1</td>\n      <td>0.8</td>\n      <td>0</td>\n      <td>...</td>\n      <td>84.0</td>\n      <td>3.6</td>\n      <td>NaN</td>\n      <td>11.0</td>\n      <td>0.8</td>\n      <td>209</td>\n      <td>3.0</td>\n      <td>0.130</td>\n      <td>Juan Toscano-Anderson</td>\n      <td>GSW</td>\n    </tr>\n    <tr>\n      <th>623</th>\n      <td>NaN</td>\n      <td>22.5</td>\n      <td>174.0</td>\n      <td>7.9</td>\n      <td>1.0</td>\n      <td>NaN</td>\n      <td>11.0</td>\n      <td>0.5</td>\n      <td>-4.0</td>\n      <td>0</td>\n      <td>...</td>\n      <td>99.0</td>\n      <td>4.5</td>\n      <td>NaN</td>\n      <td>16.9</td>\n      <td>-0.5</td>\n      <td>210</td>\n      <td>0.9</td>\n      <td>0.039</td>\n      <td>Brad Wanamaker</td>\n      <td>GSW</td>\n    </tr>\n    <tr>\n      <th>624</th>\n      <td>NaN</td>\n      <td>10.9</td>\n      <td>167.0</td>\n      <td>3.3</td>\n      <td>2.6</td>\n      <td>NaN</td>\n      <td>70.0</td>\n      <td>1.4</td>\n      <td>-0.4</td>\n      <td>0</td>\n      <td>...</td>\n      <td>365.0</td>\n      <td>7.3</td>\n      <td>NaN</td>\n      <td>23.3</td>\n      <td>1.0</td>\n      <td>197</td>\n      <td>3.9</td>\n      <td>0.080</td>\n      <td>Andrew Wiggins</td>\n      <td>GSW</td>\n    </tr>\n    <tr>\n      <th>625</th>\n      <td>NaN</td>\n      <td>4.9</td>\n      <td>26.0</td>\n      <td>1.5</td>\n      <td>3.8</td>\n      <td>NaN</td>\n      <td>36.0</td>\n      <td>2.0</td>\n      <td>-5.0</td>\n      <td>0</td>\n      <td>...</td>\n      <td>179.0</td>\n      <td>10.1</td>\n      <td>NaN</td>\n      <td>23.8</td>\n      <td>-0.6</td>\n      <td>240</td>\n      <td>0.7</td>\n      <td>0.042</td>\n      <td>James Wiseman</td>\n      <td>GSW</td>\n    </tr>\n  </tbody>\n</table>\n<p>450 rows × 108 columns</p>\n</div>"
     },
     "execution_count": 87,
     "metadata": {},
     "output_type": "execute_result"
    }
   ],
   "source": [
    "df_21[df_21['games_played']>30]"
   ],
   "metadata": {
    "collapsed": false,
    "pycharm": {
     "name": "#%%\n"
    }
   }
  },
  {
   "cell_type": "code",
   "execution_count": 37,
   "outputs": [
    {
     "data": {
      "text/plain": "team\nATL      47371.0\nBOS     838464.0\nBRK       4737.0\nCHI      88531.0\nCHO     988464.0\nCLE      76236.0\nDAL     838464.0\nDEN     311070.0\nDET     838464.0\nGSW     486892.0\nHOU     137376.0\nIND     449794.0\nLAC    1349383.0\nLAL      52108.0\nMEM      47371.0\nMIA       9474.0\nMIL     456733.0\nMIN     203695.0\nNOP     194220.0\nNYK      42634.0\nOKC     151587.0\nORL     838464.0\nPHI      92857.0\nPHO     198580.0\nPOR     838464.0\nSAC      94742.0\nSAS      59820.0\nTOR     457418.0\nUTA    1378242.0\nWAS      17092.0\nName: salary, dtype: float64"
     },
     "execution_count": 37,
     "metadata": {},
     "output_type": "execute_result"
    }
   ],
   "source": [
    "df_19nd.groupby('team')['salary'].hist()"
   ],
   "metadata": {
    "collapsed": false,
    "pycharm": {
     "name": "#%%\n"
    }
   }
  },
  {
   "cell_type": "code",
   "execution_count": null,
   "outputs": [],
   "source": [
    "df_21.plot.scatter(x='points', y='salary', title='salary depending on points')\n",
    "df_21.plot.scatter(x='assists_per_poss', y='salary', title='salary depending on assists')\n",
    "df_21.plot.scatter(x='win_shares', y='salary', title='salary depending on win_shares')\n",
    "df_21.plot.scatter(x='player_efficiency_rating', y='salary', title='salary depending on player_efficiency_rating')"
   ],
   "metadata": {
    "collapsed": false,
    "pycharm": {
     "name": "#%%\n"
    }
   }
  },
  {
   "cell_type": "code",
   "execution_count": null,
   "outputs": [],
   "source": [
    "df_21[df_21['games_played']>=30].plot.scatter(x='points', y='salary', title='salary depending on points')\n",
    "df_21[df_21['games_played']>=30].plot.scatter(x='assists_per_poss', y='salary', title='salary depending on assists')\n",
    "df_21[df_21['games_played']>=30].plot.scatter(x='win_shares', y='salary', title='salary depending on win_shares')\n",
    "df_21[df_21['games_played']>=30].plot.scatter(x='player_efficiency_rating', y='salary', title='salary depending on player_efficiency_rating')"
   ],
   "metadata": {
    "collapsed": false,
    "pycharm": {
     "name": "#%%\n"
    }
   }
  },
  {
   "cell_type": "code",
   "execution_count": null,
   "outputs": [],
   "source": [],
   "metadata": {
    "collapsed": false,
    "pycharm": {
     "name": "#%%\n"
    }
   }
  }
 ],
 "metadata": {
  "kernelspec": {
   "display_name": "Python 3",
   "language": "python",
   "name": "python3"
  },
  "language_info": {
   "codemirror_mode": {
    "name": "ipython",
    "version": 2
   },
   "file_extension": ".py",
   "mimetype": "text/x-python",
   "name": "python",
   "nbconvert_exporter": "python",
   "pygments_lexer": "ipython2",
   "version": "2.7.6"
  }
 },
 "nbformat": 4,
 "nbformat_minor": 0
}