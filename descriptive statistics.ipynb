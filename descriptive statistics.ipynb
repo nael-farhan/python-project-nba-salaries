{
 "cells": [
  {
   "cell_type": "markdown",
   "source": [
    "# Analyse exploratoire des données"
   ],
   "metadata": {
    "collapsed": false
   }
  },
  {
   "cell_type": "code",
   "execution_count": 1,
   "metadata": {
    "collapsed": true
   },
   "outputs": [],
   "source": [
    "import pandas as pd"
   ]
  },
  {
   "cell_type": "code",
   "execution_count": 3,
   "outputs": [],
   "source": [
    "df_21= pd.read_csv('data\\data21.csv')\n",
    "df_20= pd.read_csv('data\\data20.csv')\n",
    "df_19= pd.read_csv('data\\data19.csv')"
   ],
   "metadata": {
    "collapsed": false,
    "pycharm": {
     "name": "#%%\n"
    }
   }
  },
  {
   "cell_type": "markdown",
   "source": [
    "## Premiers constats"
   ],
   "metadata": {
    "collapsed": false
   }
  },
  {
   "cell_type": "code",
   "execution_count": 71,
   "outputs": [
    {
     "name": "stdout",
     "output_type": "stream",
     "text": [
      "Il y a 444 joueurs qui apparaissent 1 fois dans la base de 2019\n",
      "Il y a 80 joueurs qui apparaissent 2 fois dans la base de 2019\n",
      "Il y a 6 joueurs qui apparaissent 3 fois dans la base de 2019\n"
     ]
    }
   ],
   "source": [
    "d19 = df_19.groupby('name')['name'].transform('size').value_counts()\n",
    "for i in range(1,len(d19)+1):\n",
    "    print(\"Il y a \"+str(int(d19[i]/i))+\" joueurs qui apparaissent \"+str(i)+\" fois dans la base de 2019\")"
   ],
   "metadata": {
    "collapsed": false,
    "pycharm": {
     "name": "#%%\n"
    }
   }
  },
  {
   "cell_type": "code",
   "execution_count": 73,
   "outputs": [
    {
     "name": "stdout",
     "output_type": "stream",
     "text": [
      "Il y a 470 joueurs qui apparaissent 1 fois dans la base de 2020\n",
      "Il y a 58 joueurs qui apparaissent 2 fois dans la base de 2020\n",
      "Il y a 2 joueurs qui apparaissent 3 fois dans la base de 2020\n"
     ]
    }
   ],
   "source": [
    "d20 = df_20.groupby('name')['name'].transform('size').value_counts()\n",
    "for i in range(1,len(d20)+1):\n",
    "    print(\"Il y a \"+str(int(d20[i]/i))+\" joueurs qui apparaissent \"+str(i)+\" fois dans la base de 2020\")"
   ],
   "metadata": {
    "collapsed": false,
    "pycharm": {
     "name": "#%%\n"
    }
   }
  },
  {
   "cell_type": "code",
   "execution_count": 74,
   "outputs": [
    {
     "name": "stdout",
     "output_type": "stream",
     "text": [
      "Il y a 461 joueurs qui apparaissent 1 fois dans la base de 2019\n",
      "Il y a 72 joueurs qui apparaissent 2 fois dans la base de 2019\n",
      "Il y a 7 joueurs qui apparaissent 3 fois dans la base de 2019\n"
     ]
    }
   ],
   "source": [
    "d21 = df_21.groupby('name')['name'].transform('size').value_counts()\n",
    "for i in range(1,len(d21)+1):\n",
    "    print(\"Il y a \"+str(int(d21[i]/i))+\" joueurs qui apparaissent \"+str(i)+\" fois dans la base de 2019\")"
   ],
   "metadata": {
    "collapsed": false,
    "pycharm": {
     "name": "#%%\n"
    }
   }
  },
  {
   "cell_type": "markdown",
   "source": [
    "Ceci s'explique par la possibilité de transfert de joueurs au cours de la saison : ils apparaissent ainsi dans les équipes dans lequelles ils ont joué"
   ],
   "metadata": {
    "collapsed": false,
    "pycharm": {
     "name": "#%% md\n"
    }
   }
  },
  {
   "cell_type": "code",
   "execution_count": 53,
   "outputs": [
    {
     "data": {
      "text/plain": "     and_ones  assist_percentage  assists  assists_per_poss  block_percentage  \\\n558       NaN               13.7    128.0               4.6               1.3   \n90        NaN               13.7    128.0               4.6               1.3   \n424       NaN               13.7    128.0               4.6               1.3   \n212       NaN               17.1     24.0               6.3               0.9   \n288       NaN               17.1     24.0               6.3               0.9   \n..        ...                ...      ...               ...               ...   \n448       NaN               11.1    160.0               3.7               0.7   \n160       NaN               11.1    160.0               3.7               0.7   \n548       NaN               11.1    160.0               3.7               0.7   \n380       NaN                9.1     82.0               3.3               1.4   \n65        NaN                9.1     82.0               3.3               1.4   \n\n     blocking_fouls  blocks  blocks_per_poss  box_plus_minus  \\\n558             NaN    21.0              0.7            -1.2   \n90              NaN    21.0              0.7            -1.2   \n424             NaN    21.0              0.7            -1.2   \n212             NaN     2.0              0.5            -7.1   \n288             NaN     2.0              0.5            -7.1   \n..              ...     ...              ...             ...   \n448             NaN    17.0              0.4            -1.8   \n160             NaN    17.0              0.4            -1.8   \n548             NaN    17.0              0.4            -1.8   \n380             NaN    21.0              0.8            -2.8   \n65              NaN    21.0              0.8            -2.8   \n\n     center_percentage  ...  two_pointers  two_pointers_per_poss  \\\n558                  0  ...         131.0                    4.7   \n90                   0  ...         131.0                    4.7   \n424                  0  ...         131.0                    4.7   \n212                  0  ...          11.0                    2.9   \n288                  0  ...          11.0                    2.9   \n..                 ...  ...           ...                    ...   \n448                  0  ...         129.0                    3.0   \n160                  0  ...         129.0                    3.0   \n548                  0  ...         129.0                    3.0   \n380                  0  ...          55.0                    2.2   \n65                   0  ...          55.0                    2.2   \n\n     two_pointers_assisted_percentage  usage_percentage  \\\n558                               NaN              19.0   \n90                                NaN              19.0   \n424                               NaN              19.0   \n212                               NaN              16.8   \n288                               NaN              16.8   \n..                                ...               ...   \n448                               NaN              17.8   \n160                               NaN              17.8   \n548                               NaN              17.8   \n380                               NaN              11.8   \n65                                NaN              11.8   \n\n     value_over_replacement_player  weight  win_shares  \\\n558                            0.3     214         1.5   \n90                             0.3     214         1.5   \n424                            0.3     214         1.5   \n212                           -0.2     213        -0.1   \n288                           -0.2     213        -0.1   \n..                             ...     ...         ...   \n448                            0.1     220         2.7   \n160                            0.1     220         2.7   \n548                            0.1     220         2.7   \n380                           -0.2     235         1.5   \n65                            -0.2     235         1.5   \n\n     win_shares_per_48_minutes             name  team  \n558                      0.052       Alec Burks   CLE  \n90                       0.052       Alec Burks   SAC  \n424                      0.052       Alec Burks   UTA  \n212                     -0.027  Andrew Harrison   NOP  \n288                     -0.027  Andrew Harrison   MEM  \n..                         ...              ...   ...  \n448                      0.062  Wesley Matthews   IND  \n160                      0.062  Wesley Matthews   DAL  \n548                      0.062  Wesley Matthews   NYK  \n380                      0.062  Wilson Chandler   PHI  \n65                       0.062  Wilson Chandler   LAC  \n\n[178 rows x 108 columns]",
      "text/html": "<div>\n<style scoped>\n    .dataframe tbody tr th:only-of-type {\n        vertical-align: middle;\n    }\n\n    .dataframe tbody tr th {\n        vertical-align: top;\n    }\n\n    .dataframe thead th {\n        text-align: right;\n    }\n</style>\n<table border=\"1\" class=\"dataframe\">\n  <thead>\n    <tr style=\"text-align: right;\">\n      <th></th>\n      <th>and_ones</th>\n      <th>assist_percentage</th>\n      <th>assists</th>\n      <th>assists_per_poss</th>\n      <th>block_percentage</th>\n      <th>blocking_fouls</th>\n      <th>blocks</th>\n      <th>blocks_per_poss</th>\n      <th>box_plus_minus</th>\n      <th>center_percentage</th>\n      <th>...</th>\n      <th>two_pointers</th>\n      <th>two_pointers_per_poss</th>\n      <th>two_pointers_assisted_percentage</th>\n      <th>usage_percentage</th>\n      <th>value_over_replacement_player</th>\n      <th>weight</th>\n      <th>win_shares</th>\n      <th>win_shares_per_48_minutes</th>\n      <th>name</th>\n      <th>team</th>\n    </tr>\n  </thead>\n  <tbody>\n    <tr>\n      <th>558</th>\n      <td>NaN</td>\n      <td>13.7</td>\n      <td>128.0</td>\n      <td>4.6</td>\n      <td>1.3</td>\n      <td>NaN</td>\n      <td>21.0</td>\n      <td>0.7</td>\n      <td>-1.2</td>\n      <td>0</td>\n      <td>...</td>\n      <td>131.0</td>\n      <td>4.7</td>\n      <td>NaN</td>\n      <td>19.0</td>\n      <td>0.3</td>\n      <td>214</td>\n      <td>1.5</td>\n      <td>0.052</td>\n      <td>Alec Burks</td>\n      <td>CLE</td>\n    </tr>\n    <tr>\n      <th>90</th>\n      <td>NaN</td>\n      <td>13.7</td>\n      <td>128.0</td>\n      <td>4.6</td>\n      <td>1.3</td>\n      <td>NaN</td>\n      <td>21.0</td>\n      <td>0.7</td>\n      <td>-1.2</td>\n      <td>0</td>\n      <td>...</td>\n      <td>131.0</td>\n      <td>4.7</td>\n      <td>NaN</td>\n      <td>19.0</td>\n      <td>0.3</td>\n      <td>214</td>\n      <td>1.5</td>\n      <td>0.052</td>\n      <td>Alec Burks</td>\n      <td>SAC</td>\n    </tr>\n    <tr>\n      <th>424</th>\n      <td>NaN</td>\n      <td>13.7</td>\n      <td>128.0</td>\n      <td>4.6</td>\n      <td>1.3</td>\n      <td>NaN</td>\n      <td>21.0</td>\n      <td>0.7</td>\n      <td>-1.2</td>\n      <td>0</td>\n      <td>...</td>\n      <td>131.0</td>\n      <td>4.7</td>\n      <td>NaN</td>\n      <td>19.0</td>\n      <td>0.3</td>\n      <td>214</td>\n      <td>1.5</td>\n      <td>0.052</td>\n      <td>Alec Burks</td>\n      <td>UTA</td>\n    </tr>\n    <tr>\n      <th>212</th>\n      <td>NaN</td>\n      <td>17.1</td>\n      <td>24.0</td>\n      <td>6.3</td>\n      <td>0.9</td>\n      <td>NaN</td>\n      <td>2.0</td>\n      <td>0.5</td>\n      <td>-7.1</td>\n      <td>0</td>\n      <td>...</td>\n      <td>11.0</td>\n      <td>2.9</td>\n      <td>NaN</td>\n      <td>16.8</td>\n      <td>-0.2</td>\n      <td>213</td>\n      <td>-0.1</td>\n      <td>-0.027</td>\n      <td>Andrew Harrison</td>\n      <td>NOP</td>\n    </tr>\n    <tr>\n      <th>288</th>\n      <td>NaN</td>\n      <td>17.1</td>\n      <td>24.0</td>\n      <td>6.3</td>\n      <td>0.9</td>\n      <td>NaN</td>\n      <td>2.0</td>\n      <td>0.5</td>\n      <td>-7.1</td>\n      <td>0</td>\n      <td>...</td>\n      <td>11.0</td>\n      <td>2.9</td>\n      <td>NaN</td>\n      <td>16.8</td>\n      <td>-0.2</td>\n      <td>213</td>\n      <td>-0.1</td>\n      <td>-0.027</td>\n      <td>Andrew Harrison</td>\n      <td>MEM</td>\n    </tr>\n    <tr>\n      <th>...</th>\n      <td>...</td>\n      <td>...</td>\n      <td>...</td>\n      <td>...</td>\n      <td>...</td>\n      <td>...</td>\n      <td>...</td>\n      <td>...</td>\n      <td>...</td>\n      <td>...</td>\n      <td>...</td>\n      <td>...</td>\n      <td>...</td>\n      <td>...</td>\n      <td>...</td>\n      <td>...</td>\n      <td>...</td>\n      <td>...</td>\n      <td>...</td>\n      <td>...</td>\n      <td>...</td>\n    </tr>\n    <tr>\n      <th>448</th>\n      <td>NaN</td>\n      <td>11.1</td>\n      <td>160.0</td>\n      <td>3.7</td>\n      <td>0.7</td>\n      <td>NaN</td>\n      <td>17.0</td>\n      <td>0.4</td>\n      <td>-1.8</td>\n      <td>0</td>\n      <td>...</td>\n      <td>129.0</td>\n      <td>3.0</td>\n      <td>NaN</td>\n      <td>17.8</td>\n      <td>0.1</td>\n      <td>220</td>\n      <td>2.7</td>\n      <td>0.062</td>\n      <td>Wesley Matthews</td>\n      <td>IND</td>\n    </tr>\n    <tr>\n      <th>160</th>\n      <td>NaN</td>\n      <td>11.1</td>\n      <td>160.0</td>\n      <td>3.7</td>\n      <td>0.7</td>\n      <td>NaN</td>\n      <td>17.0</td>\n      <td>0.4</td>\n      <td>-1.8</td>\n      <td>0</td>\n      <td>...</td>\n      <td>129.0</td>\n      <td>3.0</td>\n      <td>NaN</td>\n      <td>17.8</td>\n      <td>0.1</td>\n      <td>220</td>\n      <td>2.7</td>\n      <td>0.062</td>\n      <td>Wesley Matthews</td>\n      <td>DAL</td>\n    </tr>\n    <tr>\n      <th>548</th>\n      <td>NaN</td>\n      <td>11.1</td>\n      <td>160.0</td>\n      <td>3.7</td>\n      <td>0.7</td>\n      <td>NaN</td>\n      <td>17.0</td>\n      <td>0.4</td>\n      <td>-1.8</td>\n      <td>0</td>\n      <td>...</td>\n      <td>129.0</td>\n      <td>3.0</td>\n      <td>NaN</td>\n      <td>17.8</td>\n      <td>0.1</td>\n      <td>220</td>\n      <td>2.7</td>\n      <td>0.062</td>\n      <td>Wesley Matthews</td>\n      <td>NYK</td>\n    </tr>\n    <tr>\n      <th>380</th>\n      <td>NaN</td>\n      <td>9.1</td>\n      <td>82.0</td>\n      <td>3.3</td>\n      <td>1.4</td>\n      <td>NaN</td>\n      <td>21.0</td>\n      <td>0.8</td>\n      <td>-2.8</td>\n      <td>0</td>\n      <td>...</td>\n      <td>55.0</td>\n      <td>2.2</td>\n      <td>NaN</td>\n      <td>11.8</td>\n      <td>-0.2</td>\n      <td>235</td>\n      <td>1.5</td>\n      <td>0.062</td>\n      <td>Wilson Chandler</td>\n      <td>PHI</td>\n    </tr>\n    <tr>\n      <th>65</th>\n      <td>NaN</td>\n      <td>9.1</td>\n      <td>82.0</td>\n      <td>3.3</td>\n      <td>1.4</td>\n      <td>NaN</td>\n      <td>21.0</td>\n      <td>0.8</td>\n      <td>-2.8</td>\n      <td>0</td>\n      <td>...</td>\n      <td>55.0</td>\n      <td>2.2</td>\n      <td>NaN</td>\n      <td>11.8</td>\n      <td>-0.2</td>\n      <td>235</td>\n      <td>1.5</td>\n      <td>0.062</td>\n      <td>Wilson Chandler</td>\n      <td>LAC</td>\n    </tr>\n  </tbody>\n</table>\n<p>178 rows × 108 columns</p>\n</div>"
     },
     "execution_count": 53,
     "metadata": {},
     "output_type": "execute_result"
    }
   ],
   "source": [
    "df_19[df_19.groupby('name')['name'].transform('size') > 1].sort_values(by=['name'])"
   ],
   "metadata": {
    "collapsed": false,
    "pycharm": {
     "name": "#%%\n"
    }
   }
  },
  {
   "cell_type": "markdown",
   "source": [
    "**Problème** : pour ces joueurs, leurs statistiques sont les mêmes quelque soit l'équipe pour laquelle ils jouent, et non pas leurs statistiques liées uniquement à leurs matchs joués pour chaque équipe\n",
    "Selon ce que l'on va faire par la suite, nous déciderons de garder ou non l'une de ces les lignes similaires (qui ne diffèrent que par la colonne 'team')"
   ],
   "metadata": {
    "collapsed": false,
    "pycharm": {
     "name": "#%% md\n"
    }
   }
  },
  {
   "cell_type": "markdown",
   "source": [
    "## Stats des sur les variables qui nous intéressent"
   ],
   "metadata": {
    "collapsed": false,
    "pycharm": {
     "name": "#%% md\n"
    }
   }
  },
  {
   "cell_type": "markdown",
   "source": [
    "### Variable 'salary'"
   ],
   "metadata": {
    "collapsed": false
   }
  },
  {
   "cell_type": "code",
   "execution_count": 79,
   "outputs": [
    {
     "name": "stdout",
     "output_type": "stream",
     "text": [
      "Il y a 49 salaires inconnus dans la base de 2019\n",
      "Il y a 51 salaires inconnus dans la base de 2020\n",
      "Il y a 60 salaires inconnus dans la base de 2021\n"
     ]
    }
   ],
   "source": [
    "print(\"Il y a \"+str(df_19['salary'].isnull().sum())+\" salaires inconnus dans la base de 2019\")\n",
    "print(\"Il y a \"+str(df_20['salary'].isnull().sum())+\" salaires inconnus dans la base de 2020\")\n",
    "print(\"Il y a \"+str(df_21['salary'].isnull().sum())+\" salaires inconnus dans la base de 2021\")"
   ],
   "metadata": {
    "collapsed": false,
    "pycharm": {
     "name": "#%%\n"
    }
   }
  },
  {
   "cell_type": "code",
   "execution_count": 16,
   "outputs": [],
   "source": [
    "df_19nd = df_19.groupby('name', group_keys=False).apply(lambda df: df.sample(1))\n",
    "# nd pour \"non duplicates\""
   ],
   "metadata": {
    "collapsed": false,
    "pycharm": {
     "name": "#%%\n"
    }
   }
  },
  {
   "cell_type": "code",
   "execution_count": 21,
   "outputs": [],
   "source": [
    "df_20nd = df_20.groupby('name', group_keys=False).apply(lambda df: df.sample(1))\n",
    "df_21nd = df_21.groupby('name', group_keys=False).apply(lambda df: df.sample(1))"
   ],
   "metadata": {
    "collapsed": false,
    "pycharm": {
     "name": "#%%\n"
    }
   }
  },
  {
   "cell_type": "code",
   "execution_count": 17,
   "outputs": [
    {
     "name": "stdout",
     "output_type": "stream",
     "text": [
      "530 622\n"
     ]
    }
   ],
   "source": [
    "print(len(df_19nd),len(df_19))"
   ],
   "metadata": {
    "collapsed": false,
    "pycharm": {
     "name": "#%%\n"
    }
   }
  },
  {
   "cell_type": "code",
   "execution_count": 30,
   "outputs": [
    {
     "data": {
      "text/plain": "609    37457154.0\n51     35654150.0\n474    35654150.0\n202    35654150.0\n520    32088932.0\n          ...    \n604           NaN\n190           NaN\n301           NaN\n525           NaN\n66            NaN\nName: salary, Length: 530, dtype: float64"
     },
     "execution_count": 30,
     "metadata": {},
     "output_type": "execute_result"
    }
   ],
   "source": [
    "df_19nd['salary'].sort_values(ascending=False)"
   ],
   "metadata": {
    "collapsed": false,
    "pycharm": {
     "name": "#%%\n"
    }
   }
  },
  {
   "cell_type": "code",
   "execution_count": 31,
   "outputs": [
    {
     "data": {
      "text/plain": "575    40231758.0\n446    38506482.0\n197    38506482.0\n188    38199000.0\n45     37436858.0\n          ...    \n230           NaN\n292           NaN\n465           NaN\n277           NaN\n200           NaN\nName: salary, Length: 530, dtype: float64"
     },
     "execution_count": 31,
     "metadata": {},
     "output_type": "execute_result"
    }
   ],
   "source": [
    "df_20nd['salary'].sort_values(ascending=False)"
   ],
   "metadata": {
    "collapsed": false,
    "pycharm": {
     "name": "#%%\n"
    }
   }
  },
  {
   "cell_type": "code",
   "execution_count": 32,
   "outputs": [
    {
     "data": {
      "text/plain": "611    43006362.0\n264    41358814.0\n241    41358814.0\n204    41254920.0\n184    41254920.0\n          ...    \n302           NaN\n423           NaN\n228           NaN\n141           NaN\n220           NaN\nName: salary, Length: 540, dtype: float64"
     },
     "execution_count": 32,
     "metadata": {},
     "output_type": "execute_result"
    }
   ],
   "source": [
    "df_21nd['salary'].sort_values(ascending=False)"
   ],
   "metadata": {
    "collapsed": false,
    "pycharm": {
     "name": "#%%\n"
    }
   }
  },
  {
   "cell_type": "code",
   "execution_count": 37,
   "outputs": [
    {
     "data": {
      "text/plain": "team\nATL      47371.0\nBOS     838464.0\nBRK       4737.0\nCHI      88531.0\nCHO     988464.0\nCLE      76236.0\nDAL     838464.0\nDEN     311070.0\nDET     838464.0\nGSW     486892.0\nHOU     137376.0\nIND     449794.0\nLAC    1349383.0\nLAL      52108.0\nMEM      47371.0\nMIA       9474.0\nMIL     456733.0\nMIN     203695.0\nNOP     194220.0\nNYK      42634.0\nOKC     151587.0\nORL     838464.0\nPHI      92857.0\nPHO     198580.0\nPOR     838464.0\nSAC      94742.0\nSAS      59820.0\nTOR     457418.0\nUTA    1378242.0\nWAS      17092.0\nName: salary, dtype: float64"
     },
     "execution_count": 37,
     "metadata": {},
     "output_type": "execute_result"
    }
   ],
   "source": [
    "df_19nd.groupby('team')['salary'].hist()"
   ],
   "metadata": {
    "collapsed": false,
    "pycharm": {
     "name": "#%%\n"
    }
   }
  }
 ],
 "metadata": {
  "kernelspec": {
   "display_name": "Python 3",
   "language": "python",
   "name": "python3"
  },
  "language_info": {
   "codemirror_mode": {
    "name": "ipython",
    "version": 2
   },
   "file_extension": ".py",
   "mimetype": "text/x-python",
   "name": "python",
   "nbconvert_exporter": "python",
   "pygments_lexer": "ipython2",
   "version": "2.7.6"
  }
 },
 "nbformat": 4,
 "nbformat_minor": 0
}