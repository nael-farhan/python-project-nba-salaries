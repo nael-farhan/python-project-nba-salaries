{
 "cells": [
  {
   "cell_type": "markdown",
   "source": [
    "Ceci concerne les joueurs transférés au cours de la saison ; leurs statistiques sont les mêmes sur chaque ligne dans lesquelles ils apparaissent. Dans certains cas, nous ne prendrons pas en compte ces lignes dupliquées : nous décidons donc d'en garder une seule, choisie aléatoirement."
   ],
   "metadata": {
    "collapsed": false
   }
  },
  {
   "cell_type": "code",
   "execution_count": 2,
   "metadata": {
    "collapsed": true
   },
   "outputs": [],
   "source": [
    "import pandas as pd"
   ]
  },
  {
   "cell_type": "code",
   "execution_count": 3,
   "outputs": [],
   "source": [
    "df_21= pd.read_csv('modified data\\data21.csv')\n",
    "df_20= pd.read_csv('modified data\\data20.csv')\n",
    "df_19= pd.read_csv('modified data\\data19.csv')"
   ],
   "metadata": {
    "collapsed": false,
    "pycharm": {
     "name": "#%%\n"
    }
   }
  },
  {
   "cell_type": "code",
   "execution_count": 5,
   "outputs": [],
   "source": [
    "df_19nd = df_19.groupby('name', group_keys=False).apply(lambda df: df.sample(1))\n",
    "df_20nd = df_20.groupby('name', group_keys=False).apply(lambda df: df.sample(1))\n",
    "df_21nd = df_21.groupby('name', group_keys=False).apply(lambda df: df.sample(1))"
   ],
   "metadata": {
    "collapsed": false,
    "pycharm": {
     "name": "#%%\n"
    }
   }
  },
  {
   "cell_type": "code",
   "execution_count": 6,
   "outputs": [],
   "source": [
    "df_21nd.to_csv(r'unduplicated data\\data21nd.csv', index=False)\n",
    "df_20nd.to_csv(r'unduplicated data\\data20nd.csv', index=False)\n",
    "df_19nd.to_csv(r'unduplicated data\\data19nd.csv', index=False)"
   ],
   "metadata": {
    "collapsed": false,
    "pycharm": {
     "name": "#%%\n"
    }
   }
  }
 ],
 "metadata": {
  "kernelspec": {
   "display_name": "Python 3",
   "language": "python",
   "name": "python3"
  },
  "language_info": {
   "codemirror_mode": {
    "name": "ipython",
    "version": 2
   },
   "file_extension": ".py",
   "mimetype": "text/x-python",
   "name": "python",
   "nbconvert_exporter": "python",
   "pygments_lexer": "ipython2",
   "version": "2.7.6"
  }
 },
 "nbformat": 4,
 "nbformat_minor": 0
}