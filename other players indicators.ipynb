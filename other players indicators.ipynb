{
 "cells": [
  {
   "cell_type": "code",
   "execution_count": 1,
   "metadata": {
    "collapsed": true
   },
   "outputs": [],
   "source": [
    "import pandas as pd"
   ]
  },
  {
   "cell_type": "code",
   "execution_count": 2,
   "outputs": [],
   "source": [
    "df_21= pd.read_csv('data\\data21.csv')\n",
    "df_20= pd.read_csv('data\\data20.csv')\n",
    "df_19= pd.read_csv('data\\data19.csv')"
   ],
   "metadata": {
    "collapsed": false,
    "pycharm": {
     "name": "#%%\n"
    }
   }
  },
  {
   "cell_type": "code",
   "execution_count": 6,
   "outputs": [
    {
     "data": {
      "text/plain": "0      27.694444\n1      15.910256\n2      15.640625\n3       6.413793\n4       6.033333\n         ...    \n617     4.937500\n618     4.031250\n619     6.250000\n620     4.680556\n621    21.538462\nLength: 622, dtype: float64"
     },
     "execution_count": 6,
     "metadata": {},
     "output_type": "execute_result"
    }
   ],
   "source": [
    "df_19['points']/df_19['games_played']"
   ],
   "metadata": {
    "collapsed": false,
    "pycharm": {
     "name": "#%%\n"
    }
   }
  },
  {
   "cell_type": "code",
   "execution_count": 7,
   "outputs": [
    {
     "data": {
      "text/plain": "     and_ones  assist_percentage  assists  assists_per_poss  block_percentage  \\\n0         NaN               30.3    424.0               8.4               3.9   \n1         NaN               27.4    430.0               8.8               1.1   \n2         NaN               16.2    205.0               5.2               0.6   \n3         NaN               10.7     84.0               3.8               0.7   \n4         NaN               18.2     84.0               6.4               0.3   \n..        ...                ...      ...               ...               ...   \n617       NaN                4.5     13.0               1.6               0.0   \n618       NaN               14.8    114.0               5.6               2.3   \n619       NaN               10.9    123.0               4.0               3.0   \n620       NaN                4.0     31.0               1.5               1.3   \n621       NaN               10.5    186.0               3.3               1.5   \n\n     blocking_fouls  blocks  blocks_per_poss  box_plus_minus  \\\n0               NaN   110.0              2.2            10.4   \n1               NaN    29.0              0.6             3.1   \n2               NaN    13.0              0.3             2.2   \n3               NaN     8.0              0.4            -1.5   \n4               NaN     2.0              0.2            -4.1   \n..              ...     ...              ...             ...   \n617             NaN     0.0              0.0            -2.2   \n618             NaN    27.0              1.3            -1.0   \n619             NaN    53.0              1.7             0.5   \n620             NaN    15.0              0.7            -3.5   \n621             NaN    47.0              0.8            -0.3   \n\n     center_percentage  ...  two_pointers  two_pointers_per_poss  \\\n0                    0  ...         669.0                   13.2   \n1                    0  ...         346.0                    7.1   \n2                    0  ...         274.0                    7.0   \n3                    0  ...          92.0                    4.1   \n4                    0  ...          30.0                    2.3   \n..                 ...  ...           ...                    ...   \n617                  0  ...          29.0                    3.7   \n618                  0  ...         109.0                    5.4   \n619                  0  ...         216.0                    6.9   \n620                  0  ...          92.0                    4.4   \n621                  0  ...         414.0                    7.4   \n\n     two_pointers_assisted_percentage  usage_percentage  \\\n0                                 NaN              32.3   \n1                                 NaN              22.9   \n2                                 NaN              20.7   \n3                                 NaN              15.2   \n4                                 NaN              14.2   \n..                                ...               ...   \n617                               NaN              16.8   \n618                               NaN              12.0   \n619                               NaN              12.8   \n620                               NaN              13.9   \n621                               NaN              25.6   \n\n     value_over_replacement_player  weight  win_shares  \\\n0                              7.4     242        14.4   \n1                              2.9     214         8.2   \n2                              1.9     229         6.5   \n3                              0.1     219         2.1   \n4                             -0.3     201         0.1   \n..                             ...     ...         ...   \n617                            0.0     210         0.7   \n618                            0.2     192         2.0   \n619                            0.9     222         6.0   \n620                           -0.4     215         2.1   \n621                            1.2     215         5.3   \n\n     win_shares_per_48_minutes                   name  team  \n0                        0.292  Giannis Antetokounmpo   MIL  \n1                        0.173           Eric Bledsoe   MIL  \n2                        0.171        Malcolm Brogdon   MIL  \n3                        0.098         Sterling Brown   MIL  \n4                        0.008          Isaiah Canaan   MIL  \n..                         ...                    ...   ...  \n617                      0.090             Damion Lee   GSW  \n618                      0.101       Shaun Livingston   GSW  \n619                      0.194           Kevon Looney   GSW  \n620                      0.100       Alfonzo McKinnie   GSW  \n621                      0.095          Klay Thompson   GSW  \n\n[622 rows x 108 columns]",
      "text/html": "<div>\n<style scoped>\n    .dataframe tbody tr th:only-of-type {\n        vertical-align: middle;\n    }\n\n    .dataframe tbody tr th {\n        vertical-align: top;\n    }\n\n    .dataframe thead th {\n        text-align: right;\n    }\n</style>\n<table border=\"1\" class=\"dataframe\">\n  <thead>\n    <tr style=\"text-align: right;\">\n      <th></th>\n      <th>and_ones</th>\n      <th>assist_percentage</th>\n      <th>assists</th>\n      <th>assists_per_poss</th>\n      <th>block_percentage</th>\n      <th>blocking_fouls</th>\n      <th>blocks</th>\n      <th>blocks_per_poss</th>\n      <th>box_plus_minus</th>\n      <th>center_percentage</th>\n      <th>...</th>\n      <th>two_pointers</th>\n      <th>two_pointers_per_poss</th>\n      <th>two_pointers_assisted_percentage</th>\n      <th>usage_percentage</th>\n      <th>value_over_replacement_player</th>\n      <th>weight</th>\n      <th>win_shares</th>\n      <th>win_shares_per_48_minutes</th>\n      <th>name</th>\n      <th>team</th>\n    </tr>\n  </thead>\n  <tbody>\n    <tr>\n      <th>0</th>\n      <td>NaN</td>\n      <td>30.3</td>\n      <td>424.0</td>\n      <td>8.4</td>\n      <td>3.9</td>\n      <td>NaN</td>\n      <td>110.0</td>\n      <td>2.2</td>\n      <td>10.4</td>\n      <td>0</td>\n      <td>...</td>\n      <td>669.0</td>\n      <td>13.2</td>\n      <td>NaN</td>\n      <td>32.3</td>\n      <td>7.4</td>\n      <td>242</td>\n      <td>14.4</td>\n      <td>0.292</td>\n      <td>Giannis Antetokounmpo</td>\n      <td>MIL</td>\n    </tr>\n    <tr>\n      <th>1</th>\n      <td>NaN</td>\n      <td>27.4</td>\n      <td>430.0</td>\n      <td>8.8</td>\n      <td>1.1</td>\n      <td>NaN</td>\n      <td>29.0</td>\n      <td>0.6</td>\n      <td>3.1</td>\n      <td>0</td>\n      <td>...</td>\n      <td>346.0</td>\n      <td>7.1</td>\n      <td>NaN</td>\n      <td>22.9</td>\n      <td>2.9</td>\n      <td>214</td>\n      <td>8.2</td>\n      <td>0.173</td>\n      <td>Eric Bledsoe</td>\n      <td>MIL</td>\n    </tr>\n    <tr>\n      <th>2</th>\n      <td>NaN</td>\n      <td>16.2</td>\n      <td>205.0</td>\n      <td>5.2</td>\n      <td>0.6</td>\n      <td>NaN</td>\n      <td>13.0</td>\n      <td>0.3</td>\n      <td>2.2</td>\n      <td>0</td>\n      <td>...</td>\n      <td>274.0</td>\n      <td>7.0</td>\n      <td>NaN</td>\n      <td>20.7</td>\n      <td>1.9</td>\n      <td>229</td>\n      <td>6.5</td>\n      <td>0.171</td>\n      <td>Malcolm Brogdon</td>\n      <td>MIL</td>\n    </tr>\n    <tr>\n      <th>3</th>\n      <td>NaN</td>\n      <td>10.7</td>\n      <td>84.0</td>\n      <td>3.8</td>\n      <td>0.7</td>\n      <td>NaN</td>\n      <td>8.0</td>\n      <td>0.4</td>\n      <td>-1.5</td>\n      <td>0</td>\n      <td>...</td>\n      <td>92.0</td>\n      <td>4.1</td>\n      <td>NaN</td>\n      <td>15.2</td>\n      <td>0.1</td>\n      <td>219</td>\n      <td>2.1</td>\n      <td>0.098</td>\n      <td>Sterling Brown</td>\n      <td>MIL</td>\n    </tr>\n    <tr>\n      <th>4</th>\n      <td>NaN</td>\n      <td>18.2</td>\n      <td>84.0</td>\n      <td>6.4</td>\n      <td>0.3</td>\n      <td>NaN</td>\n      <td>2.0</td>\n      <td>0.2</td>\n      <td>-4.1</td>\n      <td>0</td>\n      <td>...</td>\n      <td>30.0</td>\n      <td>2.3</td>\n      <td>NaN</td>\n      <td>14.2</td>\n      <td>-0.3</td>\n      <td>201</td>\n      <td>0.1</td>\n      <td>0.008</td>\n      <td>Isaiah Canaan</td>\n      <td>MIL</td>\n    </tr>\n    <tr>\n      <th>...</th>\n      <td>...</td>\n      <td>...</td>\n      <td>...</td>\n      <td>...</td>\n      <td>...</td>\n      <td>...</td>\n      <td>...</td>\n      <td>...</td>\n      <td>...</td>\n      <td>...</td>\n      <td>...</td>\n      <td>...</td>\n      <td>...</td>\n      <td>...</td>\n      <td>...</td>\n      <td>...</td>\n      <td>...</td>\n      <td>...</td>\n      <td>...</td>\n      <td>...</td>\n      <td>...</td>\n    </tr>\n    <tr>\n      <th>617</th>\n      <td>NaN</td>\n      <td>4.5</td>\n      <td>13.0</td>\n      <td>1.6</td>\n      <td>0.0</td>\n      <td>NaN</td>\n      <td>0.0</td>\n      <td>0.0</td>\n      <td>-2.2</td>\n      <td>0</td>\n      <td>...</td>\n      <td>29.0</td>\n      <td>3.7</td>\n      <td>NaN</td>\n      <td>16.8</td>\n      <td>0.0</td>\n      <td>210</td>\n      <td>0.7</td>\n      <td>0.090</td>\n      <td>Damion Lee</td>\n      <td>GSW</td>\n    </tr>\n    <tr>\n      <th>618</th>\n      <td>NaN</td>\n      <td>14.8</td>\n      <td>114.0</td>\n      <td>5.6</td>\n      <td>2.3</td>\n      <td>NaN</td>\n      <td>27.0</td>\n      <td>1.3</td>\n      <td>-1.0</td>\n      <td>0</td>\n      <td>...</td>\n      <td>109.0</td>\n      <td>5.4</td>\n      <td>NaN</td>\n      <td>12.0</td>\n      <td>0.2</td>\n      <td>192</td>\n      <td>2.0</td>\n      <td>0.101</td>\n      <td>Shaun Livingston</td>\n      <td>GSW</td>\n    </tr>\n    <tr>\n      <th>619</th>\n      <td>NaN</td>\n      <td>10.9</td>\n      <td>123.0</td>\n      <td>4.0</td>\n      <td>3.0</td>\n      <td>NaN</td>\n      <td>53.0</td>\n      <td>1.7</td>\n      <td>0.5</td>\n      <td>0</td>\n      <td>...</td>\n      <td>216.0</td>\n      <td>6.9</td>\n      <td>NaN</td>\n      <td>12.8</td>\n      <td>0.9</td>\n      <td>222</td>\n      <td>6.0</td>\n      <td>0.194</td>\n      <td>Kevon Looney</td>\n      <td>GSW</td>\n    </tr>\n    <tr>\n      <th>620</th>\n      <td>NaN</td>\n      <td>4.0</td>\n      <td>31.0</td>\n      <td>1.5</td>\n      <td>1.3</td>\n      <td>NaN</td>\n      <td>15.0</td>\n      <td>0.7</td>\n      <td>-3.5</td>\n      <td>0</td>\n      <td>...</td>\n      <td>92.0</td>\n      <td>4.4</td>\n      <td>NaN</td>\n      <td>13.9</td>\n      <td>-0.4</td>\n      <td>215</td>\n      <td>2.1</td>\n      <td>0.100</td>\n      <td>Alfonzo McKinnie</td>\n      <td>GSW</td>\n    </tr>\n    <tr>\n      <th>621</th>\n      <td>NaN</td>\n      <td>10.5</td>\n      <td>186.0</td>\n      <td>3.3</td>\n      <td>1.5</td>\n      <td>NaN</td>\n      <td>47.0</td>\n      <td>0.8</td>\n      <td>-0.3</td>\n      <td>0</td>\n      <td>...</td>\n      <td>414.0</td>\n      <td>7.4</td>\n      <td>NaN</td>\n      <td>25.6</td>\n      <td>1.2</td>\n      <td>215</td>\n      <td>5.3</td>\n      <td>0.095</td>\n      <td>Klay Thompson</td>\n      <td>GSW</td>\n    </tr>\n  </tbody>\n</table>\n<p>622 rows × 108 columns</p>\n</div>"
     },
     "execution_count": 7,
     "metadata": {},
     "output_type": "execute_result"
    }
   ],
   "source": [
    "df_19"
   ],
   "metadata": {
    "collapsed": false,
    "pycharm": {
     "name": "#%%\n"
    }
   }
  },
  {
   "cell_type": "code",
   "execution_count": 8,
   "outputs": [],
   "source": [
    "def add_columns(df):\n",
    "    df['points_per_game']=df['points']/df['games_played']\n",
    "    df['reb_per_game']=df['total_rebounds']/df['games_played']\n",
    "    df['ast_per_game']=df['assists']/df['games_played']"
   ],
   "metadata": {
    "collapsed": false,
    "pycharm": {
     "name": "#%%\n"
    }
   }
  },
  {
   "cell_type": "code",
   "execution_count": 9,
   "outputs": [],
   "source": [
    "add_columns(df_19)\n",
    "add_columns(df_20)\n",
    "add_columns(df_21)"
   ],
   "metadata": {
    "collapsed": false,
    "pycharm": {
     "name": "#%%\n"
    }
   }
  },
  {
   "cell_type": "code",
   "execution_count": 11,
   "outputs": [],
   "source": [
    "df_21.to_csv(r'C:\\Users\\nael3\\PycharmProjects\\python-project-nba-salaries\\modified data\\data21.csv', index = False)\n",
    "df_20.to_csv(r'C:\\Users\\nael3\\PycharmProjects\\python-project-nba-salaries\\modified data\\data20.csv', index = False)\n",
    "df_19.to_csv(r'C:\\Users\\nael3\\PycharmProjects\\python-project-nba-salaries\\modified data\\data19.csv', index = False)"
   ],
   "metadata": {
    "collapsed": false,
    "pycharm": {
     "name": "#%%\n"
    }
   }
  }
 ],
 "metadata": {
  "kernelspec": {
   "display_name": "Python 3",
   "language": "python",
   "name": "python3"
  },
  "language_info": {
   "codemirror_mode": {
    "name": "ipython",
    "version": 2
   },
   "file_extension": ".py",
   "mimetype": "text/x-python",
   "name": "python",
   "nbconvert_exporter": "python",
   "pygments_lexer": "ipython2",
   "version": "2.7.6"
  }
 },
 "nbformat": 4,
 "nbformat_minor": 0
}