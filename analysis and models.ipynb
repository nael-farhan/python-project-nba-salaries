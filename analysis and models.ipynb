{
 "cells": [
  {
   "cell_type": "code",
   "execution_count": 1,
   "metadata": {},
   "outputs": [],
   "source": [
    "import pandas as pd\n",
    "import numpy as np"
   ]
  },
  {
   "cell_type": "code",
   "execution_count": 2,
   "metadata": {},
   "outputs": [],
   "source": [
    "df_21= pd.read_csv('data21nd.csv')\n",
    "df_19 = pd.read_csv('data19nd.csv')"
   ]
  },
  {
   "cell_type": "code",
   "execution_count": 3,
   "metadata": {
    "scrolled": false
   },
   "outputs": [
    {
     "data": {
      "text/plain": [
       "['and_ones',\n",
       " 'assist_percentage',\n",
       " 'assists',\n",
       " 'assists_per_poss',\n",
       " 'block_percentage',\n",
       " 'blocking_fouls',\n",
       " 'blocks',\n",
       " 'blocks_per_poss',\n",
       " 'box_plus_minus',\n",
       " 'center_percentage',\n",
       " 'defensive_box_plus_minus',\n",
       " 'defensive_rebound_percentage',\n",
       " 'defensive_rebounds',\n",
       " 'defensive_rebounds_per_poss',\n",
       " 'defensive_win_shares',\n",
       " 'dunks',\n",
       " 'effective_field_goal_percentage',\n",
       " 'field_goal_attempts',\n",
       " 'field_goal_attempts_per_poss',\n",
       " 'field_goal_perc_sixteen_foot_plus_two_pointers',\n",
       " 'field_goal_perc_ten_to_sixteen_feet',\n",
       " 'field_goal_perc_three_to_ten_feet',\n",
       " 'field_goal_perc_zero_to_three_feet',\n",
       " 'field_goal_percentage',\n",
       " 'field_goals',\n",
       " 'field_goals_per_poss',\n",
       " 'free_throw_attempt_rate',\n",
       " 'free_throw_attempts',\n",
       " 'free_throw_attempts_per_poss',\n",
       " 'free_throw_percentage',\n",
       " 'free_throws',\n",
       " 'free_throws_per_poss',\n",
       " 'games_played',\n",
       " 'games_started',\n",
       " 'half_court_heaves',\n",
       " 'half_court_heaves_made',\n",
       " 'height',\n",
       " 'lost_ball_turnovers',\n",
       " 'minutes_played',\n",
       " 'nationality',\n",
       " 'net_plus_minus',\n",
       " 'offensive_box_plus_minus',\n",
       " 'offensive_fouls',\n",
       " 'offensive_rebound_percentage',\n",
       " 'offensive_rebounds',\n",
       " 'offensive_rebounds_per_poss',\n",
       " 'offensive_win_shares',\n",
       " 'on_court_plus_minus',\n",
       " 'other_turnovers',\n",
       " 'passing_turnovers',\n",
       " 'percentage_field_goals_as_dunks',\n",
       " 'percentage_of_three_pointers_from_corner',\n",
       " 'percentage_shots_three_pointers',\n",
       " 'percentage_shots_two_pointers',\n",
       " 'percentage_sixteen_foot_plus_two_pointers',\n",
       " 'percentage_ten_to_sixteen_footers',\n",
       " 'percentage_three_to_ten_footers',\n",
       " 'percentage_zero_to_three_footers',\n",
       " 'personal_fouls',\n",
       " 'personal_fouls_per_poss',\n",
       " 'player_efficiency_rating',\n",
       " 'player_id',\n",
       " 'point_guard_percentage',\n",
       " 'points',\n",
       " 'points_per_poss',\n",
       " 'points_generated_by_assists',\n",
       " 'position',\n",
       " 'power_forward_percentage',\n",
       " 'salary',\n",
       " 'shooting_distance',\n",
       " 'shooting_fouls',\n",
       " 'shooting_fouls_drawn',\n",
       " 'shooting_guard_percentage',\n",
       " 'shots_blocked',\n",
       " 'small_forward_percentage',\n",
       " 'steal_percentage',\n",
       " 'steals',\n",
       " 'steals_per_poss',\n",
       " 'take_fouls',\n",
       " 'team_abbreviation',\n",
       " 'three_point_attempt_rate',\n",
       " 'three_point_attempts',\n",
       " 'three_point_attempts_per_poss',\n",
       " 'three_point_percentage',\n",
       " 'three_point_shot_percentage_from_corner',\n",
       " 'three_pointers',\n",
       " 'three_pointers_assisted_percentage',\n",
       " 'three_pointers_per_poss',\n",
       " 'total_rebound_percentage',\n",
       " 'total_rebounds',\n",
       " 'total_rebounds_per_poss',\n",
       " 'true_shooting_percentage',\n",
       " 'turnover_percentage',\n",
       " 'turnovers',\n",
       " 'turnovers_per_poss',\n",
       " 'two_point_attempts',\n",
       " 'two_point_attempts_per_poss',\n",
       " 'two_point_percentage',\n",
       " 'two_pointers',\n",
       " 'two_pointers_per_poss',\n",
       " 'two_pointers_assisted_percentage',\n",
       " 'usage_percentage',\n",
       " 'value_over_replacement_player',\n",
       " 'weight',\n",
       " 'win_shares',\n",
       " 'win_shares_per_48_minutes',\n",
       " 'name',\n",
       " 'team',\n",
       " 'points_per_game',\n",
       " 'reb_per_game',\n",
       " 'ast_per_game']"
      ]
     },
     "execution_count": 3,
     "metadata": {},
     "output_type": "execute_result"
    }
   ],
   "source": [
    "list(df_21.columns)"
   ]
  },
  {
   "cell_type": "markdown",
   "metadata": {},
   "source": [
    "Notre objectif est d'entraîner un modèle de régression sur les données de la saison NBA 2018-2019, pour ensuite prédire les salaires de la saison 2020-2021 (nous n'utilisons pas la saison 2019-2020 qui a été perturbée par la crise du COVID). Pour ce faire, nous devons d'abord normaliser les salaires à cause de l'inflation."
   ]
  },
  {
   "cell_type": "code",
   "execution_count": 4,
   "metadata": {},
   "outputs": [
    {
     "data": {
      "text/plain": [
       "0      1.813458\n",
       "1     -0.658233\n",
       "2     -0.725268\n",
       "3      2.735092\n",
       "4     -0.024559\n",
       "         ...   \n",
       "525   -0.597703\n",
       "526   -0.570333\n",
       "527   -0.834806\n",
       "528   -0.449331\n",
       "529         NaN\n",
       "Name: salary, Length: 530, dtype: float64"
      ]
     },
     "execution_count": 4,
     "metadata": {},
     "output_type": "execute_result"
    }
   ],
   "source": [
    "df_19['salary']=(df_19['salary']-df_19['salary'].mean())/df_19['salary'].std()\n",
    "df_19['salary']"
   ]
  },
  {
   "cell_type": "markdown",
   "metadata": {},
   "source": [
    "# Machine Learning with Scikit Learn"
   ]
  },
  {
   "cell_type": "markdown",
   "metadata": {},
   "source": [
    "### Creation of X (feature Matrix)"
   ]
  },
  {
   "cell_type": "markdown",
   "metadata": {},
   "source": [
    "Nous avons sélectionné les quelques variables explicatives présentes dans nos données qui nous semblaient être les plus pertinentes pour juger la valeur salariale d'un joueur. De plus, nombre de variables sont très corrélées entre elles, ainsi les utiliser ensemble n'aurait que peu d'intérêt. Nous ne considérons également que les joueurs ayant comptabilisé plus de 20 matchs sur la saison en question."
   ]
  },
  {
   "cell_type": "code",
   "execution_count": 5,
   "metadata": {},
   "outputs": [
    {
     "data": {
      "text/html": [
       "<div>\n",
       "<style scoped>\n",
       "    .dataframe tbody tr th:only-of-type {\n",
       "        vertical-align: middle;\n",
       "    }\n",
       "\n",
       "    .dataframe tbody tr th {\n",
       "        vertical-align: top;\n",
       "    }\n",
       "\n",
       "    .dataframe thead th {\n",
       "        text-align: right;\n",
       "    }\n",
       "</style>\n",
       "<table border=\"1\" class=\"dataframe\">\n",
       "  <thead>\n",
       "    <tr style=\"text-align: right;\">\n",
       "      <th></th>\n",
       "      <th>points_per_poss</th>\n",
       "      <th>total_rebounds_per_poss</th>\n",
       "      <th>assists_per_poss</th>\n",
       "      <th>win_shares</th>\n",
       "      <th>player_efficiency_rating</th>\n",
       "    </tr>\n",
       "  </thead>\n",
       "  <tbody>\n",
       "    <tr>\n",
       "      <td>0</td>\n",
       "      <td>23.2</td>\n",
       "      <td>10.7</td>\n",
       "      <td>5.4</td>\n",
       "      <td>5.1</td>\n",
       "      <td>15.1</td>\n",
       "    </tr>\n",
       "    <tr>\n",
       "      <td>1</td>\n",
       "      <td>22.3</td>\n",
       "      <td>5.1</td>\n",
       "      <td>6.6</td>\n",
       "      <td>0.9</td>\n",
       "      <td>11.9</td>\n",
       "    </tr>\n",
       "    <tr>\n",
       "      <td>2</td>\n",
       "      <td>16.2</td>\n",
       "      <td>7.8</td>\n",
       "      <td>1.3</td>\n",
       "      <td>0.9</td>\n",
       "      <td>8.8</td>\n",
       "    </tr>\n",
       "    <tr>\n",
       "      <td>3</td>\n",
       "      <td>22.6</td>\n",
       "      <td>11.2</td>\n",
       "      <td>6.9</td>\n",
       "      <td>7.5</td>\n",
       "      <td>20.2</td>\n",
       "    </tr>\n",
       "    <tr>\n",
       "      <td>4</td>\n",
       "      <td>16.1</td>\n",
       "      <td>12.9</td>\n",
       "      <td>2.2</td>\n",
       "      <td>5.8</td>\n",
       "      <td>13.2</td>\n",
       "    </tr>\n",
       "    <tr>\n",
       "      <td>...</td>\n",
       "      <td>...</td>\n",
       "      <td>...</td>\n",
       "      <td>...</td>\n",
       "      <td>...</td>\n",
       "      <td>...</td>\n",
       "    </tr>\n",
       "    <tr>\n",
       "      <td>520</td>\n",
       "      <td>18.3</td>\n",
       "      <td>4.8</td>\n",
       "      <td>6.0</td>\n",
       "      <td>1.9</td>\n",
       "      <td>12.7</td>\n",
       "    </tr>\n",
       "    <tr>\n",
       "      <td>522</td>\n",
       "      <td>18.3</td>\n",
       "      <td>11.6</td>\n",
       "      <td>2.5</td>\n",
       "      <td>2.9</td>\n",
       "      <td>13.5</td>\n",
       "    </tr>\n",
       "    <tr>\n",
       "      <td>523</td>\n",
       "      <td>33.3</td>\n",
       "      <td>6.6</td>\n",
       "      <td>6.3</td>\n",
       "      <td>2.8</td>\n",
       "      <td>18.7</td>\n",
       "    </tr>\n",
       "    <tr>\n",
       "      <td>525</td>\n",
       "      <td>15.0</td>\n",
       "      <td>14.9</td>\n",
       "      <td>5.1</td>\n",
       "      <td>2.3</td>\n",
       "      <td>13.7</td>\n",
       "    </tr>\n",
       "    <tr>\n",
       "      <td>528</td>\n",
       "      <td>13.1</td>\n",
       "      <td>3.8</td>\n",
       "      <td>1.6</td>\n",
       "      <td>0.6</td>\n",
       "      <td>6.3</td>\n",
       "    </tr>\n",
       "  </tbody>\n",
       "</table>\n",
       "<p>423 rows × 5 columns</p>\n",
       "</div>"
      ],
      "text/plain": [
       "     points_per_poss  total_rebounds_per_poss  assists_per_poss  win_shares  \\\n",
       "0               23.2                     10.7               5.4         5.1   \n",
       "1               22.3                      5.1               6.6         0.9   \n",
       "2               16.2                      7.8               1.3         0.9   \n",
       "3               22.6                     11.2               6.9         7.5   \n",
       "4               16.1                     12.9               2.2         5.8   \n",
       "..               ...                      ...               ...         ...   \n",
       "520             18.3                      4.8               6.0         1.9   \n",
       "522             18.3                     11.6               2.5         2.9   \n",
       "523             33.3                      6.6               6.3         2.8   \n",
       "525             15.0                     14.9               5.1         2.3   \n",
       "528             13.1                      3.8               1.6         0.6   \n",
       "\n",
       "     player_efficiency_rating  \n",
       "0                        15.1  \n",
       "1                        11.9  \n",
       "2                         8.8  \n",
       "3                        20.2  \n",
       "4                        13.2  \n",
       "..                        ...  \n",
       "520                      12.7  \n",
       "522                      13.5  \n",
       "523                      18.7  \n",
       "525                      13.7  \n",
       "528                       6.3  \n",
       "\n",
       "[423 rows x 5 columns]"
      ]
     },
     "execution_count": 5,
     "metadata": {},
     "output_type": "execute_result"
    }
   ],
   "source": [
    "x = df_19[df_19['games_played']>=20][['points_per_poss','total_rebounds_per_poss','assists_per_poss','win_shares','player_efficiency_rating']]\n",
    "x.dropna()\n",
    "x"
   ]
  },
  {
   "cell_type": "markdown",
   "metadata": {},
   "source": [
    "### Creation of Y (target)"
   ]
  },
  {
   "cell_type": "code",
   "execution_count": 6,
   "metadata": {},
   "outputs": [
    {
     "data": {
      "text/plain": [
       "0      1.813458\n",
       "1     -0.658233\n",
       "2     -0.725268\n",
       "3      2.735092\n",
       "4     -0.024559\n",
       "         ...   \n",
       "520   -0.521574\n",
       "522   -0.442582\n",
       "523    1.550838\n",
       "525   -0.597703\n",
       "528   -0.449331\n",
       "Name: salary, Length: 423, dtype: float64"
      ]
     },
     "execution_count": 6,
     "metadata": {},
     "output_type": "execute_result"
    }
   ],
   "source": [
    "y = df_19[df_19['games_played']>=20]['salary']\n",
    "y"
   ]
  },
  {
   "cell_type": "markdown",
   "metadata": {},
   "source": [
    "Ici nous identifions puis retirons de y et de x les joueurs pour lesquels le salaire n'est pas disponible."
   ]
  },
  {
   "cell_type": "code",
   "execution_count": 7,
   "metadata": {},
   "outputs": [
    {
     "name": "stdout",
     "output_type": "stream",
     "text": [
      "Int64Index([7, 9, 86, 138, 230, 262, 263, 443], dtype='int64')\n"
     ]
    }
   ],
   "source": [
    "index_with_nan = y.index[y.isna()]\n",
    "print(index_with_nan)"
   ]
  },
  {
   "cell_type": "code",
   "execution_count": 8,
   "metadata": {},
   "outputs": [
    {
     "data": {
      "text/plain": [
       "0      1.813458\n",
       "1     -0.658233\n",
       "2     -0.725268\n",
       "3      2.735092\n",
       "4     -0.024559\n",
       "         ...   \n",
       "520   -0.521574\n",
       "522   -0.442582\n",
       "523    1.550838\n",
       "525   -0.597703\n",
       "528   -0.449331\n",
       "Name: salary, Length: 415, dtype: float64"
      ]
     },
     "execution_count": 8,
     "metadata": {},
     "output_type": "execute_result"
    }
   ],
   "source": [
    "y = y.dropna()\n",
    "y"
   ]
  },
  {
   "cell_type": "code",
   "execution_count": 9,
   "metadata": {},
   "outputs": [
    {
     "data": {
      "text/html": [
       "<div>\n",
       "<style scoped>\n",
       "    .dataframe tbody tr th:only-of-type {\n",
       "        vertical-align: middle;\n",
       "    }\n",
       "\n",
       "    .dataframe tbody tr th {\n",
       "        vertical-align: top;\n",
       "    }\n",
       "\n",
       "    .dataframe thead th {\n",
       "        text-align: right;\n",
       "    }\n",
       "</style>\n",
       "<table border=\"1\" class=\"dataframe\">\n",
       "  <thead>\n",
       "    <tr style=\"text-align: right;\">\n",
       "      <th></th>\n",
       "      <th>points_per_poss</th>\n",
       "      <th>total_rebounds_per_poss</th>\n",
       "      <th>assists_per_poss</th>\n",
       "      <th>win_shares</th>\n",
       "      <th>player_efficiency_rating</th>\n",
       "    </tr>\n",
       "  </thead>\n",
       "  <tbody>\n",
       "    <tr>\n",
       "      <td>0</td>\n",
       "      <td>23.2</td>\n",
       "      <td>10.7</td>\n",
       "      <td>5.4</td>\n",
       "      <td>5.1</td>\n",
       "      <td>15.1</td>\n",
       "    </tr>\n",
       "    <tr>\n",
       "      <td>1</td>\n",
       "      <td>22.3</td>\n",
       "      <td>5.1</td>\n",
       "      <td>6.6</td>\n",
       "      <td>0.9</td>\n",
       "      <td>11.9</td>\n",
       "    </tr>\n",
       "    <tr>\n",
       "      <td>2</td>\n",
       "      <td>16.2</td>\n",
       "      <td>7.8</td>\n",
       "      <td>1.3</td>\n",
       "      <td>0.9</td>\n",
       "      <td>8.8</td>\n",
       "    </tr>\n",
       "    <tr>\n",
       "      <td>3</td>\n",
       "      <td>22.6</td>\n",
       "      <td>11.2</td>\n",
       "      <td>6.9</td>\n",
       "      <td>7.5</td>\n",
       "      <td>20.2</td>\n",
       "    </tr>\n",
       "    <tr>\n",
       "      <td>4</td>\n",
       "      <td>16.1</td>\n",
       "      <td>12.9</td>\n",
       "      <td>2.2</td>\n",
       "      <td>5.8</td>\n",
       "      <td>13.2</td>\n",
       "    </tr>\n",
       "    <tr>\n",
       "      <td>...</td>\n",
       "      <td>...</td>\n",
       "      <td>...</td>\n",
       "      <td>...</td>\n",
       "      <td>...</td>\n",
       "      <td>...</td>\n",
       "    </tr>\n",
       "    <tr>\n",
       "      <td>520</td>\n",
       "      <td>18.3</td>\n",
       "      <td>4.8</td>\n",
       "      <td>6.0</td>\n",
       "      <td>1.9</td>\n",
       "      <td>12.7</td>\n",
       "    </tr>\n",
       "    <tr>\n",
       "      <td>522</td>\n",
       "      <td>18.3</td>\n",
       "      <td>11.6</td>\n",
       "      <td>2.5</td>\n",
       "      <td>2.9</td>\n",
       "      <td>13.5</td>\n",
       "    </tr>\n",
       "    <tr>\n",
       "      <td>523</td>\n",
       "      <td>33.3</td>\n",
       "      <td>6.6</td>\n",
       "      <td>6.3</td>\n",
       "      <td>2.8</td>\n",
       "      <td>18.7</td>\n",
       "    </tr>\n",
       "    <tr>\n",
       "      <td>525</td>\n",
       "      <td>15.0</td>\n",
       "      <td>14.9</td>\n",
       "      <td>5.1</td>\n",
       "      <td>2.3</td>\n",
       "      <td>13.7</td>\n",
       "    </tr>\n",
       "    <tr>\n",
       "      <td>528</td>\n",
       "      <td>13.1</td>\n",
       "      <td>3.8</td>\n",
       "      <td>1.6</td>\n",
       "      <td>0.6</td>\n",
       "      <td>6.3</td>\n",
       "    </tr>\n",
       "  </tbody>\n",
       "</table>\n",
       "<p>415 rows × 5 columns</p>\n",
       "</div>"
      ],
      "text/plain": [
       "     points_per_poss  total_rebounds_per_poss  assists_per_poss  win_shares  \\\n",
       "0               23.2                     10.7               5.4         5.1   \n",
       "1               22.3                      5.1               6.6         0.9   \n",
       "2               16.2                      7.8               1.3         0.9   \n",
       "3               22.6                     11.2               6.9         7.5   \n",
       "4               16.1                     12.9               2.2         5.8   \n",
       "..               ...                      ...               ...         ...   \n",
       "520             18.3                      4.8               6.0         1.9   \n",
       "522             18.3                     11.6               2.5         2.9   \n",
       "523             33.3                      6.6               6.3         2.8   \n",
       "525             15.0                     14.9               5.1         2.3   \n",
       "528             13.1                      3.8               1.6         0.6   \n",
       "\n",
       "     player_efficiency_rating  \n",
       "0                        15.1  \n",
       "1                        11.9  \n",
       "2                         8.8  \n",
       "3                        20.2  \n",
       "4                        13.2  \n",
       "..                        ...  \n",
       "520                      12.7  \n",
       "522                      13.5  \n",
       "523                      18.7  \n",
       "525                      13.7  \n",
       "528                       6.3  \n",
       "\n",
       "[415 rows x 5 columns]"
      ]
     },
     "execution_count": 9,
     "metadata": {},
     "output_type": "execute_result"
    }
   ],
   "source": [
    "x = x.drop(index_with_nan)\n",
    "x"
   ]
  },
  {
   "cell_type": "markdown",
   "metadata": {},
   "source": [
    "## Machine Learning Regressors"
   ]
  },
  {
   "cell_type": "markdown",
   "metadata": {},
   "source": [
    "Nous essayons ici différents modèles de Machine Learning utilisant des méthodes de régression pour tenter de prédire les salaires des joueurs."
   ]
  },
  {
   "cell_type": "code",
   "execution_count": 10,
   "metadata": {},
   "outputs": [],
   "source": [
    "from sklearn.model_selection import train_test_split\n",
    "\n",
    "x_train,x_test,y_train,y_test = train_test_split(x,y,test_size=0.2)"
   ]
  },
  {
   "cell_type": "code",
   "execution_count": 11,
   "metadata": {},
   "outputs": [],
   "source": [
    "np.random.seed(53)"
   ]
  },
  {
   "cell_type": "code",
   "execution_count": 12,
   "metadata": {},
   "outputs": [],
   "source": [
    "# 1\n",
    "from sklearn import svm\n",
    "reg1 = svm.SVR(gamma = 'scale')\n",
    "reg1 = reg1.fit(x_train, y_train)"
   ]
  },
  {
   "cell_type": "code",
   "execution_count": 13,
   "metadata": {},
   "outputs": [
    {
     "data": {
      "text/plain": [
       "array([-0.0517241 ,  0.164605  , -0.41069101, -0.45244479, -0.48008987,\n",
       "       -0.62185917,  0.74570391,  0.33689536, -0.20142989,  0.80387827,\n",
       "       -0.55039835, -0.30656344, -0.45056225, -0.43879135,  0.09392269,\n",
       "       -0.23046366, -0.19448564, -0.01693651, -0.42047196, -0.39427359,\n",
       "        0.1204162 , -0.18777799, -0.66919625, -0.51786175, -0.45499398,\n",
       "        0.92604117,  0.62589566,  0.30250918,  0.95082185, -0.28118499,\n",
       "       -0.34490238, -0.62206143, -0.43945576, -0.13471027,  0.82139472,\n",
       "       -0.6230668 , -0.37183702, -0.30772109,  0.52715268, -0.43387217,\n",
       "       -0.59114813,  0.31817046,  0.74001036, -0.10794813, -0.52323925,\n",
       "       -0.56381617, -0.18717155,  1.00583384, -0.61203353, -0.56665414,\n",
       "       -0.29578785, -0.58794883,  0.54823466, -0.54900944,  1.01624274,\n",
       "       -0.65487642, -0.36238577, -0.63750722,  0.21079168, -0.11682329,\n",
       "        0.14208757, -0.16499071, -0.46894737, -0.40599129, -0.43686354,\n",
       "       -0.6394125 ,  0.80868148, -0.02577455, -0.27095236, -0.52707743,\n",
       "       -0.60322572,  0.52662211,  0.03836821, -0.3265171 , -0.41487773,\n",
       "       -0.54508175, -0.58986487, -0.42333849, -0.43891284, -0.55597026,\n",
       "       -0.41680095, -0.42325605, -0.46982362])"
      ]
     },
     "execution_count": 13,
     "metadata": {},
     "output_type": "execute_result"
    }
   ],
   "source": [
    "y_preds = reg1.predict(x_test)\n",
    "y_preds"
   ]
  },
  {
   "cell_type": "code",
   "execution_count": 14,
   "metadata": {},
   "outputs": [
    {
     "data": {
      "text/plain": [
       "0.2801530687984334"
      ]
     },
     "execution_count": 14,
     "metadata": {},
     "output_type": "execute_result"
    }
   ],
   "source": [
    "reg1.score(x_test,y_test)"
   ]
  },
  {
   "cell_type": "code",
   "execution_count": 15,
   "metadata": {},
   "outputs": [],
   "source": [
    "np.random.seed(37)"
   ]
  },
  {
   "cell_type": "code",
   "execution_count": 16,
   "metadata": {},
   "outputs": [],
   "source": [
    "# 2\n",
    "from sklearn.linear_model import LinearRegression\n",
    "reg2 = LinearRegression()\n",
    "reg2 = reg2.fit(x_train,y_train)"
   ]
  },
  {
   "cell_type": "code",
   "execution_count": 17,
   "metadata": {},
   "outputs": [
    {
     "data": {
      "text/plain": [
       "array([ 0.43500088,  0.56773576, -0.04597572, -0.1643885 , -0.14106468,\n",
       "       -0.40257576,  1.0381317 ,  0.52022465,  0.09674933,  0.83847647,\n",
       "       -0.26237192,  0.08088345, -0.23991255, -0.10062323,  0.3884655 ,\n",
       "       -0.02885166,  0.25697488,  0.13258267, -0.13851796, -0.33598266,\n",
       "        0.62827653,  0.05232813, -0.51377983, -0.3092819 , -0.16885615,\n",
       "        1.15425908,  0.7485175 ,  0.61291356,  1.4196941 ,  0.11640208,\n",
       "        0.01254454, -0.49832603, -0.13601096, -0.09112229,  0.99436441,\n",
       "       -0.31369752, -0.09815495,  0.08037414,  0.96704557, -0.20633666,\n",
       "       -0.43138841,  0.88454789,  1.30549485,  0.28294027, -0.22637732,\n",
       "       -0.26656882,  0.18314568,  1.69765281, -0.68258101, -0.30621897,\n",
       "        0.04890796, -0.95820327,  0.97388186, -0.26460104,  1.11026532,\n",
       "       -0.53273329,  0.00537634, -0.4753016 ,  0.70151066,  0.41208401,\n",
       "        0.32859423,  0.39024067, -0.18727981, -0.08578218, -0.17176392,\n",
       "       -0.42892006,  0.89846652,  0.48965082,  0.05804036, -0.25012098,\n",
       "       -0.4586152 ,  0.83095993,  0.47426858,  0.08080371, -0.00857787,\n",
       "       -0.28918586, -0.3951806 , -0.1101402 , -0.01930142, -0.28294203,\n",
       "       -0.12526957, -0.11331953, -0.18263872])"
      ]
     },
     "execution_count": 17,
     "metadata": {},
     "output_type": "execute_result"
    }
   ],
   "source": [
    "y_preds2  = reg2.predict(x_test)\n",
    "y_preds2"
   ]
  },
  {
   "cell_type": "code",
   "execution_count": 18,
   "metadata": {},
   "outputs": [
    {
     "data": {
      "text/plain": [
       "0.3206247862612256"
      ]
     },
     "execution_count": 18,
     "metadata": {},
     "output_type": "execute_result"
    }
   ],
   "source": [
    "reg2.score(x_test, y_test)"
   ]
  },
  {
   "cell_type": "code",
   "execution_count": 19,
   "metadata": {},
   "outputs": [],
   "source": [
    "np.random.seed(42)"
   ]
  },
  {
   "cell_type": "code",
   "execution_count": 23,
   "metadata": {},
   "outputs": [],
   "source": [
    "#3\n",
    "from sklearn.ensemble import RandomForestRegressor\n",
    "reg3 = RandomForestRegressor(n_estimators = 100)\n",
    "reg3 = reg3.fit(x_train, y_train)"
   ]
  },
  {
   "cell_type": "code",
   "execution_count": 24,
   "metadata": {},
   "outputs": [
    {
     "data": {
      "text/plain": [
       "array([-0.05995993,  0.92525346, -0.05098332, -0.40728664, -0.20015116,\n",
       "       -0.43925543,  0.55329369,  0.09816212, -0.11284302,  1.11361472,\n",
       "       -0.19720113,  0.46121622, -0.36772607, -0.3553628 ,  0.63881624,\n",
       "        0.03725512,  0.06312455,  0.33734049,  0.18719552, -0.17059172,\n",
       "       -0.08838994,  0.7352722 , -0.41264594, -0.44056856, -0.19274673,\n",
       "        1.12851855,  0.98979945,  0.67256803,  1.87694973,  0.02509876,\n",
       "       -0.01489442, -0.34413366,  0.01181848, -0.03392019,  0.69831653,\n",
       "       -0.61774465,  0.12760808,  0.54551547,  1.05715303, -0.09353196,\n",
       "       -0.52984582,  0.10914712,  1.04860758,  0.48342942, -0.14537859,\n",
       "       -0.36432181,  0.38168046,  2.50761065, -0.12168264, -0.2283089 ,\n",
       "       -0.2401908 ,  0.01776318,  0.77923798, -0.44464993,  0.48321638,\n",
       "       -0.56902707,  0.29169016, -0.56891062, -0.17756972,  0.26627383,\n",
       "        0.65868648, -0.06054521, -0.3949775 ,  0.09147116,  0.20991226,\n",
       "       -0.31748821,  0.52652356, -0.01604545, -0.26259104, -0.23219186,\n",
       "       -0.67332635,  0.3209144 ,  0.33250842,  0.05871233,  0.07224272,\n",
       "       -0.34458087, -0.36277991,  0.09908681,  0.1164833 , -0.18885025,\n",
       "       -0.23985944, -0.35027908, -0.1055266 ])"
      ]
     },
     "execution_count": 24,
     "metadata": {},
     "output_type": "execute_result"
    }
   ],
   "source": [
    "y_preds3 = reg3.predict(x_test)\n",
    "y_preds3"
   ]
  },
  {
   "cell_type": "code",
   "execution_count": 25,
   "metadata": {},
   "outputs": [
    {
     "data": {
      "text/plain": [
       "0.1450714873855986"
      ]
     },
     "execution_count": 25,
     "metadata": {},
     "output_type": "execute_result"
    }
   ],
   "source": [
    "reg3.score(x_test, y_test)"
   ]
  },
  {
   "cell_type": "markdown",
   "metadata": {},
   "source": [
    "Après ces premiers tests, nous nous sommes dit qu'il était très commun au basket de comparer les performances des joueurs en utilisant trois variables : les points par match, les passes par match et les rebonds par match. Nous avons alors créé ces trois nouvelles variables (modified data) qui n'étaient initialement pas dans notre base de données, et les avons utilisés pour nos modèles."
   ]
  },
  {
   "cell_type": "markdown",
   "metadata": {},
   "source": [
    "### Nouvelles variables"
   ]
  },
  {
   "cell_type": "code",
   "execution_count": 26,
   "metadata": {},
   "outputs": [
    {
     "data": {
      "text/html": [
       "<div>\n",
       "<style scoped>\n",
       "    .dataframe tbody tr th:only-of-type {\n",
       "        vertical-align: middle;\n",
       "    }\n",
       "\n",
       "    .dataframe tbody tr th {\n",
       "        vertical-align: top;\n",
       "    }\n",
       "\n",
       "    .dataframe thead th {\n",
       "        text-align: right;\n",
       "    }\n",
       "</style>\n",
       "<table border=\"1\" class=\"dataframe\">\n",
       "  <thead>\n",
       "    <tr style=\"text-align: right;\">\n",
       "      <th></th>\n",
       "      <th>points_per_game</th>\n",
       "      <th>reb_per_game</th>\n",
       "      <th>ast_per_game</th>\n",
       "      <th>win_shares</th>\n",
       "      <th>player_efficiency_rating</th>\n",
       "    </tr>\n",
       "  </thead>\n",
       "  <tbody>\n",
       "    <tr>\n",
       "      <td>0</td>\n",
       "      <td>15.974359</td>\n",
       "      <td>7.358974</td>\n",
       "      <td>3.705128</td>\n",
       "      <td>5.1</td>\n",
       "      <td>15.1</td>\n",
       "    </tr>\n",
       "    <tr>\n",
       "      <td>1</td>\n",
       "      <td>5.880000</td>\n",
       "      <td>1.340000</td>\n",
       "      <td>1.740000</td>\n",
       "      <td>0.9</td>\n",
       "      <td>11.9</td>\n",
       "    </tr>\n",
       "    <tr>\n",
       "      <td>2</td>\n",
       "      <td>3.950820</td>\n",
       "      <td>1.901639</td>\n",
       "      <td>0.327869</td>\n",
       "      <td>0.9</td>\n",
       "      <td>8.8</td>\n",
       "    </tr>\n",
       "    <tr>\n",
       "      <td>3</td>\n",
       "      <td>13.602941</td>\n",
       "      <td>6.735294</td>\n",
       "      <td>4.161765</td>\n",
       "      <td>7.5</td>\n",
       "      <td>20.2</td>\n",
       "    </tr>\n",
       "    <tr>\n",
       "      <td>4</td>\n",
       "      <td>9.382716</td>\n",
       "      <td>7.530864</td>\n",
       "      <td>1.283951</td>\n",
       "      <td>5.8</td>\n",
       "      <td>13.2</td>\n",
       "    </tr>\n",
       "    <tr>\n",
       "      <td>...</td>\n",
       "      <td>...</td>\n",
       "      <td>...</td>\n",
       "      <td>...</td>\n",
       "      <td>...</td>\n",
       "      <td>...</td>\n",
       "    </tr>\n",
       "    <tr>\n",
       "      <td>520</td>\n",
       "      <td>5.915493</td>\n",
       "      <td>1.535211</td>\n",
       "      <td>1.929577</td>\n",
       "      <td>1.9</td>\n",
       "      <td>12.7</td>\n",
       "    </tr>\n",
       "    <tr>\n",
       "      <td>522</td>\n",
       "      <td>6.649351</td>\n",
       "      <td>4.207792</td>\n",
       "      <td>0.922078</td>\n",
       "      <td>2.9</td>\n",
       "      <td>13.5</td>\n",
       "    </tr>\n",
       "    <tr>\n",
       "      <td>523</td>\n",
       "      <td>23.682540</td>\n",
       "      <td>4.666667</td>\n",
       "      <td>4.492063</td>\n",
       "      <td>2.8</td>\n",
       "      <td>18.7</td>\n",
       "    </tr>\n",
       "    <tr>\n",
       "      <td>525</td>\n",
       "      <td>3.926471</td>\n",
       "      <td>3.897059</td>\n",
       "      <td>1.338235</td>\n",
       "      <td>2.3</td>\n",
       "      <td>13.7</td>\n",
       "    </tr>\n",
       "    <tr>\n",
       "      <td>528</td>\n",
       "      <td>5.322581</td>\n",
       "      <td>1.548387</td>\n",
       "      <td>0.645161</td>\n",
       "      <td>0.6</td>\n",
       "      <td>6.3</td>\n",
       "    </tr>\n",
       "  </tbody>\n",
       "</table>\n",
       "<p>423 rows × 5 columns</p>\n",
       "</div>"
      ],
      "text/plain": [
       "     points_per_game  reb_per_game  ast_per_game  win_shares  \\\n",
       "0          15.974359      7.358974      3.705128         5.1   \n",
       "1           5.880000      1.340000      1.740000         0.9   \n",
       "2           3.950820      1.901639      0.327869         0.9   \n",
       "3          13.602941      6.735294      4.161765         7.5   \n",
       "4           9.382716      7.530864      1.283951         5.8   \n",
       "..               ...           ...           ...         ...   \n",
       "520         5.915493      1.535211      1.929577         1.9   \n",
       "522         6.649351      4.207792      0.922078         2.9   \n",
       "523        23.682540      4.666667      4.492063         2.8   \n",
       "525         3.926471      3.897059      1.338235         2.3   \n",
       "528         5.322581      1.548387      0.645161         0.6   \n",
       "\n",
       "     player_efficiency_rating  \n",
       "0                        15.1  \n",
       "1                        11.9  \n",
       "2                         8.8  \n",
       "3                        20.2  \n",
       "4                        13.2  \n",
       "..                        ...  \n",
       "520                      12.7  \n",
       "522                      13.5  \n",
       "523                      18.7  \n",
       "525                      13.7  \n",
       "528                       6.3  \n",
       "\n",
       "[423 rows x 5 columns]"
      ]
     },
     "execution_count": 26,
     "metadata": {},
     "output_type": "execute_result"
    }
   ],
   "source": [
    "x = df_19[df_19['games_played']>=20][['points_per_game','reb_per_game','ast_per_game','win_shares','player_efficiency_rating']]\n",
    "x.dropna()\n",
    "x"
   ]
  },
  {
   "cell_type": "code",
   "execution_count": 27,
   "metadata": {},
   "outputs": [
    {
     "data": {
      "text/html": [
       "<div>\n",
       "<style scoped>\n",
       "    .dataframe tbody tr th:only-of-type {\n",
       "        vertical-align: middle;\n",
       "    }\n",
       "\n",
       "    .dataframe tbody tr th {\n",
       "        vertical-align: top;\n",
       "    }\n",
       "\n",
       "    .dataframe thead th {\n",
       "        text-align: right;\n",
       "    }\n",
       "</style>\n",
       "<table border=\"1\" class=\"dataframe\">\n",
       "  <thead>\n",
       "    <tr style=\"text-align: right;\">\n",
       "      <th></th>\n",
       "      <th>points_per_game</th>\n",
       "      <th>reb_per_game</th>\n",
       "      <th>ast_per_game</th>\n",
       "      <th>win_shares</th>\n",
       "      <th>player_efficiency_rating</th>\n",
       "    </tr>\n",
       "  </thead>\n",
       "  <tbody>\n",
       "    <tr>\n",
       "      <td>0</td>\n",
       "      <td>15.974359</td>\n",
       "      <td>7.358974</td>\n",
       "      <td>3.705128</td>\n",
       "      <td>5.1</td>\n",
       "      <td>15.1</td>\n",
       "    </tr>\n",
       "    <tr>\n",
       "      <td>1</td>\n",
       "      <td>5.880000</td>\n",
       "      <td>1.340000</td>\n",
       "      <td>1.740000</td>\n",
       "      <td>0.9</td>\n",
       "      <td>11.9</td>\n",
       "    </tr>\n",
       "    <tr>\n",
       "      <td>2</td>\n",
       "      <td>3.950820</td>\n",
       "      <td>1.901639</td>\n",
       "      <td>0.327869</td>\n",
       "      <td>0.9</td>\n",
       "      <td>8.8</td>\n",
       "    </tr>\n",
       "    <tr>\n",
       "      <td>3</td>\n",
       "      <td>13.602941</td>\n",
       "      <td>6.735294</td>\n",
       "      <td>4.161765</td>\n",
       "      <td>7.5</td>\n",
       "      <td>20.2</td>\n",
       "    </tr>\n",
       "    <tr>\n",
       "      <td>4</td>\n",
       "      <td>9.382716</td>\n",
       "      <td>7.530864</td>\n",
       "      <td>1.283951</td>\n",
       "      <td>5.8</td>\n",
       "      <td>13.2</td>\n",
       "    </tr>\n",
       "    <tr>\n",
       "      <td>...</td>\n",
       "      <td>...</td>\n",
       "      <td>...</td>\n",
       "      <td>...</td>\n",
       "      <td>...</td>\n",
       "      <td>...</td>\n",
       "    </tr>\n",
       "    <tr>\n",
       "      <td>520</td>\n",
       "      <td>5.915493</td>\n",
       "      <td>1.535211</td>\n",
       "      <td>1.929577</td>\n",
       "      <td>1.9</td>\n",
       "      <td>12.7</td>\n",
       "    </tr>\n",
       "    <tr>\n",
       "      <td>522</td>\n",
       "      <td>6.649351</td>\n",
       "      <td>4.207792</td>\n",
       "      <td>0.922078</td>\n",
       "      <td>2.9</td>\n",
       "      <td>13.5</td>\n",
       "    </tr>\n",
       "    <tr>\n",
       "      <td>523</td>\n",
       "      <td>23.682540</td>\n",
       "      <td>4.666667</td>\n",
       "      <td>4.492063</td>\n",
       "      <td>2.8</td>\n",
       "      <td>18.7</td>\n",
       "    </tr>\n",
       "    <tr>\n",
       "      <td>525</td>\n",
       "      <td>3.926471</td>\n",
       "      <td>3.897059</td>\n",
       "      <td>1.338235</td>\n",
       "      <td>2.3</td>\n",
       "      <td>13.7</td>\n",
       "    </tr>\n",
       "    <tr>\n",
       "      <td>528</td>\n",
       "      <td>5.322581</td>\n",
       "      <td>1.548387</td>\n",
       "      <td>0.645161</td>\n",
       "      <td>0.6</td>\n",
       "      <td>6.3</td>\n",
       "    </tr>\n",
       "  </tbody>\n",
       "</table>\n",
       "<p>415 rows × 5 columns</p>\n",
       "</div>"
      ],
      "text/plain": [
       "     points_per_game  reb_per_game  ast_per_game  win_shares  \\\n",
       "0          15.974359      7.358974      3.705128         5.1   \n",
       "1           5.880000      1.340000      1.740000         0.9   \n",
       "2           3.950820      1.901639      0.327869         0.9   \n",
       "3          13.602941      6.735294      4.161765         7.5   \n",
       "4           9.382716      7.530864      1.283951         5.8   \n",
       "..               ...           ...           ...         ...   \n",
       "520         5.915493      1.535211      1.929577         1.9   \n",
       "522         6.649351      4.207792      0.922078         2.9   \n",
       "523        23.682540      4.666667      4.492063         2.8   \n",
       "525         3.926471      3.897059      1.338235         2.3   \n",
       "528         5.322581      1.548387      0.645161         0.6   \n",
       "\n",
       "     player_efficiency_rating  \n",
       "0                        15.1  \n",
       "1                        11.9  \n",
       "2                         8.8  \n",
       "3                        20.2  \n",
       "4                        13.2  \n",
       "..                        ...  \n",
       "520                      12.7  \n",
       "522                      13.5  \n",
       "523                      18.7  \n",
       "525                      13.7  \n",
       "528                       6.3  \n",
       "\n",
       "[415 rows x 5 columns]"
      ]
     },
     "execution_count": 27,
     "metadata": {},
     "output_type": "execute_result"
    }
   ],
   "source": [
    "x = x.drop(index_with_nan)\n",
    "x"
   ]
  },
  {
   "cell_type": "code",
   "execution_count": 28,
   "metadata": {},
   "outputs": [],
   "source": [
    "from sklearn.model_selection import train_test_split\n",
    "\n",
    "x_train,x_test,y_train,y_test = train_test_split(x,y,test_size=0.2)"
   ]
  },
  {
   "cell_type": "code",
   "execution_count": 29,
   "metadata": {},
   "outputs": [],
   "source": [
    "np.random.seed(53)"
   ]
  },
  {
   "cell_type": "code",
   "execution_count": 30,
   "metadata": {},
   "outputs": [],
   "source": [
    "# 1\n",
    "from sklearn import svm\n",
    "reg4 = svm.SVR(gamma = 'scale')\n",
    "reg4 = reg4.fit(x_train, y_train)"
   ]
  },
  {
   "cell_type": "code",
   "execution_count": 31,
   "metadata": {},
   "outputs": [
    {
     "data": {
      "text/plain": [
       "array([ 0.41073195,  0.23320155, -0.33107522, -0.65693628,  1.48091468,\n",
       "        2.5316821 ,  1.84094374,  0.17876154, -0.59159811, -0.59183222,\n",
       "        0.87284608, -0.52797079,  0.1722785 ,  1.46406821, -0.59109836,\n",
       "       -0.64193005, -0.42418092,  0.57127501,  0.35667495, -0.11203781,\n",
       "       -0.53422385,  0.59019193, -0.43366006, -0.60081736, -0.01476049,\n",
       "       -0.57899524, -0.59930225, -0.45585584,  0.42669326, -0.39957376,\n",
       "       -0.3343981 , -0.59937327, -0.21681049, -0.53791944,  1.27962514,\n",
       "       -0.30170982, -0.57174366, -0.07832434,  0.28027004, -0.49188747,\n",
       "        0.38380613, -0.54754078, -0.48015928, -0.45774673, -0.69906712,\n",
       "        0.03671409,  2.3406377 ,  0.00286863,  0.19770173, -0.07379335,\n",
       "       -0.65022009, -0.58972411,  0.04348962, -0.38925836, -0.67780646,\n",
       "       -0.60242981, -0.64342058,  1.14465334, -0.19650086, -0.50466189,\n",
       "        1.36845208,  1.17448059,  0.50076079,  0.2572172 ,  0.93390522,\n",
       "       -0.56978804, -0.03951739, -0.11950151, -0.49619317,  1.29628706,\n",
       "       -0.6437458 , -0.51136717, -0.50062165,  0.00387025, -0.49807022,\n",
       "        1.41908692, -0.12802062, -0.70250369,  0.23067223, -0.30912738,\n",
       "       -0.43520487,  0.40720965,  0.23883433])"
      ]
     },
     "execution_count": 31,
     "metadata": {},
     "output_type": "execute_result"
    }
   ],
   "source": [
    "y_preds4 = reg4.predict(x_test)\n",
    "y_preds4"
   ]
  },
  {
   "cell_type": "code",
   "execution_count": 32,
   "metadata": {},
   "outputs": [
    {
     "data": {
      "text/plain": [
       "0.2782638309536052"
      ]
     },
     "execution_count": 32,
     "metadata": {},
     "output_type": "execute_result"
    }
   ],
   "source": [
    "reg4.score(x_test,y_test)"
   ]
  },
  {
   "cell_type": "code",
   "execution_count": 33,
   "metadata": {},
   "outputs": [],
   "source": [
    "np.random.seed(37)"
   ]
  },
  {
   "cell_type": "code",
   "execution_count": 34,
   "metadata": {},
   "outputs": [],
   "source": [
    "# 2\n",
    "from sklearn.linear_model import LinearRegression\n",
    "reg5 = LinearRegression()\n",
    "reg5 = reg5.fit(x_train,y_train)"
   ]
  },
  {
   "cell_type": "code",
   "execution_count": 35,
   "metadata": {},
   "outputs": [
    {
     "data": {
      "text/plain": [
       "array([ 0.70913937,  0.45018791,  0.12430459, -0.55879644,  1.26502526,\n",
       "        1.91327366,  1.37901972,  0.47149188, -0.52531831, -0.52315835,\n",
       "        0.82664271, -0.43219479,  0.63097257,  1.13289577, -0.55231656,\n",
       "       -0.770504  , -0.05994038,  0.7519882 ,  0.67006058,  0.10649177,\n",
       "       -0.25847793,  0.72098105, -0.24991652, -0.51807344,  0.45860196,\n",
       "       -0.26749762, -0.49438662, -0.06738546,  0.73227381, -0.18218355,\n",
       "       -0.09801994, -0.47018812,  0.12701181, -0.22507302,  1.07943774,\n",
       "        0.21423069, -0.33940326,  0.20821451,  0.48190582, -0.1906311 ,\n",
       "        0.90342083, -0.15504021, -0.29053854, -0.16134121, -0.6710242 ,\n",
       "        0.40113972,  2.61379459,  0.23937467,  0.55891294,  0.27975893,\n",
       "       -0.7082813 , -0.52565708,  0.31457894, -0.124299  , -0.64158771,\n",
       "       -0.51367163, -0.48461655,  1.2091462 ,  0.08221139, -0.1277685 ,\n",
       "        1.3924274 ,  1.11746036,  0.66792579,  0.72175828,  1.06390052,\n",
       "       -0.29850298,  0.14687694,  0.31533871, -0.27464885,  1.04723825,\n",
       "       -0.36670058, -0.21815278, -0.16780935,  0.30527508, -0.37287773,\n",
       "        1.31908827,  0.0868094 , -0.62136428,  0.54854434, -0.09942179,\n",
       "        0.03177334,  0.6613418 ,  0.64546549])"
      ]
     },
     "execution_count": 35,
     "metadata": {},
     "output_type": "execute_result"
    }
   ],
   "source": [
    "y_preds5  = reg5.predict(x_test)\n",
    "y_preds5"
   ]
  },
  {
   "cell_type": "code",
   "execution_count": 36,
   "metadata": {},
   "outputs": [
    {
     "data": {
      "text/plain": [
       "0.31799869209764764"
      ]
     },
     "execution_count": 36,
     "metadata": {},
     "output_type": "execute_result"
    }
   ],
   "source": [
    "reg5.score(x_test, y_test)"
   ]
  },
  {
   "cell_type": "code",
   "execution_count": 37,
   "metadata": {},
   "outputs": [],
   "source": [
    "np.random.seed(42)"
   ]
  },
  {
   "cell_type": "code",
   "execution_count": 38,
   "metadata": {},
   "outputs": [],
   "source": [
    "# 3\n",
    "from sklearn.ensemble import RandomForestRegressor\n",
    "reg6 = RandomForestRegressor(n_estimators = 100)\n",
    "reg6 = reg6.fit(x_train, y_train)"
   ]
  },
  {
   "cell_type": "code",
   "execution_count": 39,
   "metadata": {},
   "outputs": [
    {
     "data": {
      "text/plain": [
       "array([ 7.73940502e-01,  4.81683828e-01, -7.97506313e-02, -4.04420489e-01,\n",
       "        1.34019125e+00,  2.54613583e+00,  1.32245320e+00,  7.24145795e-01,\n",
       "       -4.75330037e-01, -4.75622061e-01,  1.02418357e+00, -2.51477085e-01,\n",
       "        3.87739298e-01,  1.14595890e+00,  6.87964526e-01, -6.03365810e-01,\n",
       "       -1.68117195e-01, -4.12505375e-02,  5.29794376e-01,  4.86204983e-01,\n",
       "       -9.88835495e-02,  6.64674105e-01, -3.12091528e-01, -1.97817882e-01,\n",
       "        9.48624685e-02, -2.12400203e-01, -3.28687305e-01, -1.37854592e-01,\n",
       "        3.89531683e-01, -2.01311350e-01, -2.41528088e-01, -3.92552768e-01,\n",
       "        2.07123140e-01, -4.69271377e-02,  1.44415725e+00,  2.36032865e-01,\n",
       "       -5.49300006e-01,  2.89844953e-01,  2.87478716e-01, -9.49849233e-02,\n",
       "        5.29215410e-01, -3.17221966e-01, -4.46731942e-01, -3.08057120e-01,\n",
       "       -6.28638210e-01,  5.23744781e-01,  2.76258453e+00,  2.14625799e-01,\n",
       "        8.21719533e-01,  1.70369651e-01, -6.77134423e-01, -5.30422316e-01,\n",
       "        2.59189985e-01,  1.40236401e-01, -5.08001070e-01, -3.72177638e-01,\n",
       "       -5.36340092e-01,  1.11881397e+00,  4.87360262e-01, -2.67823813e-01,\n",
       "        1.63033744e+00,  1.13941338e+00,  5.92960283e-02,  2.02761557e-01,\n",
       "        1.68196699e+00, -4.58368596e-01,  3.96463885e-01,  1.80205574e-01,\n",
       "       -1.25874881e-01,  9.69539522e-01, -2.69780864e-01, -1.00300398e-02,\n",
       "        5.41585032e-02,  6.08509734e-02, -4.41265228e-01,  6.89480855e-01,\n",
       "        1.08929244e-03, -6.00978902e-01,  5.67555692e-01,  2.00339058e-01,\n",
       "        2.02136268e-01,  7.75262507e-01,  7.98123456e-01])"
      ]
     },
     "execution_count": 39,
     "metadata": {},
     "output_type": "execute_result"
    }
   ],
   "source": [
    "y_preds6 = reg6.predict(x_test)\n",
    "y_preds6"
   ]
  },
  {
   "cell_type": "code",
   "execution_count": 40,
   "metadata": {},
   "outputs": [
    {
     "data": {
      "text/plain": [
       "0.1806250503309179"
      ]
     },
     "execution_count": 40,
     "metadata": {},
     "output_type": "execute_result"
    }
   ],
   "source": [
    "reg6.score(x_test, y_test)"
   ]
  },
  {
   "cell_type": "markdown",
   "metadata": {},
   "source": [
    "Après avoir essayer ces trois modèles, le plus efficace (lorsque l'on se base sur le R-squared de la régression) semble être le sklearn.linear_model.LinearRegression."
   ]
  },
  {
   "cell_type": "markdown",
   "metadata": {},
   "source": [
    "## Improving our model"
   ]
  },
  {
   "cell_type": "code",
   "execution_count": 42,
   "metadata": {},
   "outputs": [
    {
     "data": {
      "text/plain": [
       "{'copy_X': True, 'fit_intercept': True, 'n_jobs': None, 'normalize': False}"
      ]
     },
     "execution_count": 42,
     "metadata": {},
     "output_type": "execute_result"
    }
   ],
   "source": [
    "reg5.get_params()"
   ]
  },
  {
   "cell_type": "code",
   "execution_count": 45,
   "metadata": {},
   "outputs": [],
   "source": [
    "from sklearn.linear_model import LinearRegression\n",
    "reg7 = LinearRegression(normalize = True)\n",
    "reg7 = reg7.fit(x_train,y_train)"
   ]
  },
  {
   "cell_type": "code",
   "execution_count": 46,
   "metadata": {},
   "outputs": [
    {
     "data": {
      "text/plain": [
       "0.31799869209764775"
      ]
     },
     "execution_count": 46,
     "metadata": {},
     "output_type": "execute_result"
    }
   ],
   "source": [
    "reg7.score(x_test,y_test)"
   ]
  },
  {
   "cell_type": "code",
   "execution_count": 47,
   "metadata": {},
   "outputs": [],
   "source": [
    "from sklearn.linear_model import LinearRegression\n",
    "reg8 = LinearRegression(fit_intercept = False)\n",
    "reg8 = reg8.fit(x_train,y_train)"
   ]
  },
  {
   "cell_type": "code",
   "execution_count": 48,
   "metadata": {},
   "outputs": [
    {
     "data": {
      "text/plain": [
       "0.31799869209764775"
      ]
     },
     "execution_count": 48,
     "metadata": {},
     "output_type": "execute_result"
    }
   ],
   "source": [
    "reg7.score(x_test,y_test)"
   ]
  },
  {
   "cell_type": "markdown",
   "metadata": {},
   "source": [
    "Visiblement, changer les paramètres par défaut du modèle ne modifie pas significativement sa performance."
   ]
  },
  {
   "cell_type": "code",
   "execution_count": 49,
   "metadata": {},
   "outputs": [],
   "source": [
    "# On enregistre le modèle entraîné pour le réutiliser dans le projet final"
   ]
  },
  {
   "cell_type": "code",
   "execution_count": 50,
   "metadata": {},
   "outputs": [],
   "source": [
    "import pickle"
   ]
  },
  {
   "cell_type": "code",
   "execution_count": 51,
   "metadata": {},
   "outputs": [],
   "source": [
    "pickle.dump(reg5, open('reg_linear_regression.pkl', 'wb'))"
   ]
  },
  {
   "cell_type": "code",
   "execution_count": null,
   "metadata": {},
   "outputs": [],
   "source": []
  },
  {
   "cell_type": "code",
   "execution_count": 41,
   "metadata": {},
   "outputs": [
    {
     "name": "stdout",
     "output_type": "stream",
     "text": [
      "10 R squared = 0.17055384862602463\n",
      "20 R squared = 0.16308237593163188\n",
      "30 R squared = 0.14210582402991567\n",
      "40 R squared = 0.1381060425041245\n",
      "50 R squared = 0.15785418053296063\n",
      "60 R squared = 0.15737908624142727\n",
      "70 R squared = 0.17866185903841558\n",
      "80 R squared = 0.1861789682434657\n",
      "90 R squared = 0.1740758670515834\n",
      "100 R squared = 0.16887289884499634\n",
      "110 R squared = 0.1717284611157689\n",
      "120 R squared = 0.17469902755891564\n",
      "130 R squared = 0.17902669397501347\n",
      "140 R squared = 0.1777247887310499\n",
      "150 R squared = 0.1848099872932487\n",
      "160 R squared = 0.18011473730929928\n",
      "170 R squared = 0.17956816247938456\n",
      "180 R squared = 0.17771836647898342\n",
      "190 R squared = 0.1710043145146003\n",
      "200 R squared = 0.1718975285905412\n",
      "n_opti = 80\n"
     ]
    }
   ],
   "source": [
    "L = []\n",
    "for i in range (10, 210, 10):\n",
    "    np.random.seed(25)\n",
    "    reg = RandomForestRegressor(n_estimators = i)\n",
    "    reg = reg.fit(x_train, y_train)\n",
    "    r2 = reg.score(x_test,y_test)\n",
    "    print(i, \"R squared =\", r2)\n",
    "    L.append(r2)\n",
    "print(\"n_opti =\",(L.index(max(L))+1)*10)"
   ]
  },
  {
   "cell_type": "markdown",
   "metadata": {},
   "source": [
    "L'objectif est maintenant d'utiliser notre modèle entraîné avec les données de la saison 2018-2019 sur les données de la saison 2020-2021, pour pouvoir ensuite comparer les valeurs réelles des salaires avec les valeurs prédites, qu'on pourrait qualifiées de \"théoriques\"."
   ]
  },
  {
   "cell_type": "code",
   "execution_count": null,
   "metadata": {},
   "outputs": [],
   "source": [
    "df_new = df_21[df_21['games_played']>=20]"
   ]
  },
  {
   "cell_type": "code",
   "execution_count": null,
   "metadata": {},
   "outputs": [],
   "source": [
    "loaded_pickle_model = pickle.load(open('reg_linear_regression.pkl','rb'))"
   ]
  },
  {
   "cell_type": "code",
   "execution_count": null,
   "metadata": {},
   "outputs": [],
   "source": [
    "mn = df_new['salary'].mean()\n",
    "st = df_new['salary'].std()"
   ]
  },
  {
   "cell_type": "code",
   "execution_count": null,
   "metadata": {},
   "outputs": [],
   "source": [
    "df_new['predicted salary'] = mn + st*loaded_pickle_model.predict(df_21[df_21['games_played']>=20][['points_per_game','reb_per_game','ast_per_game','win_shares','player_efficiency_rating']])"
   ]
  },
  {
   "cell_type": "code",
   "execution_count": null,
   "metadata": {},
   "outputs": [],
   "source": [
    "df_new"
   ]
  },
  {
   "cell_type": "code",
   "execution_count": null,
   "metadata": {},
   "outputs": [],
   "source": [
    "df_new['gap salaries']= df_new['salary'] - df_new['predicted salary']\n",
    "df_new['error ratio']=df_new['gap salaries']/df_new['salary']\n",
    "df_new"
   ]
  },
  {
   "cell_type": "code",
   "execution_count": null,
   "metadata": {},
   "outputs": [],
   "source": [
    "df_new.groupby('team')['gap salaries'].sum()"
   ]
  },
  {
   "cell_type": "code",
   "execution_count": null,
   "metadata": {},
   "outputs": [],
   "source": []
  }
 ],
 "metadata": {
  "kernelspec": {
   "display_name": "Python 3",
   "language": "python",
   "name": "python3"
  },
  "language_info": {
   "codemirror_mode": {
    "name": "ipython",
    "version": 3
   },
   "file_extension": ".py",
   "mimetype": "text/x-python",
   "name": "python",
   "nbconvert_exporter": "python",
   "pygments_lexer": "ipython3",
   "version": "3.7.4"
  }
 },
 "nbformat": 4,
 "nbformat_minor": 2
}
