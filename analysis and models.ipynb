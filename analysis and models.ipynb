{
 "cells": [
  {
   "cell_type": "code",
   "execution_count": 1,
   "metadata": {},
   "outputs": [],
   "source": [
    "import pandas as pd\n",
    "import numpy as np"
   ]
  },
  {
   "cell_type": "code",
   "execution_count": 60,
   "metadata": {},
   "outputs": [],
   "source": [
    "df_21= pd.read_csv('data21.csv')\n",
    "df_19 = pd.read_csv('data19.csv')"
   ]
  },
  {
   "cell_type": "code",
   "execution_count": 3,
   "metadata": {
    "scrolled": false
   },
   "outputs": [
    {
     "data": {
      "text/plain": [
       "['and_ones',\n",
       " 'assist_percentage',\n",
       " 'assists',\n",
       " 'assists_per_poss',\n",
       " 'block_percentage',\n",
       " 'blocking_fouls',\n",
       " 'blocks',\n",
       " 'blocks_per_poss',\n",
       " 'box_plus_minus',\n",
       " 'center_percentage',\n",
       " 'defensive_box_plus_minus',\n",
       " 'defensive_rebound_percentage',\n",
       " 'defensive_rebounds',\n",
       " 'defensive_rebounds_per_poss',\n",
       " 'defensive_win_shares',\n",
       " 'dunks',\n",
       " 'effective_field_goal_percentage',\n",
       " 'field_goal_attempts',\n",
       " 'field_goal_attempts_per_poss',\n",
       " 'field_goal_perc_sixteen_foot_plus_two_pointers',\n",
       " 'field_goal_perc_ten_to_sixteen_feet',\n",
       " 'field_goal_perc_three_to_ten_feet',\n",
       " 'field_goal_perc_zero_to_three_feet',\n",
       " 'field_goal_percentage',\n",
       " 'field_goals',\n",
       " 'field_goals_per_poss',\n",
       " 'free_throw_attempt_rate',\n",
       " 'free_throw_attempts',\n",
       " 'free_throw_attempts_per_poss',\n",
       " 'free_throw_percentage',\n",
       " 'free_throws',\n",
       " 'free_throws_per_poss',\n",
       " 'games_played',\n",
       " 'games_started',\n",
       " 'half_court_heaves',\n",
       " 'half_court_heaves_made',\n",
       " 'height',\n",
       " 'lost_ball_turnovers',\n",
       " 'minutes_played',\n",
       " 'nationality',\n",
       " 'net_plus_minus',\n",
       " 'offensive_box_plus_minus',\n",
       " 'offensive_fouls',\n",
       " 'offensive_rebound_percentage',\n",
       " 'offensive_rebounds',\n",
       " 'offensive_rebounds_per_poss',\n",
       " 'offensive_win_shares',\n",
       " 'on_court_plus_minus',\n",
       " 'other_turnovers',\n",
       " 'passing_turnovers',\n",
       " 'percentage_field_goals_as_dunks',\n",
       " 'percentage_of_three_pointers_from_corner',\n",
       " 'percentage_shots_three_pointers',\n",
       " 'percentage_shots_two_pointers',\n",
       " 'percentage_sixteen_foot_plus_two_pointers',\n",
       " 'percentage_ten_to_sixteen_footers',\n",
       " 'percentage_three_to_ten_footers',\n",
       " 'percentage_zero_to_three_footers',\n",
       " 'personal_fouls',\n",
       " 'personal_fouls_per_poss',\n",
       " 'player_efficiency_rating',\n",
       " 'player_id',\n",
       " 'point_guard_percentage',\n",
       " 'points',\n",
       " 'points_per_poss',\n",
       " 'points_generated_by_assists',\n",
       " 'position',\n",
       " 'power_forward_percentage',\n",
       " 'salary',\n",
       " 'shooting_distance',\n",
       " 'shooting_fouls',\n",
       " 'shooting_fouls_drawn',\n",
       " 'shooting_guard_percentage',\n",
       " 'shots_blocked',\n",
       " 'small_forward_percentage',\n",
       " 'steal_percentage',\n",
       " 'steals',\n",
       " 'steals_per_poss',\n",
       " 'take_fouls',\n",
       " 'team_abbreviation',\n",
       " 'three_point_attempt_rate',\n",
       " 'three_point_attempts',\n",
       " 'three_point_attempts_per_poss',\n",
       " 'three_point_percentage',\n",
       " 'three_point_shot_percentage_from_corner',\n",
       " 'three_pointers',\n",
       " 'three_pointers_assisted_percentage',\n",
       " 'three_pointers_per_poss',\n",
       " 'total_rebound_percentage',\n",
       " 'total_rebounds',\n",
       " 'total_rebounds_per_poss',\n",
       " 'true_shooting_percentage',\n",
       " 'turnover_percentage',\n",
       " 'turnovers',\n",
       " 'turnovers_per_poss',\n",
       " 'two_point_attempts',\n",
       " 'two_point_attempts_per_poss',\n",
       " 'two_point_percentage',\n",
       " 'two_pointers',\n",
       " 'two_pointers_per_poss',\n",
       " 'two_pointers_assisted_percentage',\n",
       " 'usage_percentage',\n",
       " 'value_over_replacement_player',\n",
       " 'weight',\n",
       " 'win_shares',\n",
       " 'win_shares_per_48_minutes',\n",
       " 'name',\n",
       " 'team',\n",
       " 'points_per_game',\n",
       " 'reb_per_game',\n",
       " 'ast_per_game']"
      ]
     },
     "execution_count": 3,
     "metadata": {},
     "output_type": "execute_result"
    }
   ],
   "source": [
    "list(df_21.columns)"
   ]
  },
  {
   "cell_type": "markdown",
   "metadata": {},
   "source": [
    "Notre objectif est d'entraîner un modèle de régression sur les données de la saison NBA 2018-2019, pour ensuite prédire les salaires de la saison 2020-2021 (nous n'utilisons pas la saison 2019-2020 qui a été perturbée par la crise du COVID). Pour ce faire, nous devons d'abord normaliser les salaires à cause de l'inflation."
   ]
  },
  {
   "cell_type": "code",
   "execution_count": 63,
   "metadata": {},
   "outputs": [
    {
     "data": {
      "text/plain": [
       "0      2.170112\n",
       "1      0.999685\n",
       "2     -0.720051\n",
       "3     -0.741359\n",
       "4     -0.859140\n",
       "         ...   \n",
       "617         NaN\n",
       "618    0.144318\n",
       "619   -0.717232\n",
       "620   -0.745048\n",
       "621    1.509498\n",
       "Name: salary, Length: 622, dtype: float64"
      ]
     },
     "execution_count": 63,
     "metadata": {},
     "output_type": "execute_result"
    }
   ],
   "source": [
    "df_19['salary']=(df_19['salary']-df_19['salary'].mean())/df_19['salary'].std()\n",
    "df_19['salary']"
   ]
  },
  {
   "cell_type": "markdown",
   "metadata": {},
   "source": [
    "# Machine Learning with Scikit Learn"
   ]
  },
  {
   "cell_type": "markdown",
   "metadata": {},
   "source": [
    "### Creation of X (feature Matrix)"
   ]
  },
  {
   "cell_type": "markdown",
   "metadata": {},
   "source": [
    "Nous avons sélectionné les quelques variables explicatives présentes dans nos données qui nous semblaient être les plus pertinentes pour juger la valeur salariale d'un joueur. De plus, nombre de variables sont très corrélées entre elles, ainsi les utiliser ensemble n'aurait que peu d'intérêt. Nous ne considérons également que les joueurs ayant comptabilisé plus de 20 matchs sur la saison en question."
   ]
  },
  {
   "cell_type": "code",
   "execution_count": 64,
   "metadata": {},
   "outputs": [
    {
     "data": {
      "text/html": [
       "<div>\n",
       "<style scoped>\n",
       "    .dataframe tbody tr th:only-of-type {\n",
       "        vertical-align: middle;\n",
       "    }\n",
       "\n",
       "    .dataframe tbody tr th {\n",
       "        vertical-align: top;\n",
       "    }\n",
       "\n",
       "    .dataframe thead th {\n",
       "        text-align: right;\n",
       "    }\n",
       "</style>\n",
       "<table border=\"1\" class=\"dataframe\">\n",
       "  <thead>\n",
       "    <tr style=\"text-align: right;\">\n",
       "      <th></th>\n",
       "      <th>points_per_poss</th>\n",
       "      <th>total_rebounds_per_poss</th>\n",
       "      <th>assists_per_poss</th>\n",
       "      <th>win_shares</th>\n",
       "      <th>player_efficiency_rating</th>\n",
       "    </tr>\n",
       "  </thead>\n",
       "  <tbody>\n",
       "    <tr>\n",
       "      <td>0</td>\n",
       "      <td>39.3</td>\n",
       "      <td>17.7</td>\n",
       "      <td>8.4</td>\n",
       "      <td>14.4</td>\n",
       "      <td>30.9</td>\n",
       "    </tr>\n",
       "    <tr>\n",
       "      <td>1</td>\n",
       "      <td>25.4</td>\n",
       "      <td>7.4</td>\n",
       "      <td>8.8</td>\n",
       "      <td>8.2</td>\n",
       "      <td>19.3</td>\n",
       "    </tr>\n",
       "    <tr>\n",
       "      <td>2</td>\n",
       "      <td>25.4</td>\n",
       "      <td>7.3</td>\n",
       "      <td>5.2</td>\n",
       "      <td>6.5</td>\n",
       "      <td>17.8</td>\n",
       "    </tr>\n",
       "    <tr>\n",
       "      <td>3</td>\n",
       "      <td>16.7</td>\n",
       "      <td>8.3</td>\n",
       "      <td>3.8</td>\n",
       "      <td>2.1</td>\n",
       "      <td>10.9</td>\n",
       "    </tr>\n",
       "    <tr>\n",
       "      <td>4</td>\n",
       "      <td>13.7</td>\n",
       "      <td>4.4</td>\n",
       "      <td>6.4</td>\n",
       "      <td>0.1</td>\n",
       "      <td>8.0</td>\n",
       "    </tr>\n",
       "    <tr>\n",
       "      <td>...</td>\n",
       "      <td>...</td>\n",
       "      <td>...</td>\n",
       "      <td>...</td>\n",
       "      <td>...</td>\n",
       "      <td>...</td>\n",
       "    </tr>\n",
       "    <tr>\n",
       "      <td>617</td>\n",
       "      <td>20.0</td>\n",
       "      <td>8.1</td>\n",
       "      <td>1.6</td>\n",
       "      <td>0.7</td>\n",
       "      <td>11.9</td>\n",
       "    </tr>\n",
       "    <tr>\n",
       "      <td>618</td>\n",
       "      <td>12.7</td>\n",
       "      <td>5.8</td>\n",
       "      <td>5.6</td>\n",
       "      <td>2.0</td>\n",
       "      <td>11.7</td>\n",
       "    </tr>\n",
       "    <tr>\n",
       "      <td>619</td>\n",
       "      <td>16.1</td>\n",
       "      <td>13.4</td>\n",
       "      <td>4.0</td>\n",
       "      <td>6.0</td>\n",
       "      <td>17.3</td>\n",
       "    </tr>\n",
       "    <tr>\n",
       "      <td>620</td>\n",
       "      <td>16.0</td>\n",
       "      <td>11.7</td>\n",
       "      <td>1.5</td>\n",
       "      <td>2.1</td>\n",
       "      <td>11.2</td>\n",
       "    </tr>\n",
       "    <tr>\n",
       "      <td>621</td>\n",
       "      <td>30.1</td>\n",
       "      <td>5.4</td>\n",
       "      <td>3.3</td>\n",
       "      <td>5.3</td>\n",
       "      <td>16.6</td>\n",
       "    </tr>\n",
       "  </tbody>\n",
       "</table>\n",
       "<p>503 rows × 5 columns</p>\n",
       "</div>"
      ],
      "text/plain": [
       "     points_per_poss  total_rebounds_per_poss  assists_per_poss  win_shares  \\\n",
       "0               39.3                     17.7               8.4        14.4   \n",
       "1               25.4                      7.4               8.8         8.2   \n",
       "2               25.4                      7.3               5.2         6.5   \n",
       "3               16.7                      8.3               3.8         2.1   \n",
       "4               13.7                      4.4               6.4         0.1   \n",
       "..               ...                      ...               ...         ...   \n",
       "617             20.0                      8.1               1.6         0.7   \n",
       "618             12.7                      5.8               5.6         2.0   \n",
       "619             16.1                     13.4               4.0         6.0   \n",
       "620             16.0                     11.7               1.5         2.1   \n",
       "621             30.1                      5.4               3.3         5.3   \n",
       "\n",
       "     player_efficiency_rating  \n",
       "0                        30.9  \n",
       "1                        19.3  \n",
       "2                        17.8  \n",
       "3                        10.9  \n",
       "4                         8.0  \n",
       "..                        ...  \n",
       "617                      11.9  \n",
       "618                      11.7  \n",
       "619                      17.3  \n",
       "620                      11.2  \n",
       "621                      16.6  \n",
       "\n",
       "[503 rows x 5 columns]"
      ]
     },
     "execution_count": 64,
     "metadata": {},
     "output_type": "execute_result"
    }
   ],
   "source": [
    "x = df_19[df_19['games_played']>=20][['points_per_poss','total_rebounds_per_poss','assists_per_poss','win_shares','player_efficiency_rating']]\n",
    "x.dropna()\n",
    "x"
   ]
  },
  {
   "cell_type": "markdown",
   "metadata": {},
   "source": [
    "### Creation of Y (target)"
   ]
  },
  {
   "cell_type": "code",
   "execution_count": 65,
   "metadata": {},
   "outputs": [
    {
     "data": {
      "text/plain": [
       "0      2.170112\n",
       "1      0.999685\n",
       "2     -0.720051\n",
       "3     -0.741359\n",
       "4     -0.859140\n",
       "         ...   \n",
       "617         NaN\n",
       "618    0.144318\n",
       "619   -0.717232\n",
       "620   -0.745048\n",
       "621    1.509498\n",
       "Name: salary, Length: 503, dtype: float64"
      ]
     },
     "execution_count": 65,
     "metadata": {},
     "output_type": "execute_result"
    }
   ],
   "source": [
    "y = df_19[df_19['games_played']>=20]['salary']\n",
    "y"
   ]
  },
  {
   "cell_type": "markdown",
   "metadata": {},
   "source": [
    "Ici nous identifions puis retirons de y et de x les joueurs pour lesquels le salaire n'est pas disponible."
   ]
  },
  {
   "cell_type": "code",
   "execution_count": 66,
   "metadata": {},
   "outputs": [
    {
     "name": "stdout",
     "output_type": "stream",
     "text": [
      "Int64Index([46, 61, 75, 121, 366, 392, 557, 617], dtype='int64')\n"
     ]
    }
   ],
   "source": [
    "index_with_nan = y.index[y.isna()]\n",
    "print(index_with_nan)"
   ]
  },
  {
   "cell_type": "code",
   "execution_count": 67,
   "metadata": {},
   "outputs": [
    {
     "data": {
      "text/plain": [
       "0      2.170112\n",
       "1      0.999685\n",
       "2     -0.720051\n",
       "3     -0.741359\n",
       "4     -0.859140\n",
       "         ...   \n",
       "616   -0.720051\n",
       "618    0.144318\n",
       "619   -0.717232\n",
       "620   -0.745048\n",
       "621    1.509498\n",
       "Name: salary, Length: 495, dtype: float64"
      ]
     },
     "execution_count": 67,
     "metadata": {},
     "output_type": "execute_result"
    }
   ],
   "source": [
    "y = y.dropna()\n",
    "y"
   ]
  },
  {
   "cell_type": "code",
   "execution_count": 68,
   "metadata": {},
   "outputs": [
    {
     "data": {
      "text/html": [
       "<div>\n",
       "<style scoped>\n",
       "    .dataframe tbody tr th:only-of-type {\n",
       "        vertical-align: middle;\n",
       "    }\n",
       "\n",
       "    .dataframe tbody tr th {\n",
       "        vertical-align: top;\n",
       "    }\n",
       "\n",
       "    .dataframe thead th {\n",
       "        text-align: right;\n",
       "    }\n",
       "</style>\n",
       "<table border=\"1\" class=\"dataframe\">\n",
       "  <thead>\n",
       "    <tr style=\"text-align: right;\">\n",
       "      <th></th>\n",
       "      <th>points_per_poss</th>\n",
       "      <th>total_rebounds_per_poss</th>\n",
       "      <th>assists_per_poss</th>\n",
       "      <th>win_shares</th>\n",
       "      <th>player_efficiency_rating</th>\n",
       "    </tr>\n",
       "  </thead>\n",
       "  <tbody>\n",
       "    <tr>\n",
       "      <td>0</td>\n",
       "      <td>39.3</td>\n",
       "      <td>17.7</td>\n",
       "      <td>8.4</td>\n",
       "      <td>14.4</td>\n",
       "      <td>30.9</td>\n",
       "    </tr>\n",
       "    <tr>\n",
       "      <td>1</td>\n",
       "      <td>25.4</td>\n",
       "      <td>7.4</td>\n",
       "      <td>8.8</td>\n",
       "      <td>8.2</td>\n",
       "      <td>19.3</td>\n",
       "    </tr>\n",
       "    <tr>\n",
       "      <td>2</td>\n",
       "      <td>25.4</td>\n",
       "      <td>7.3</td>\n",
       "      <td>5.2</td>\n",
       "      <td>6.5</td>\n",
       "      <td>17.8</td>\n",
       "    </tr>\n",
       "    <tr>\n",
       "      <td>3</td>\n",
       "      <td>16.7</td>\n",
       "      <td>8.3</td>\n",
       "      <td>3.8</td>\n",
       "      <td>2.1</td>\n",
       "      <td>10.9</td>\n",
       "    </tr>\n",
       "    <tr>\n",
       "      <td>4</td>\n",
       "      <td>13.7</td>\n",
       "      <td>4.4</td>\n",
       "      <td>6.4</td>\n",
       "      <td>0.1</td>\n",
       "      <td>8.0</td>\n",
       "    </tr>\n",
       "    <tr>\n",
       "      <td>...</td>\n",
       "      <td>...</td>\n",
       "      <td>...</td>\n",
       "      <td>...</td>\n",
       "      <td>...</td>\n",
       "      <td>...</td>\n",
       "    </tr>\n",
       "    <tr>\n",
       "      <td>616</td>\n",
       "      <td>15.1</td>\n",
       "      <td>8.7</td>\n",
       "      <td>3.2</td>\n",
       "      <td>1.5</td>\n",
       "      <td>15.3</td>\n",
       "    </tr>\n",
       "    <tr>\n",
       "      <td>618</td>\n",
       "      <td>12.7</td>\n",
       "      <td>5.8</td>\n",
       "      <td>5.6</td>\n",
       "      <td>2.0</td>\n",
       "      <td>11.7</td>\n",
       "    </tr>\n",
       "    <tr>\n",
       "      <td>619</td>\n",
       "      <td>16.1</td>\n",
       "      <td>13.4</td>\n",
       "      <td>4.0</td>\n",
       "      <td>6.0</td>\n",
       "      <td>17.3</td>\n",
       "    </tr>\n",
       "    <tr>\n",
       "      <td>620</td>\n",
       "      <td>16.0</td>\n",
       "      <td>11.7</td>\n",
       "      <td>1.5</td>\n",
       "      <td>2.1</td>\n",
       "      <td>11.2</td>\n",
       "    </tr>\n",
       "    <tr>\n",
       "      <td>621</td>\n",
       "      <td>30.1</td>\n",
       "      <td>5.4</td>\n",
       "      <td>3.3</td>\n",
       "      <td>5.3</td>\n",
       "      <td>16.6</td>\n",
       "    </tr>\n",
       "  </tbody>\n",
       "</table>\n",
       "<p>495 rows × 5 columns</p>\n",
       "</div>"
      ],
      "text/plain": [
       "     points_per_poss  total_rebounds_per_poss  assists_per_poss  win_shares  \\\n",
       "0               39.3                     17.7               8.4        14.4   \n",
       "1               25.4                      7.4               8.8         8.2   \n",
       "2               25.4                      7.3               5.2         6.5   \n",
       "3               16.7                      8.3               3.8         2.1   \n",
       "4               13.7                      4.4               6.4         0.1   \n",
       "..               ...                      ...               ...         ...   \n",
       "616             15.1                      8.7               3.2         1.5   \n",
       "618             12.7                      5.8               5.6         2.0   \n",
       "619             16.1                     13.4               4.0         6.0   \n",
       "620             16.0                     11.7               1.5         2.1   \n",
       "621             30.1                      5.4               3.3         5.3   \n",
       "\n",
       "     player_efficiency_rating  \n",
       "0                        30.9  \n",
       "1                        19.3  \n",
       "2                        17.8  \n",
       "3                        10.9  \n",
       "4                         8.0  \n",
       "..                        ...  \n",
       "616                      15.3  \n",
       "618                      11.7  \n",
       "619                      17.3  \n",
       "620                      11.2  \n",
       "621                      16.6  \n",
       "\n",
       "[495 rows x 5 columns]"
      ]
     },
     "execution_count": 68,
     "metadata": {},
     "output_type": "execute_result"
    }
   ],
   "source": [
    "x = x.drop(index_with_nan)\n",
    "x"
   ]
  },
  {
   "cell_type": "markdown",
   "metadata": {},
   "source": [
    "## Machine Learning Regressors"
   ]
  },
  {
   "cell_type": "markdown",
   "metadata": {},
   "source": [
    "Nous essayons ici différents modèles de Machine Learning utilisant des méthodes de régression pour tenter de prédire les salaires des joueurs."
   ]
  },
  {
   "cell_type": "code",
   "execution_count": 69,
   "metadata": {},
   "outputs": [],
   "source": [
    "from sklearn.model_selection import train_test_split\n",
    "\n",
    "x_train,x_test,y_train,y_test = train_test_split(x,y,test_size=0.2)"
   ]
  },
  {
   "cell_type": "code",
   "execution_count": 70,
   "metadata": {},
   "outputs": [],
   "source": [
    "np.random.seed(53)"
   ]
  },
  {
   "cell_type": "code",
   "execution_count": 71,
   "metadata": {},
   "outputs": [],
   "source": [
    "# linear regression model\n",
    "from sklearn import svm\n",
    "reg1 = svm.SVR(gamma = 'scale')\n",
    "reg1 = reg1.fit(x_train, y_train)"
   ]
  },
  {
   "cell_type": "code",
   "execution_count": 72,
   "metadata": {},
   "outputs": [
    {
     "data": {
      "text/plain": [
       "array([-0.79374661, -0.06695978, -0.30596583, -0.20287717, -0.43127398,\n",
       "       -0.42563064,  0.59440527, -0.45280074,  0.08039358,  0.59441701,\n",
       "        1.22392872, -0.45522089,  0.89654255, -0.29321369, -0.57265412,\n",
       "        0.95792633, -0.40289142, -0.38244941,  0.91358939, -0.59722507,\n",
       "       -0.51244533, -0.38000802, -0.22731431, -0.48642761, -0.14782364,\n",
       "        0.49329214, -0.38227735, -0.61964316,  0.12629546, -0.25282724,\n",
       "       -0.41990532, -0.70592945,  0.21096961, -0.279416  , -0.00846889,\n",
       "        0.41208657,  1.07989789, -0.33522867, -0.69133674,  0.50668294,\n",
       "       -0.63338027,  0.23991599,  0.12044201,  1.15698286, -0.61601309,\n",
       "       -0.15374841, -0.56262384, -0.61502956, -0.31404153,  1.84234973,\n",
       "       -0.41288124, -0.08446618, -0.49541913,  0.32238328,  0.2345236 ,\n",
       "        1.0768893 , -0.5572122 ,  0.23311162, -0.75797244, -0.48917637,\n",
       "       -0.57366783, -0.2713796 , -0.53362339, -0.57542609,  1.526832  ,\n",
       "       -0.55186689, -0.24551558, -0.43702478,  0.6015282 ,  0.17620751,\n",
       "       -0.67880322, -0.74062311, -0.76426804,  0.46886873, -0.76840456,\n",
       "       -0.30714873, -0.67113889, -0.25282724, -0.39441584, -0.54039247,\n",
       "       -0.39976506,  1.17588871, -0.55420818, -0.49474623, -0.24614399,\n",
       "        1.33373376, -0.61359944, -0.45246898,  2.38467134,  1.9455923 ,\n",
       "       -0.52816631, -0.62718592,  0.01178331, -0.74511516, -0.09409918,\n",
       "       -0.11219933, -0.49644191, -0.88160369, -0.53297681])"
      ]
     },
     "execution_count": 72,
     "metadata": {},
     "output_type": "execute_result"
    }
   ],
   "source": [
    "y_preds = reg1.predict(x_test)\n",
    "y_preds"
   ]
  },
  {
   "cell_type": "code",
   "execution_count": 73,
   "metadata": {},
   "outputs": [
    {
     "data": {
      "text/plain": [
       "616   -0.720051\n",
       "63    -0.274995\n",
       "499    1.021514\n",
       "78    -0.699769\n",
       "155   -0.558632\n",
       "         ...   \n",
       "150   -0.688090\n",
       "367   -0.518100\n",
       "7      0.310451\n",
       "498    0.917126\n",
       "536   -0.741359\n",
       "Name: salary, Length: 99, dtype: float64"
      ]
     },
     "execution_count": 73,
     "metadata": {},
     "output_type": "execute_result"
    }
   ],
   "source": [
    "y_test"
   ]
  },
  {
   "cell_type": "code",
   "execution_count": 74,
   "metadata": {},
   "outputs": [
    {
     "data": {
      "text/plain": [
       "0.3219006138234836"
      ]
     },
     "execution_count": 74,
     "metadata": {},
     "output_type": "execute_result"
    }
   ],
   "source": [
    "reg1.score(x_train,y_train)"
   ]
  },
  {
   "cell_type": "code",
   "execution_count": 75,
   "metadata": {},
   "outputs": [
    {
     "data": {
      "text/plain": [
       "0.2019198020127425"
      ]
     },
     "execution_count": 75,
     "metadata": {},
     "output_type": "execute_result"
    }
   ],
   "source": [
    "reg1.score(x_test,y_test)"
   ]
  },
  {
   "cell_type": "code",
   "execution_count": 76,
   "metadata": {},
   "outputs": [],
   "source": [
    "np.random.seed(37)"
   ]
  },
  {
   "cell_type": "code",
   "execution_count": 77,
   "metadata": {},
   "outputs": [],
   "source": [
    "from sklearn.linear_model import LinearRegression\n",
    "reg2 = LinearRegression()\n",
    "reg2 = reg2.fit(x_train,y_train)"
   ]
  },
  {
   "cell_type": "code",
   "execution_count": 78,
   "metadata": {},
   "outputs": [
    {
     "data": {
      "text/plain": [
       "array([-7.36079416e-01,  4.42793948e-01,  1.34354356e-02, -2.31266838e-02,\n",
       "       -1.82603723e-01, -1.40682892e-01,  9.08715151e-01, -1.74142035e-01,\n",
       "        1.32930337e-01,  5.89750309e-01,  1.15751097e+00, -9.00743953e-02,\n",
       "        9.48362015e-01,  1.31828666e-02, -2.68267869e-01,  1.37282971e+00,\n",
       "       -1.41722878e-01, -2.66223504e-02,  8.24406602e-01, -3.75567858e-01,\n",
       "       -2.02540702e-01,  3.23756123e-02,  3.53360263e-03, -1.59797655e-02,\n",
       "        7.99388285e-02,  7.82183573e-01, -1.58451275e-01, -4.78669535e-01,\n",
       "        3.44131645e-01, -3.39088521e-02,  5.10801134e-02, -3.25308083e-01,\n",
       "        4.97319557e-01, -4.03237846e-02,  3.61659787e-01,  7.07411218e-01,\n",
       "        1.23063565e+00, -2.98060922e-01, -4.99901333e-01,  6.10701487e-01,\n",
       "       -3.61090939e-01, -3.07510567e-01,  6.39745131e-01,  6.01576576e-01,\n",
       "       -4.54038080e-01,  2.86666642e-01, -2.52547457e-01, -3.76729972e-01,\n",
       "        8.12854863e-03,  3.26122977e+00, -1.80485536e-01,  1.81701603e-01,\n",
       "       -1.36693349e-01,  7.27080356e-01,  1.24323756e-01,  1.53685590e+00,\n",
       "       -7.00361817e-01,  3.95140765e-01, -5.69670888e-01, -2.80198913e-01,\n",
       "       -4.30568466e-01, -2.14719601e-02, -4.03827307e-01, -2.54546077e-01,\n",
       "        1.84706332e+00, -4.59580641e-01,  1.49019967e-01, -3.66813679e-01,\n",
       "        6.65918819e-01,  5.50288731e-01, -5.25759931e-01, -5.71713651e-01,\n",
       "       -4.59338672e-01,  7.65871987e-01, -5.38723018e-01,  2.57450444e-04,\n",
       "       -4.90515435e-01, -3.39088521e-02, -9.76113921e-03, -3.58809789e-01,\n",
       "       -2.01873272e-02,  1.32875956e+00, -5.83726938e-01, -3.27313758e-01,\n",
       "        2.26179818e-01,  2.14353836e+00, -5.33940895e-01, -1.34049116e-01,\n",
       "        2.15752954e+00,  1.47927585e+00, -1.08182539e+00, -6.82867345e-01,\n",
       "        9.95490856e-02, -5.75415842e-01,  1.21200019e-02,  1.67875664e-01,\n",
       "        4.59546062e-02, -6.82196964e-01, -2.92173262e-01])"
      ]
     },
     "execution_count": 78,
     "metadata": {},
     "output_type": "execute_result"
    }
   ],
   "source": [
    "y_preds2  = reg2.predict(x_test)\n",
    "y_preds2"
   ]
  },
  {
   "cell_type": "code",
   "execution_count": 79,
   "metadata": {},
   "outputs": [
    {
     "data": {
      "text/plain": [
       "0.33649566840970735"
      ]
     },
     "execution_count": 79,
     "metadata": {},
     "output_type": "execute_result"
    }
   ],
   "source": [
    "reg2.score(x_train, y_train)"
   ]
  },
  {
   "cell_type": "code",
   "execution_count": 80,
   "metadata": {},
   "outputs": [
    {
     "data": {
      "text/plain": [
       "0.3341025062116448"
      ]
     },
     "execution_count": 80,
     "metadata": {},
     "output_type": "execute_result"
    }
   ],
   "source": [
    "reg2.score(x_test, y_test)"
   ]
  },
  {
   "cell_type": "code",
   "execution_count": 21,
   "metadata": {},
   "outputs": [],
   "source": [
    "from sklearn.model_selection import cross_val_score, cross_val_predict\n",
    "from sklearn.metrics import classification_report, accuracy_score, mean_absolute_error"
   ]
  },
  {
   "cell_type": "code",
   "execution_count": 81,
   "metadata": {},
   "outputs": [],
   "source": [
    "np.random.seed(42)"
   ]
  },
  {
   "cell_type": "code",
   "execution_count": 82,
   "metadata": {},
   "outputs": [],
   "source": [
    "from sklearn.ensemble import RandomForestRegressor\n",
    "reg3 = RandomForestRegressor(n_estimators = 100)\n",
    "reg3 = reg3.fit(x_train, y_train)"
   ]
  },
  {
   "cell_type": "code",
   "execution_count": 83,
   "metadata": {},
   "outputs": [
    {
     "data": {
      "text/plain": [
       "array([-0.37016471,  0.45152803, -0.16327044, -0.37452549, -0.42290806,\n",
       "       -0.32487172,  0.38084648, -0.32288832, -0.35133775,  0.49318885,\n",
       "        1.16109653, -0.23192439,  1.2182052 ,  0.54281893, -0.34378496,\n",
       "        1.08403404, -0.28548109,  1.26938703,  0.2884105 ,  0.11964951,\n",
       "        0.11013772, -0.05879727,  0.47773242, -0.27928681,  0.26665701,\n",
       "        0.84191268, -0.39815624,  0.23424148,  0.18490081,  0.79737903,\n",
       "       -0.15194402, -0.76278331,  0.39634472, -0.37214369,  0.19636021,\n",
       "        0.82385731,  1.04624278,  0.04771954, -0.50590793,  0.84644407,\n",
       "       -0.44652581,  0.35517764,  0.37895462,  1.06571445,  0.30325282,\n",
       "        0.34531481, -0.33695067, -0.45715541,  0.19547122,  2.66045803,\n",
       "       -0.42844962,  1.28346585,  0.42002077,  0.5083175 ,  0.18823335,\n",
       "        1.58997631, -0.23614884,  1.02753596, -0.44649062, -0.53213626,\n",
       "       -0.36811155, -0.2850623 ,  0.32914663, -0.15445212,  1.47155898,\n",
       "       -0.59266042, -0.17366671, -0.28695188,  0.93153651,  0.3383246 ,\n",
       "       -0.47948969,  0.28402647, -0.52382567,  0.95031493, -0.07684816,\n",
       "       -0.16767437,  0.03435324,  0.79737903,  0.89627341,  0.45342353,\n",
       "        0.58870004,  1.64482013, -0.55791735, -0.14561459, -0.2077671 ,\n",
       "        1.32333841, -0.34277073,  1.13687559,  2.47638011,  1.90242979,\n",
       "        0.1411609 , -0.26661618, -0.19717347, -0.53401502, -0.33230722,\n",
       "        0.67032333,  0.05313521, -0.45046728, -0.39454756])"
      ]
     },
     "execution_count": 83,
     "metadata": {},
     "output_type": "execute_result"
    }
   ],
   "source": [
    "y_preds3 = reg3.predict(x_test)\n",
    "y_preds3"
   ]
  },
  {
   "cell_type": "code",
   "execution_count": 84,
   "metadata": {},
   "outputs": [
    {
     "data": {
      "text/plain": [
       "0.905213301603017"
      ]
     },
     "execution_count": 84,
     "metadata": {},
     "output_type": "execute_result"
    }
   ],
   "source": [
    "reg3.score(x_train, y_train)"
   ]
  },
  {
   "cell_type": "code",
   "execution_count": 85,
   "metadata": {},
   "outputs": [
    {
     "data": {
      "text/plain": [
       "0.47353552889806605"
      ]
     },
     "execution_count": 85,
     "metadata": {},
     "output_type": "execute_result"
    }
   ],
   "source": [
    "reg3.score(x_test, y_test)"
   ]
  },
  {
   "cell_type": "markdown",
   "metadata": {},
   "source": [
    "Après ces premiers tests, nous nous sommes dit qu'il était très commun au basket de comparer les performances des joueurs en utilisant trois variables : les points par match, les passes par match et les rebonds par match. Nous avons alors créé ces trois nouvelles variables qui n'étaient initialement pas dans notre base de données, et les avons utilisés pour nos modèles."
   ]
  },
  {
   "cell_type": "markdown",
   "metadata": {},
   "source": [
    "### Nouvelles variables"
   ]
  },
  {
   "cell_type": "code",
   "execution_count": 86,
   "metadata": {},
   "outputs": [
    {
     "data": {
      "text/html": [
       "<div>\n",
       "<style scoped>\n",
       "    .dataframe tbody tr th:only-of-type {\n",
       "        vertical-align: middle;\n",
       "    }\n",
       "\n",
       "    .dataframe tbody tr th {\n",
       "        vertical-align: top;\n",
       "    }\n",
       "\n",
       "    .dataframe thead th {\n",
       "        text-align: right;\n",
       "    }\n",
       "</style>\n",
       "<table border=\"1\" class=\"dataframe\">\n",
       "  <thead>\n",
       "    <tr style=\"text-align: right;\">\n",
       "      <th></th>\n",
       "      <th>points_per_game</th>\n",
       "      <th>reb_per_game</th>\n",
       "      <th>ast_per_game</th>\n",
       "      <th>win_shares</th>\n",
       "      <th>player_efficiency_rating</th>\n",
       "    </tr>\n",
       "  </thead>\n",
       "  <tbody>\n",
       "    <tr>\n",
       "      <td>0</td>\n",
       "      <td>27.694444</td>\n",
       "      <td>12.472222</td>\n",
       "      <td>5.888889</td>\n",
       "      <td>14.4</td>\n",
       "      <td>30.9</td>\n",
       "    </tr>\n",
       "    <tr>\n",
       "      <td>1</td>\n",
       "      <td>15.910256</td>\n",
       "      <td>4.641026</td>\n",
       "      <td>5.512821</td>\n",
       "      <td>8.2</td>\n",
       "      <td>19.3</td>\n",
       "    </tr>\n",
       "    <tr>\n",
       "      <td>2</td>\n",
       "      <td>15.640625</td>\n",
       "      <td>4.500000</td>\n",
       "      <td>3.203125</td>\n",
       "      <td>6.5</td>\n",
       "      <td>17.8</td>\n",
       "    </tr>\n",
       "    <tr>\n",
       "      <td>3</td>\n",
       "      <td>6.413793</td>\n",
       "      <td>3.172414</td>\n",
       "      <td>1.448276</td>\n",
       "      <td>2.1</td>\n",
       "      <td>10.9</td>\n",
       "    </tr>\n",
       "    <tr>\n",
       "      <td>4</td>\n",
       "      <td>6.033333</td>\n",
       "      <td>1.933333</td>\n",
       "      <td>2.800000</td>\n",
       "      <td>0.1</td>\n",
       "      <td>8.0</td>\n",
       "    </tr>\n",
       "    <tr>\n",
       "      <td>...</td>\n",
       "      <td>...</td>\n",
       "      <td>...</td>\n",
       "      <td>...</td>\n",
       "      <td>...</td>\n",
       "      <td>...</td>\n",
       "    </tr>\n",
       "    <tr>\n",
       "      <td>617</td>\n",
       "      <td>4.937500</td>\n",
       "      <td>2.000000</td>\n",
       "      <td>0.406250</td>\n",
       "      <td>0.7</td>\n",
       "      <td>11.9</td>\n",
       "    </tr>\n",
       "    <tr>\n",
       "      <td>618</td>\n",
       "      <td>4.031250</td>\n",
       "      <td>1.828125</td>\n",
       "      <td>1.781250</td>\n",
       "      <td>2.0</td>\n",
       "      <td>11.7</td>\n",
       "    </tr>\n",
       "    <tr>\n",
       "      <td>619</td>\n",
       "      <td>6.250000</td>\n",
       "      <td>5.212500</td>\n",
       "      <td>1.537500</td>\n",
       "      <td>6.0</td>\n",
       "      <td>17.3</td>\n",
       "    </tr>\n",
       "    <tr>\n",
       "      <td>620</td>\n",
       "      <td>4.680556</td>\n",
       "      <td>3.430556</td>\n",
       "      <td>0.430556</td>\n",
       "      <td>2.1</td>\n",
       "      <td>11.2</td>\n",
       "    </tr>\n",
       "    <tr>\n",
       "      <td>621</td>\n",
       "      <td>21.538462</td>\n",
       "      <td>3.833333</td>\n",
       "      <td>2.384615</td>\n",
       "      <td>5.3</td>\n",
       "      <td>16.6</td>\n",
       "    </tr>\n",
       "  </tbody>\n",
       "</table>\n",
       "<p>503 rows × 5 columns</p>\n",
       "</div>"
      ],
      "text/plain": [
       "     points_per_game  reb_per_game  ast_per_game  win_shares  \\\n",
       "0          27.694444     12.472222      5.888889        14.4   \n",
       "1          15.910256      4.641026      5.512821         8.2   \n",
       "2          15.640625      4.500000      3.203125         6.5   \n",
       "3           6.413793      3.172414      1.448276         2.1   \n",
       "4           6.033333      1.933333      2.800000         0.1   \n",
       "..               ...           ...           ...         ...   \n",
       "617         4.937500      2.000000      0.406250         0.7   \n",
       "618         4.031250      1.828125      1.781250         2.0   \n",
       "619         6.250000      5.212500      1.537500         6.0   \n",
       "620         4.680556      3.430556      0.430556         2.1   \n",
       "621        21.538462      3.833333      2.384615         5.3   \n",
       "\n",
       "     player_efficiency_rating  \n",
       "0                        30.9  \n",
       "1                        19.3  \n",
       "2                        17.8  \n",
       "3                        10.9  \n",
       "4                         8.0  \n",
       "..                        ...  \n",
       "617                      11.9  \n",
       "618                      11.7  \n",
       "619                      17.3  \n",
       "620                      11.2  \n",
       "621                      16.6  \n",
       "\n",
       "[503 rows x 5 columns]"
      ]
     },
     "execution_count": 86,
     "metadata": {},
     "output_type": "execute_result"
    }
   ],
   "source": [
    "x = df_19[df_19['games_played']>=20][['points_per_game','reb_per_game','ast_per_game','win_shares','player_efficiency_rating']]\n",
    "x.dropna()\n",
    "x"
   ]
  },
  {
   "cell_type": "code",
   "execution_count": 87,
   "metadata": {},
   "outputs": [
    {
     "data": {
      "text/html": [
       "<div>\n",
       "<style scoped>\n",
       "    .dataframe tbody tr th:only-of-type {\n",
       "        vertical-align: middle;\n",
       "    }\n",
       "\n",
       "    .dataframe tbody tr th {\n",
       "        vertical-align: top;\n",
       "    }\n",
       "\n",
       "    .dataframe thead th {\n",
       "        text-align: right;\n",
       "    }\n",
       "</style>\n",
       "<table border=\"1\" class=\"dataframe\">\n",
       "  <thead>\n",
       "    <tr style=\"text-align: right;\">\n",
       "      <th></th>\n",
       "      <th>points_per_game</th>\n",
       "      <th>reb_per_game</th>\n",
       "      <th>ast_per_game</th>\n",
       "      <th>win_shares</th>\n",
       "      <th>player_efficiency_rating</th>\n",
       "    </tr>\n",
       "  </thead>\n",
       "  <tbody>\n",
       "    <tr>\n",
       "      <td>0</td>\n",
       "      <td>27.694444</td>\n",
       "      <td>12.472222</td>\n",
       "      <td>5.888889</td>\n",
       "      <td>14.4</td>\n",
       "      <td>30.9</td>\n",
       "    </tr>\n",
       "    <tr>\n",
       "      <td>1</td>\n",
       "      <td>15.910256</td>\n",
       "      <td>4.641026</td>\n",
       "      <td>5.512821</td>\n",
       "      <td>8.2</td>\n",
       "      <td>19.3</td>\n",
       "    </tr>\n",
       "    <tr>\n",
       "      <td>2</td>\n",
       "      <td>15.640625</td>\n",
       "      <td>4.500000</td>\n",
       "      <td>3.203125</td>\n",
       "      <td>6.5</td>\n",
       "      <td>17.8</td>\n",
       "    </tr>\n",
       "    <tr>\n",
       "      <td>3</td>\n",
       "      <td>6.413793</td>\n",
       "      <td>3.172414</td>\n",
       "      <td>1.448276</td>\n",
       "      <td>2.1</td>\n",
       "      <td>10.9</td>\n",
       "    </tr>\n",
       "    <tr>\n",
       "      <td>4</td>\n",
       "      <td>6.033333</td>\n",
       "      <td>1.933333</td>\n",
       "      <td>2.800000</td>\n",
       "      <td>0.1</td>\n",
       "      <td>8.0</td>\n",
       "    </tr>\n",
       "    <tr>\n",
       "      <td>...</td>\n",
       "      <td>...</td>\n",
       "      <td>...</td>\n",
       "      <td>...</td>\n",
       "      <td>...</td>\n",
       "      <td>...</td>\n",
       "    </tr>\n",
       "    <tr>\n",
       "      <td>616</td>\n",
       "      <td>5.416667</td>\n",
       "      <td>3.125000</td>\n",
       "      <td>1.166667</td>\n",
       "      <td>1.5</td>\n",
       "      <td>15.3</td>\n",
       "    </tr>\n",
       "    <tr>\n",
       "      <td>618</td>\n",
       "      <td>4.031250</td>\n",
       "      <td>1.828125</td>\n",
       "      <td>1.781250</td>\n",
       "      <td>2.0</td>\n",
       "      <td>11.7</td>\n",
       "    </tr>\n",
       "    <tr>\n",
       "      <td>619</td>\n",
       "      <td>6.250000</td>\n",
       "      <td>5.212500</td>\n",
       "      <td>1.537500</td>\n",
       "      <td>6.0</td>\n",
       "      <td>17.3</td>\n",
       "    </tr>\n",
       "    <tr>\n",
       "      <td>620</td>\n",
       "      <td>4.680556</td>\n",
       "      <td>3.430556</td>\n",
       "      <td>0.430556</td>\n",
       "      <td>2.1</td>\n",
       "      <td>11.2</td>\n",
       "    </tr>\n",
       "    <tr>\n",
       "      <td>621</td>\n",
       "      <td>21.538462</td>\n",
       "      <td>3.833333</td>\n",
       "      <td>2.384615</td>\n",
       "      <td>5.3</td>\n",
       "      <td>16.6</td>\n",
       "    </tr>\n",
       "  </tbody>\n",
       "</table>\n",
       "<p>495 rows × 5 columns</p>\n",
       "</div>"
      ],
      "text/plain": [
       "     points_per_game  reb_per_game  ast_per_game  win_shares  \\\n",
       "0          27.694444     12.472222      5.888889        14.4   \n",
       "1          15.910256      4.641026      5.512821         8.2   \n",
       "2          15.640625      4.500000      3.203125         6.5   \n",
       "3           6.413793      3.172414      1.448276         2.1   \n",
       "4           6.033333      1.933333      2.800000         0.1   \n",
       "..               ...           ...           ...         ...   \n",
       "616         5.416667      3.125000      1.166667         1.5   \n",
       "618         4.031250      1.828125      1.781250         2.0   \n",
       "619         6.250000      5.212500      1.537500         6.0   \n",
       "620         4.680556      3.430556      0.430556         2.1   \n",
       "621        21.538462      3.833333      2.384615         5.3   \n",
       "\n",
       "     player_efficiency_rating  \n",
       "0                        30.9  \n",
       "1                        19.3  \n",
       "2                        17.8  \n",
       "3                        10.9  \n",
       "4                         8.0  \n",
       "..                        ...  \n",
       "616                      15.3  \n",
       "618                      11.7  \n",
       "619                      17.3  \n",
       "620                      11.2  \n",
       "621                      16.6  \n",
       "\n",
       "[495 rows x 5 columns]"
      ]
     },
     "execution_count": 87,
     "metadata": {},
     "output_type": "execute_result"
    }
   ],
   "source": [
    "x = x.drop(index_with_nan)\n",
    "x"
   ]
  },
  {
   "cell_type": "code",
   "execution_count": 88,
   "metadata": {},
   "outputs": [],
   "source": [
    "from sklearn.model_selection import train_test_split\n",
    "\n",
    "x_train,x_test,y_train,y_test = train_test_split(x,y,test_size=0.2)"
   ]
  },
  {
   "cell_type": "code",
   "execution_count": 89,
   "metadata": {},
   "outputs": [],
   "source": [
    "np.random.seed(53)"
   ]
  },
  {
   "cell_type": "code",
   "execution_count": 90,
   "metadata": {},
   "outputs": [],
   "source": [
    "# linear regression model\n",
    "from sklearn import svm\n",
    "reg4 = svm.SVR(gamma = 'scale')\n",
    "reg4 = reg4.fit(x_train, y_train)"
   ]
  },
  {
   "cell_type": "code",
   "execution_count": 91,
   "metadata": {},
   "outputs": [
    {
     "data": {
      "text/plain": [
       "array([ 0.86605792, -0.43828623,  0.24078132, -0.5588458 , -0.6242413 ,\n",
       "       -0.62939962,  0.45519019,  2.54697478,  1.31140999, -0.61277026,\n",
       "       -0.73423322,  1.70533277, -0.10215934,  1.2513915 ,  2.55056214,\n",
       "        1.83839657,  0.05026471, -0.37660383,  0.91734462, -0.04065861,\n",
       "       -0.61116472, -0.52464791,  0.20722269, -0.38826234, -0.05690722,\n",
       "        0.05535103, -0.61116472, -0.66992603, -0.2079259 ,  0.06220281,\n",
       "       -0.05823962, -0.62939962, -0.53177327, -0.5588458 ,  0.73310368,\n",
       "       -0.54773408,  1.45549152, -0.62404428,  1.17727585, -0.24816068,\n",
       "       -0.66476559, -0.48255817,  1.60879344, -0.0831194 , -0.27581436,\n",
       "        0.03656317,  2.63845016,  0.19340421, -0.1980737 , -0.10270066,\n",
       "        0.27043611,  0.41906397, -0.42214354, -0.72080569, -0.61233236,\n",
       "        1.28767949,  0.40416234, -0.61406759,  0.92946403,  2.39762815,\n",
       "       -0.52094052, -0.52270583,  0.78898974,  2.61790416, -0.69901445,\n",
       "       -0.68145473, -0.54780686, -0.50444992, -0.46984813,  0.54472339,\n",
       "       -0.74642828, -0.44367574, -0.33275581, -0.4738137 , -0.67590324,\n",
       "       -0.45150214, -0.7161852 , -0.4678144 ,  0.40416234, -0.34478536,\n",
       "        0.57034968, -0.49312636,  0.99457678, -0.32651959, -0.60579606,\n",
       "       -0.69984469, -0.34254394,  0.12490249, -0.71480546, -0.5221822 ,\n",
       "       -0.61978566,  1.96980587, -0.56398249,  0.19361292, -0.69408991,\n",
       "       -0.44356861,  0.1500628 , -0.24407762, -0.62200071])"
      ]
     },
     "execution_count": 91,
     "metadata": {},
     "output_type": "execute_result"
    }
   ],
   "source": [
    "y_preds4 = reg4.predict(x_test)\n",
    "y_preds4"
   ]
  },
  {
   "cell_type": "code",
   "execution_count": 92,
   "metadata": {},
   "outputs": [
    {
     "data": {
      "text/plain": [
       "571    2.165219\n",
       "431    0.048753\n",
       "219    0.680151\n",
       "103   -0.695121\n",
       "418   -0.669249\n",
       "         ...   \n",
       "313   -0.741359\n",
       "90     0.557005\n",
       "407   -0.348875\n",
       "270    0.616245\n",
       "320   -0.576562\n",
       "Name: salary, Length: 99, dtype: float64"
      ]
     },
     "execution_count": 92,
     "metadata": {},
     "output_type": "execute_result"
    }
   ],
   "source": [
    "y_test"
   ]
  },
  {
   "cell_type": "code",
   "execution_count": 93,
   "metadata": {},
   "outputs": [
    {
     "data": {
      "text/plain": [
       "0.41038957687610855"
      ]
     },
     "execution_count": 93,
     "metadata": {},
     "output_type": "execute_result"
    }
   ],
   "source": [
    "reg4.score(x_train,y_train)"
   ]
  },
  {
   "cell_type": "code",
   "execution_count": 94,
   "metadata": {},
   "outputs": [
    {
     "data": {
      "text/plain": [
       "0.3164058670677353"
      ]
     },
     "execution_count": 94,
     "metadata": {},
     "output_type": "execute_result"
    }
   ],
   "source": [
    "reg4.score(x_test,y_test)"
   ]
  },
  {
   "cell_type": "code",
   "execution_count": 95,
   "metadata": {},
   "outputs": [],
   "source": [
    "np.random.seed(37)"
   ]
  },
  {
   "cell_type": "code",
   "execution_count": 96,
   "metadata": {},
   "outputs": [],
   "source": [
    "from sklearn.linear_model import LinearRegression\n",
    "reg5 = LinearRegression()\n",
    "reg5 = reg5.fit(x_train,y_train)"
   ]
  },
  {
   "cell_type": "code",
   "execution_count": 97,
   "metadata": {},
   "outputs": [
    {
     "data": {
      "text/plain": [
       "array([ 0.87594713, -0.24262913,  0.51643024, -0.56391517, -0.21295532,\n",
       "       -0.79675902,  0.63484189,  2.07376865,  1.14593553, -0.41492328,\n",
       "       -0.53345633,  1.44410765, -0.01614269,  0.9852987 ,  1.48845421,\n",
       "        1.40504195,  0.27824873, -0.1607963 ,  0.82391126,  0.21160346,\n",
       "       -0.25743871, -0.14315586,  0.44687444, -0.20002305,  0.4197308 ,\n",
       "        0.14657513, -0.25743871, -0.49789881,  0.26270763,  0.35443156,\n",
       "        0.18120163, -0.79675902, -0.24669699, -0.56391517,  0.99838043,\n",
       "       -0.50154589,  1.15689148, -0.6015806 ,  1.07558223,  0.09259075,\n",
       "       -0.64023335, -0.35204013,  1.17346892,  0.27060754, -0.23408407,\n",
       "        0.10926051,  1.94942065,  0.41413726,  0.04377163,  0.0834005 ,\n",
       "        0.46462606,  0.65727089, -0.08769279, -0.71453862, -0.5970341 ,\n",
       "        1.19022553,  0.47289396, -0.2994222 ,  1.00597948,  1.92172879,\n",
       "       -0.41562689, -0.23342013,  1.02567722,  1.54721528, -0.47941908,\n",
       "       -0.65711673, -0.36898233, -0.46677237, -0.17169702,  0.75938502,\n",
       "       -0.65601536, -0.36476661, -0.26938436, -0.17661238, -0.44690095,\n",
       "       -1.05159066, -0.56780184, -0.40949286,  0.47289396, -0.02480208,\n",
       "        0.60850772, -0.0845415 ,  0.72684715, -0.08017625, -0.53380544,\n",
       "       -0.71111443, -0.40779639,  0.18677948, -0.4305714 , -0.27274486,\n",
       "       -0.50935351,  2.61922352, -0.47972837,  0.40997615, -0.70356657,\n",
       "       -0.08941636,  0.23279306, -0.13972408, -0.89885703])"
      ]
     },
     "execution_count": 97,
     "metadata": {},
     "output_type": "execute_result"
    }
   ],
   "source": [
    "y_preds5  = reg5.predict(x_test)\n",
    "y_preds5"
   ]
  },
  {
   "cell_type": "code",
   "execution_count": 98,
   "metadata": {},
   "outputs": [
    {
     "data": {
      "text/plain": [
       "0.4127916273728065"
      ]
     },
     "execution_count": 98,
     "metadata": {},
     "output_type": "execute_result"
    }
   ],
   "source": [
    "reg5.score(x_train, y_train)"
   ]
  },
  {
   "cell_type": "code",
   "execution_count": 99,
   "metadata": {},
   "outputs": [
    {
     "data": {
      "text/plain": [
       "0.39460121698365325"
      ]
     },
     "execution_count": 99,
     "metadata": {},
     "output_type": "execute_result"
    }
   ],
   "source": [
    "reg5.score(x_test, y_test)"
   ]
  },
  {
   "cell_type": "code",
   "execution_count": 100,
   "metadata": {},
   "outputs": [],
   "source": [
    "np.random.seed(42)"
   ]
  },
  {
   "cell_type": "code",
   "execution_count": 101,
   "metadata": {},
   "outputs": [],
   "source": [
    "from sklearn.ensemble import RandomForestRegressor\n",
    "reg6 = RandomForestRegressor(n_estimators = 100)\n",
    "reg6 = reg6.fit(x_train, y_train)"
   ]
  },
  {
   "cell_type": "code",
   "execution_count": 102,
   "metadata": {},
   "outputs": [
    {
     "data": {
      "text/plain": [
       "array([ 1.05258302, -0.22121308,  0.45045943,  0.69873726, -0.17019739,\n",
       "       -0.57552079,  0.75185503,  1.7946455 ,  0.7685569 , -0.59832194,\n",
       "       -0.71960248,  0.9234782 ,  0.42165877,  0.96834411,  2.46765344,\n",
       "        0.8630398 ,  0.26890094,  0.41050236,  0.21302572,  0.33206723,\n",
       "       -0.20729486,  0.91405596,  0.80600913, -0.32216758,  0.05926532,\n",
       "        1.02090254, -0.20729486, -0.55020071,  0.21615157,  0.02135368,\n",
       "        0.01848022, -0.57552079, -0.45214655,  0.69873726,  0.38517766,\n",
       "       -0.06434219,  1.60646408, -0.5981153 ,  0.54389139, -0.00567492,\n",
       "       -0.37715939, -0.14385813,  0.5797212 ,  0.68513808, -0.20402413,\n",
       "       -0.44564164,  2.75231123,  0.26713019, -0.04774118,  0.10888796,\n",
       "        0.52446404,  0.61073351, -0.25438406, -0.72981923,  0.76940983,\n",
       "        1.84603997,  0.12808569, -0.14742566,  0.57474463,  2.02399131,\n",
       "        0.56388   , -0.46647188,  1.71565642,  2.75759274, -0.61182753,\n",
       "       -0.74063633, -0.56464386,  0.07224971, -0.39601032,  0.8900764 ,\n",
       "       -0.45968151, -0.50193482,  0.47833089, -0.21497926, -0.63917696,\n",
       "       -0.38122569, -0.6411805 ,  0.69443119,  0.12808569,  0.09428255,\n",
       "        0.48451325, -0.30333121,  0.97963521,  0.04744418, -0.5989685 ,\n",
       "       -0.44407783, -0.1128165 ,  0.58460166, -0.27862756, -0.81092546,\n",
       "       -0.640101  ,  3.00094055, -0.26691554, -0.11929751, -0.35159404,\n",
       "        0.42371843, -0.20220512,  0.37709681, -0.66301375])"
      ]
     },
     "execution_count": 102,
     "metadata": {},
     "output_type": "execute_result"
    }
   ],
   "source": [
    "y_preds6 = reg6.predict(x_test)\n",
    "y_preds6"
   ]
  },
  {
   "cell_type": "code",
   "execution_count": 103,
   "metadata": {},
   "outputs": [
    {
     "data": {
      "text/plain": [
       "0.9201488064846495"
      ]
     },
     "execution_count": 103,
     "metadata": {},
     "output_type": "execute_result"
    }
   ],
   "source": [
    "reg6.score(x_train, y_train)"
   ]
  },
  {
   "cell_type": "code",
   "execution_count": 104,
   "metadata": {},
   "outputs": [
    {
     "data": {
      "text/plain": [
       "0.4494517842637"
      ]
     },
     "execution_count": 104,
     "metadata": {},
     "output_type": "execute_result"
    }
   ],
   "source": [
    "reg6.score(x_test, y_test)"
   ]
  },
  {
   "cell_type": "markdown",
   "metadata": {},
   "source": [
    "Après avoir essayer trois modèles, le plus efficace (lorsque l'on se base sur le R-squared de la régression) semble être le LinearRegression. On va alors maintenant, en utilisant ce modèle, faire varier certains de ses paramètres pour optimiser son utilisation."
   ]
  },
  {
   "cell_type": "markdown",
   "metadata": {},
   "source": [
    "## Improving our model"
   ]
  },
  {
   "cell_type": "code",
   "execution_count": 56,
   "metadata": {},
   "outputs": [
    {
     "data": {
      "text/plain": [
       "{'copy_X': True, 'fit_intercept': True, 'n_jobs': None, 'normalize': False}"
      ]
     },
     "execution_count": 56,
     "metadata": {},
     "output_type": "execute_result"
    }
   ],
   "source": [
    "reg5.get_params()"
   ]
  },
  {
   "cell_type": "markdown",
   "metadata": {},
   "source": [
    "On peut essayer de faire varier le paramètre \"n_estimators\"."
   ]
  },
  {
   "cell_type": "code",
   "execution_count": 105,
   "metadata": {},
   "outputs": [
    {
     "name": "stdout",
     "output_type": "stream",
     "text": [
      "10 R squared = 0.3875544937323129\n",
      "20 R squared = 0.451044607052271\n",
      "30 R squared = 0.4150744208495334\n",
      "40 R squared = 0.42135518453156684\n",
      "50 R squared = 0.4258983354364321\n",
      "60 R squared = 0.4296370519182392\n",
      "70 R squared = 0.4280290728440568\n",
      "80 R squared = 0.42493737614028293\n",
      "90 R squared = 0.4388163839106439\n",
      "100 R squared = 0.435989178126314\n",
      "110 R squared = 0.4384026837523035\n",
      "120 R squared = 0.4404406849113326\n",
      "130 R squared = 0.43914688678346714\n",
      "140 R squared = 0.4446712926614821\n",
      "150 R squared = 0.4453450360216614\n",
      "160 R squared = 0.4463253118654794\n",
      "170 R squared = 0.44443673920506044\n",
      "180 R squared = 0.4449627916009522\n",
      "190 R squared = 0.4479098990663627\n",
      "200 R squared = 0.4491777769286567\n",
      "n_opti = 20\n"
     ]
    }
   ],
   "source": [
    "L = []\n",
    "for i in range (10, 210, 10):\n",
    "    np.random.seed(25)\n",
    "    reg = RandomForestRegressor(n_estimators = i)\n",
    "    reg = reg.fit(x_train, y_train)\n",
    "    r2 = reg.score(x_test,y_test)\n",
    "    print(i, \"R squared =\", r2)\n",
    "    L.append(r2)\n",
    "print(\"n_opti =\",(L.index(max(L))+1)*10)"
   ]
  },
  {
   "cell_type": "markdown",
   "metadata": {},
   "source": [
    "Suite à cet essai, on constate que les résultats du modèle varient très peu entre des valeurs différentes de n_estimators."
   ]
  },
  {
   "cell_type": "code",
   "execution_count": 129,
   "metadata": {},
   "outputs": [],
   "source": [
    "df_new = df_21[df_21['games_played']>=20]"
   ]
  },
  {
   "cell_type": "code",
   "execution_count": 130,
   "metadata": {},
   "outputs": [],
   "source": [
    "mn = df_new['salary'].mean()\n",
    "st = df_new['salary'].std()"
   ]
  },
  {
   "cell_type": "code",
   "execution_count": 131,
   "metadata": {},
   "outputs": [
    {
     "name": "stderr",
     "output_type": "stream",
     "text": [
      "C:\\Users\\adamg\\Anaconda3ter\\lib\\site-packages\\ipykernel_launcher.py:1: SettingWithCopyWarning: \n",
      "A value is trying to be set on a copy of a slice from a DataFrame.\n",
      "Try using .loc[row_indexer,col_indexer] = value instead\n",
      "\n",
      "See the caveats in the documentation: http://pandas.pydata.org/pandas-docs/stable/user_guide/indexing.html#returning-a-view-versus-a-copy\n",
      "  \"\"\"Entry point for launching an IPython kernel.\n"
     ]
    }
   ],
   "source": [
    "df_new['predicted salary'] = mn + st*reg6.predict(df_21[df_21['games_played']>=20][['points_per_game','reb_per_game','ast_per_game','win_shares','player_efficiency_rating']])"
   ]
  },
  {
   "cell_type": "code",
   "execution_count": 132,
   "metadata": {},
   "outputs": [
    {
     "data": {
      "text/html": [
       "<div>\n",
       "<style scoped>\n",
       "    .dataframe tbody tr th:only-of-type {\n",
       "        vertical-align: middle;\n",
       "    }\n",
       "\n",
       "    .dataframe tbody tr th {\n",
       "        vertical-align: top;\n",
       "    }\n",
       "\n",
       "    .dataframe thead th {\n",
       "        text-align: right;\n",
       "    }\n",
       "</style>\n",
       "<table border=\"1\" class=\"dataframe\">\n",
       "  <thead>\n",
       "    <tr style=\"text-align: right;\">\n",
       "      <th></th>\n",
       "      <th>and_ones</th>\n",
       "      <th>assist_percentage</th>\n",
       "      <th>assists</th>\n",
       "      <th>assists_per_poss</th>\n",
       "      <th>block_percentage</th>\n",
       "      <th>blocking_fouls</th>\n",
       "      <th>blocks</th>\n",
       "      <th>blocks_per_poss</th>\n",
       "      <th>box_plus_minus</th>\n",
       "      <th>center_percentage</th>\n",
       "      <th>...</th>\n",
       "      <th>value_over_replacement_player</th>\n",
       "      <th>weight</th>\n",
       "      <th>win_shares</th>\n",
       "      <th>win_shares_per_48_minutes</th>\n",
       "      <th>name</th>\n",
       "      <th>team</th>\n",
       "      <th>points_per_game</th>\n",
       "      <th>reb_per_game</th>\n",
       "      <th>ast_per_game</th>\n",
       "      <th>predicted salary</th>\n",
       "    </tr>\n",
       "  </thead>\n",
       "  <tbody>\n",
       "    <tr>\n",
       "      <td>1</td>\n",
       "      <td>NaN</td>\n",
       "      <td>28.7</td>\n",
       "      <td>357.0</td>\n",
       "      <td>8.3</td>\n",
       "      <td>3.2</td>\n",
       "      <td>NaN</td>\n",
       "      <td>73.0</td>\n",
       "      <td>1.7</td>\n",
       "      <td>9.0</td>\n",
       "      <td>0</td>\n",
       "      <td>...</td>\n",
       "      <td>5.6</td>\n",
       "      <td>242</td>\n",
       "      <td>10.2</td>\n",
       "      <td>0.244</td>\n",
       "      <td>Giannis Antetokounmpo</td>\n",
       "      <td>MIL</td>\n",
       "      <td>28.147541</td>\n",
       "      <td>11.000000</td>\n",
       "      <td>5.852459</td>\n",
       "      <td>3.404077e+07</td>\n",
       "    </tr>\n",
       "    <tr>\n",
       "      <td>2</td>\n",
       "      <td>NaN</td>\n",
       "      <td>10.3</td>\n",
       "      <td>46.0</td>\n",
       "      <td>3.9</td>\n",
       "      <td>1.6</td>\n",
       "      <td>NaN</td>\n",
       "      <td>10.0</td>\n",
       "      <td>0.9</td>\n",
       "      <td>-3.5</td>\n",
       "      <td>0</td>\n",
       "      <td>...</td>\n",
       "      <td>-0.2</td>\n",
       "      <td>219</td>\n",
       "      <td>0.7</td>\n",
       "      <td>0.057</td>\n",
       "      <td>Thanasis Antetokounmpo</td>\n",
       "      <td>MIL</td>\n",
       "      <td>2.912281</td>\n",
       "      <td>2.175439</td>\n",
       "      <td>0.807018</td>\n",
       "      <td>4.013782e+06</td>\n",
       "    </tr>\n",
       "    <tr>\n",
       "      <td>3</td>\n",
       "      <td>NaN</td>\n",
       "      <td>22.2</td>\n",
       "      <td>188.0</td>\n",
       "      <td>7.8</td>\n",
       "      <td>0.1</td>\n",
       "      <td>NaN</td>\n",
       "      <td>1.0</td>\n",
       "      <td>0.0</td>\n",
       "      <td>-2.1</td>\n",
       "      <td>0</td>\n",
       "      <td>...</td>\n",
       "      <td>0.0</td>\n",
       "      <td>183</td>\n",
       "      <td>2.1</td>\n",
       "      <td>0.088</td>\n",
       "      <td>D.J. Augustin</td>\n",
       "      <td>MIL</td>\n",
       "      <td>7.684211</td>\n",
       "      <td>1.649123</td>\n",
       "      <td>3.298246</td>\n",
       "      <td>6.930539e+06</td>\n",
       "    </tr>\n",
       "    <tr>\n",
       "      <td>5</td>\n",
       "      <td>NaN</td>\n",
       "      <td>6.3</td>\n",
       "      <td>81.0</td>\n",
       "      <td>2.4</td>\n",
       "      <td>1.3</td>\n",
       "      <td>NaN</td>\n",
       "      <td>23.0</td>\n",
       "      <td>0.7</td>\n",
       "      <td>0.0</td>\n",
       "      <td>0</td>\n",
       "      <td>...</td>\n",
       "      <td>0.8</td>\n",
       "      <td>209</td>\n",
       "      <td>3.5</td>\n",
       "      <td>0.108</td>\n",
       "      <td>Pat Connaughton</td>\n",
       "      <td>MIL</td>\n",
       "      <td>6.782609</td>\n",
       "      <td>4.811594</td>\n",
       "      <td>1.173913</td>\n",
       "      <td>4.433764e+06</td>\n",
       "    </tr>\n",
       "    <tr>\n",
       "      <td>6</td>\n",
       "      <td>NaN</td>\n",
       "      <td>7.9</td>\n",
       "      <td>49.0</td>\n",
       "      <td>3.0</td>\n",
       "      <td>2.9</td>\n",
       "      <td>NaN</td>\n",
       "      <td>26.0</td>\n",
       "      <td>1.6</td>\n",
       "      <td>0.4</td>\n",
       "      <td>0</td>\n",
       "      <td>...</td>\n",
       "      <td>0.5</td>\n",
       "      <td>221</td>\n",
       "      <td>2.2</td>\n",
       "      <td>0.133</td>\n",
       "      <td>Torrey Craig</td>\n",
       "      <td>MIL</td>\n",
       "      <td>5.480000</td>\n",
       "      <td>3.940000</td>\n",
       "      <td>0.980000</td>\n",
       "      <td>3.914598e+06</td>\n",
       "    </tr>\n",
       "    <tr>\n",
       "      <td>...</td>\n",
       "      <td>...</td>\n",
       "      <td>...</td>\n",
       "      <td>...</td>\n",
       "      <td>...</td>\n",
       "      <td>...</td>\n",
       "      <td>...</td>\n",
       "      <td>...</td>\n",
       "      <td>...</td>\n",
       "      <td>...</td>\n",
       "      <td>...</td>\n",
       "      <td>...</td>\n",
       "      <td>...</td>\n",
       "      <td>...</td>\n",
       "      <td>...</td>\n",
       "      <td>...</td>\n",
       "      <td>...</td>\n",
       "      <td>...</td>\n",
       "      <td>...</td>\n",
       "      <td>...</td>\n",
       "      <td>...</td>\n",
       "      <td>...</td>\n",
       "    </tr>\n",
       "    <tr>\n",
       "      <td>620</td>\n",
       "      <td>NaN</td>\n",
       "      <td>15.4</td>\n",
       "      <td>99.0</td>\n",
       "      <td>4.7</td>\n",
       "      <td>0.8</td>\n",
       "      <td>NaN</td>\n",
       "      <td>9.0</td>\n",
       "      <td>0.4</td>\n",
       "      <td>-0.5</td>\n",
       "      <td>0</td>\n",
       "      <td>...</td>\n",
       "      <td>0.4</td>\n",
       "      <td>194</td>\n",
       "      <td>1.9</td>\n",
       "      <td>0.094</td>\n",
       "      <td>Jordan Poole</td>\n",
       "      <td>GSW</td>\n",
       "      <td>12.000000</td>\n",
       "      <td>1.803922</td>\n",
       "      <td>1.941176</td>\n",
       "      <td>1.022029e+07</td>\n",
       "    </tr>\n",
       "    <tr>\n",
       "      <td>622</td>\n",
       "      <td>NaN</td>\n",
       "      <td>18.1</td>\n",
       "      <td>150.0</td>\n",
       "      <td>6.4</td>\n",
       "      <td>2.1</td>\n",
       "      <td>NaN</td>\n",
       "      <td>26.0</td>\n",
       "      <td>1.1</td>\n",
       "      <td>0.8</td>\n",
       "      <td>0</td>\n",
       "      <td>...</td>\n",
       "      <td>0.8</td>\n",
       "      <td>209</td>\n",
       "      <td>3.0</td>\n",
       "      <td>0.130</td>\n",
       "      <td>Juan Toscano-Anderson</td>\n",
       "      <td>GSW</td>\n",
       "      <td>5.679245</td>\n",
       "      <td>4.415094</td>\n",
       "      <td>2.830189</td>\n",
       "      <td>9.795332e+06</td>\n",
       "    </tr>\n",
       "    <tr>\n",
       "      <td>623</td>\n",
       "      <td>NaN</td>\n",
       "      <td>22.5</td>\n",
       "      <td>174.0</td>\n",
       "      <td>7.9</td>\n",
       "      <td>1.0</td>\n",
       "      <td>NaN</td>\n",
       "      <td>11.0</td>\n",
       "      <td>0.5</td>\n",
       "      <td>-4.0</td>\n",
       "      <td>0</td>\n",
       "      <td>...</td>\n",
       "      <td>-0.5</td>\n",
       "      <td>210</td>\n",
       "      <td>0.9</td>\n",
       "      <td>0.039</td>\n",
       "      <td>Brad Wanamaker</td>\n",
       "      <td>GSW</td>\n",
       "      <td>5.508197</td>\n",
       "      <td>1.721311</td>\n",
       "      <td>2.852459</td>\n",
       "      <td>2.513736e+06</td>\n",
       "    </tr>\n",
       "    <tr>\n",
       "      <td>624</td>\n",
       "      <td>NaN</td>\n",
       "      <td>10.9</td>\n",
       "      <td>167.0</td>\n",
       "      <td>3.3</td>\n",
       "      <td>2.6</td>\n",
       "      <td>NaN</td>\n",
       "      <td>70.0</td>\n",
       "      <td>1.4</td>\n",
       "      <td>-0.4</td>\n",
       "      <td>0</td>\n",
       "      <td>...</td>\n",
       "      <td>1.0</td>\n",
       "      <td>197</td>\n",
       "      <td>3.9</td>\n",
       "      <td>0.080</td>\n",
       "      <td>Andrew Wiggins</td>\n",
       "      <td>GSW</td>\n",
       "      <td>18.591549</td>\n",
       "      <td>4.887324</td>\n",
       "      <td>2.352113</td>\n",
       "      <td>1.604607e+07</td>\n",
       "    </tr>\n",
       "    <tr>\n",
       "      <td>625</td>\n",
       "      <td>NaN</td>\n",
       "      <td>4.9</td>\n",
       "      <td>26.0</td>\n",
       "      <td>1.5</td>\n",
       "      <td>3.8</td>\n",
       "      <td>NaN</td>\n",
       "      <td>36.0</td>\n",
       "      <td>2.0</td>\n",
       "      <td>-5.0</td>\n",
       "      <td>0</td>\n",
       "      <td>...</td>\n",
       "      <td>-0.6</td>\n",
       "      <td>240</td>\n",
       "      <td>0.7</td>\n",
       "      <td>0.042</td>\n",
       "      <td>James Wiseman</td>\n",
       "      <td>GSW</td>\n",
       "      <td>11.487179</td>\n",
       "      <td>5.794872</td>\n",
       "      <td>0.666667</td>\n",
       "      <td>8.416182e+06</td>\n",
       "    </tr>\n",
       "  </tbody>\n",
       "</table>\n",
       "<p>516 rows × 112 columns</p>\n",
       "</div>"
      ],
      "text/plain": [
       "     and_ones  assist_percentage  assists  assists_per_poss  block_percentage  \\\n",
       "1         NaN               28.7    357.0               8.3               3.2   \n",
       "2         NaN               10.3     46.0               3.9               1.6   \n",
       "3         NaN               22.2    188.0               7.8               0.1   \n",
       "5         NaN                6.3     81.0               2.4               1.3   \n",
       "6         NaN                7.9     49.0               3.0               2.9   \n",
       "..        ...                ...      ...               ...               ...   \n",
       "620       NaN               15.4     99.0               4.7               0.8   \n",
       "622       NaN               18.1    150.0               6.4               2.1   \n",
       "623       NaN               22.5    174.0               7.9               1.0   \n",
       "624       NaN               10.9    167.0               3.3               2.6   \n",
       "625       NaN                4.9     26.0               1.5               3.8   \n",
       "\n",
       "     blocking_fouls  blocks  blocks_per_poss  box_plus_minus  \\\n",
       "1               NaN    73.0              1.7             9.0   \n",
       "2               NaN    10.0              0.9            -3.5   \n",
       "3               NaN     1.0              0.0            -2.1   \n",
       "5               NaN    23.0              0.7             0.0   \n",
       "6               NaN    26.0              1.6             0.4   \n",
       "..              ...     ...              ...             ...   \n",
       "620             NaN     9.0              0.4            -0.5   \n",
       "622             NaN    26.0              1.1             0.8   \n",
       "623             NaN    11.0              0.5            -4.0   \n",
       "624             NaN    70.0              1.4            -0.4   \n",
       "625             NaN    36.0              2.0            -5.0   \n",
       "\n",
       "     center_percentage  ...  value_over_replacement_player  weight  \\\n",
       "1                    0  ...                            5.6     242   \n",
       "2                    0  ...                           -0.2     219   \n",
       "3                    0  ...                            0.0     183   \n",
       "5                    0  ...                            0.8     209   \n",
       "6                    0  ...                            0.5     221   \n",
       "..                 ...  ...                            ...     ...   \n",
       "620                  0  ...                            0.4     194   \n",
       "622                  0  ...                            0.8     209   \n",
       "623                  0  ...                           -0.5     210   \n",
       "624                  0  ...                            1.0     197   \n",
       "625                  0  ...                           -0.6     240   \n",
       "\n",
       "     win_shares  win_shares_per_48_minutes                    name  team  \\\n",
       "1          10.2                      0.244   Giannis Antetokounmpo   MIL   \n",
       "2           0.7                      0.057  Thanasis Antetokounmpo   MIL   \n",
       "3           2.1                      0.088           D.J. Augustin   MIL   \n",
       "5           3.5                      0.108         Pat Connaughton   MIL   \n",
       "6           2.2                      0.133            Torrey Craig   MIL   \n",
       "..          ...                        ...                     ...   ...   \n",
       "620         1.9                      0.094            Jordan Poole   GSW   \n",
       "622         3.0                      0.130   Juan Toscano-Anderson   GSW   \n",
       "623         0.9                      0.039          Brad Wanamaker   GSW   \n",
       "624         3.9                      0.080          Andrew Wiggins   GSW   \n",
       "625         0.7                      0.042           James Wiseman   GSW   \n",
       "\n",
       "     points_per_game  reb_per_game  ast_per_game  predicted salary  \n",
       "1          28.147541     11.000000      5.852459      3.404077e+07  \n",
       "2           2.912281      2.175439      0.807018      4.013782e+06  \n",
       "3           7.684211      1.649123      3.298246      6.930539e+06  \n",
       "5           6.782609      4.811594      1.173913      4.433764e+06  \n",
       "6           5.480000      3.940000      0.980000      3.914598e+06  \n",
       "..               ...           ...           ...               ...  \n",
       "620        12.000000      1.803922      1.941176      1.022029e+07  \n",
       "622         5.679245      4.415094      2.830189      9.795332e+06  \n",
       "623         5.508197      1.721311      2.852459      2.513736e+06  \n",
       "624        18.591549      4.887324      2.352113      1.604607e+07  \n",
       "625        11.487179      5.794872      0.666667      8.416182e+06  \n",
       "\n",
       "[516 rows x 112 columns]"
      ]
     },
     "execution_count": 132,
     "metadata": {},
     "output_type": "execute_result"
    }
   ],
   "source": [
    "df_new"
   ]
  },
  {
   "cell_type": "code",
   "execution_count": 133,
   "metadata": {},
   "outputs": [
    {
     "name": "stderr",
     "output_type": "stream",
     "text": [
      "C:\\Users\\adamg\\Anaconda3ter\\lib\\site-packages\\ipykernel_launcher.py:1: SettingWithCopyWarning: \n",
      "A value is trying to be set on a copy of a slice from a DataFrame.\n",
      "Try using .loc[row_indexer,col_indexer] = value instead\n",
      "\n",
      "See the caveats in the documentation: http://pandas.pydata.org/pandas-docs/stable/user_guide/indexing.html#returning-a-view-versus-a-copy\n",
      "  \"\"\"Entry point for launching an IPython kernel.\n",
      "C:\\Users\\adamg\\Anaconda3ter\\lib\\site-packages\\ipykernel_launcher.py:2: SettingWithCopyWarning: \n",
      "A value is trying to be set on a copy of a slice from a DataFrame.\n",
      "Try using .loc[row_indexer,col_indexer] = value instead\n",
      "\n",
      "See the caveats in the documentation: http://pandas.pydata.org/pandas-docs/stable/user_guide/indexing.html#returning-a-view-versus-a-copy\n",
      "  \n"
     ]
    },
    {
     "data": {
      "text/html": [
       "<div>\n",
       "<style scoped>\n",
       "    .dataframe tbody tr th:only-of-type {\n",
       "        vertical-align: middle;\n",
       "    }\n",
       "\n",
       "    .dataframe tbody tr th {\n",
       "        vertical-align: top;\n",
       "    }\n",
       "\n",
       "    .dataframe thead th {\n",
       "        text-align: right;\n",
       "    }\n",
       "</style>\n",
       "<table border=\"1\" class=\"dataframe\">\n",
       "  <thead>\n",
       "    <tr style=\"text-align: right;\">\n",
       "      <th></th>\n",
       "      <th>and_ones</th>\n",
       "      <th>assist_percentage</th>\n",
       "      <th>assists</th>\n",
       "      <th>assists_per_poss</th>\n",
       "      <th>block_percentage</th>\n",
       "      <th>blocking_fouls</th>\n",
       "      <th>blocks</th>\n",
       "      <th>blocks_per_poss</th>\n",
       "      <th>box_plus_minus</th>\n",
       "      <th>center_percentage</th>\n",
       "      <th>...</th>\n",
       "      <th>win_shares</th>\n",
       "      <th>win_shares_per_48_minutes</th>\n",
       "      <th>name</th>\n",
       "      <th>team</th>\n",
       "      <th>points_per_game</th>\n",
       "      <th>reb_per_game</th>\n",
       "      <th>ast_per_game</th>\n",
       "      <th>predicted salary</th>\n",
       "      <th>gap salaries</th>\n",
       "      <th>error ratio</th>\n",
       "    </tr>\n",
       "  </thead>\n",
       "  <tbody>\n",
       "    <tr>\n",
       "      <td>1</td>\n",
       "      <td>NaN</td>\n",
       "      <td>28.7</td>\n",
       "      <td>357.0</td>\n",
       "      <td>8.3</td>\n",
       "      <td>3.2</td>\n",
       "      <td>NaN</td>\n",
       "      <td>73.0</td>\n",
       "      <td>1.7</td>\n",
       "      <td>9.0</td>\n",
       "      <td>0</td>\n",
       "      <td>...</td>\n",
       "      <td>10.2</td>\n",
       "      <td>0.244</td>\n",
       "      <td>Giannis Antetokounmpo</td>\n",
       "      <td>MIL</td>\n",
       "      <td>28.147541</td>\n",
       "      <td>11.000000</td>\n",
       "      <td>5.852459</td>\n",
       "      <td>3.404077e+07</td>\n",
       "      <td>-6.512680e+06</td>\n",
       "      <td>-0.236583</td>\n",
       "    </tr>\n",
       "    <tr>\n",
       "      <td>2</td>\n",
       "      <td>NaN</td>\n",
       "      <td>10.3</td>\n",
       "      <td>46.0</td>\n",
       "      <td>3.9</td>\n",
       "      <td>1.6</td>\n",
       "      <td>NaN</td>\n",
       "      <td>10.0</td>\n",
       "      <td>0.9</td>\n",
       "      <td>-3.5</td>\n",
       "      <td>0</td>\n",
       "      <td>...</td>\n",
       "      <td>0.7</td>\n",
       "      <td>0.057</td>\n",
       "      <td>Thanasis Antetokounmpo</td>\n",
       "      <td>MIL</td>\n",
       "      <td>2.912281</td>\n",
       "      <td>2.175439</td>\n",
       "      <td>0.807018</td>\n",
       "      <td>4.013782e+06</td>\n",
       "      <td>-2.312189e+06</td>\n",
       "      <td>-1.358838</td>\n",
       "    </tr>\n",
       "    <tr>\n",
       "      <td>3</td>\n",
       "      <td>NaN</td>\n",
       "      <td>22.2</td>\n",
       "      <td>188.0</td>\n",
       "      <td>7.8</td>\n",
       "      <td>0.1</td>\n",
       "      <td>NaN</td>\n",
       "      <td>1.0</td>\n",
       "      <td>0.0</td>\n",
       "      <td>-2.1</td>\n",
       "      <td>0</td>\n",
       "      <td>...</td>\n",
       "      <td>2.1</td>\n",
       "      <td>0.088</td>\n",
       "      <td>D.J. Augustin</td>\n",
       "      <td>MIL</td>\n",
       "      <td>7.684211</td>\n",
       "      <td>1.649123</td>\n",
       "      <td>3.298246</td>\n",
       "      <td>6.930539e+06</td>\n",
       "      <td>-2.638721e+05</td>\n",
       "      <td>-0.039581</td>\n",
       "    </tr>\n",
       "    <tr>\n",
       "      <td>5</td>\n",
       "      <td>NaN</td>\n",
       "      <td>6.3</td>\n",
       "      <td>81.0</td>\n",
       "      <td>2.4</td>\n",
       "      <td>1.3</td>\n",
       "      <td>NaN</td>\n",
       "      <td>23.0</td>\n",
       "      <td>0.7</td>\n",
       "      <td>0.0</td>\n",
       "      <td>0</td>\n",
       "      <td>...</td>\n",
       "      <td>3.5</td>\n",
       "      <td>0.108</td>\n",
       "      <td>Pat Connaughton</td>\n",
       "      <td>MIL</td>\n",
       "      <td>6.782609</td>\n",
       "      <td>4.811594</td>\n",
       "      <td>1.173913</td>\n",
       "      <td>4.433764e+06</td>\n",
       "      <td>5.045087e+05</td>\n",
       "      <td>0.102163</td>\n",
       "    </tr>\n",
       "    <tr>\n",
       "      <td>6</td>\n",
       "      <td>NaN</td>\n",
       "      <td>7.9</td>\n",
       "      <td>49.0</td>\n",
       "      <td>3.0</td>\n",
       "      <td>2.9</td>\n",
       "      <td>NaN</td>\n",
       "      <td>26.0</td>\n",
       "      <td>1.6</td>\n",
       "      <td>0.4</td>\n",
       "      <td>0</td>\n",
       "      <td>...</td>\n",
       "      <td>2.2</td>\n",
       "      <td>0.133</td>\n",
       "      <td>Torrey Craig</td>\n",
       "      <td>MIL</td>\n",
       "      <td>5.480000</td>\n",
       "      <td>3.940000</td>\n",
       "      <td>0.980000</td>\n",
       "      <td>3.914598e+06</td>\n",
       "      <td>-2.235744e+06</td>\n",
       "      <td>-1.331708</td>\n",
       "    </tr>\n",
       "    <tr>\n",
       "      <td>...</td>\n",
       "      <td>...</td>\n",
       "      <td>...</td>\n",
       "      <td>...</td>\n",
       "      <td>...</td>\n",
       "      <td>...</td>\n",
       "      <td>...</td>\n",
       "      <td>...</td>\n",
       "      <td>...</td>\n",
       "      <td>...</td>\n",
       "      <td>...</td>\n",
       "      <td>...</td>\n",
       "      <td>...</td>\n",
       "      <td>...</td>\n",
       "      <td>...</td>\n",
       "      <td>...</td>\n",
       "      <td>...</td>\n",
       "      <td>...</td>\n",
       "      <td>...</td>\n",
       "      <td>...</td>\n",
       "      <td>...</td>\n",
       "      <td>...</td>\n",
       "    </tr>\n",
       "    <tr>\n",
       "      <td>620</td>\n",
       "      <td>NaN</td>\n",
       "      <td>15.4</td>\n",
       "      <td>99.0</td>\n",
       "      <td>4.7</td>\n",
       "      <td>0.8</td>\n",
       "      <td>NaN</td>\n",
       "      <td>9.0</td>\n",
       "      <td>0.4</td>\n",
       "      <td>-0.5</td>\n",
       "      <td>0</td>\n",
       "      <td>...</td>\n",
       "      <td>1.9</td>\n",
       "      <td>0.094</td>\n",
       "      <td>Jordan Poole</td>\n",
       "      <td>GSW</td>\n",
       "      <td>12.000000</td>\n",
       "      <td>1.803922</td>\n",
       "      <td>1.941176</td>\n",
       "      <td>1.022029e+07</td>\n",
       "      <td>-8.157012e+06</td>\n",
       "      <td>-3.953420</td>\n",
       "    </tr>\n",
       "    <tr>\n",
       "      <td>622</td>\n",
       "      <td>NaN</td>\n",
       "      <td>18.1</td>\n",
       "      <td>150.0</td>\n",
       "      <td>6.4</td>\n",
       "      <td>2.1</td>\n",
       "      <td>NaN</td>\n",
       "      <td>26.0</td>\n",
       "      <td>1.1</td>\n",
       "      <td>0.8</td>\n",
       "      <td>0</td>\n",
       "      <td>...</td>\n",
       "      <td>3.0</td>\n",
       "      <td>0.130</td>\n",
       "      <td>Juan Toscano-Anderson</td>\n",
       "      <td>GSW</td>\n",
       "      <td>5.679245</td>\n",
       "      <td>4.415094</td>\n",
       "      <td>2.830189</td>\n",
       "      <td>9.795332e+06</td>\n",
       "      <td>-9.437037e+06</td>\n",
       "      <td>-26.338736</td>\n",
       "    </tr>\n",
       "    <tr>\n",
       "      <td>623</td>\n",
       "      <td>NaN</td>\n",
       "      <td>22.5</td>\n",
       "      <td>174.0</td>\n",
       "      <td>7.9</td>\n",
       "      <td>1.0</td>\n",
       "      <td>NaN</td>\n",
       "      <td>11.0</td>\n",
       "      <td>0.5</td>\n",
       "      <td>-4.0</td>\n",
       "      <td>0</td>\n",
       "      <td>...</td>\n",
       "      <td>0.9</td>\n",
       "      <td>0.039</td>\n",
       "      <td>Brad Wanamaker</td>\n",
       "      <td>GSW</td>\n",
       "      <td>5.508197</td>\n",
       "      <td>1.721311</td>\n",
       "      <td>2.852459</td>\n",
       "      <td>2.513736e+06</td>\n",
       "      <td>-2.637356e+05</td>\n",
       "      <td>-0.117216</td>\n",
       "    </tr>\n",
       "    <tr>\n",
       "      <td>624</td>\n",
       "      <td>NaN</td>\n",
       "      <td>10.9</td>\n",
       "      <td>167.0</td>\n",
       "      <td>3.3</td>\n",
       "      <td>2.6</td>\n",
       "      <td>NaN</td>\n",
       "      <td>70.0</td>\n",
       "      <td>1.4</td>\n",
       "      <td>-0.4</td>\n",
       "      <td>0</td>\n",
       "      <td>...</td>\n",
       "      <td>3.9</td>\n",
       "      <td>0.080</td>\n",
       "      <td>Andrew Wiggins</td>\n",
       "      <td>GSW</td>\n",
       "      <td>18.591549</td>\n",
       "      <td>4.887324</td>\n",
       "      <td>2.352113</td>\n",
       "      <td>1.604607e+07</td>\n",
       "      <td>1.349594e+07</td>\n",
       "      <td>0.456839</td>\n",
       "    </tr>\n",
       "    <tr>\n",
       "      <td>625</td>\n",
       "      <td>NaN</td>\n",
       "      <td>4.9</td>\n",
       "      <td>26.0</td>\n",
       "      <td>1.5</td>\n",
       "      <td>3.8</td>\n",
       "      <td>NaN</td>\n",
       "      <td>36.0</td>\n",
       "      <td>2.0</td>\n",
       "      <td>-5.0</td>\n",
       "      <td>0</td>\n",
       "      <td>...</td>\n",
       "      <td>0.7</td>\n",
       "      <td>0.042</td>\n",
       "      <td>James Wiseman</td>\n",
       "      <td>GSW</td>\n",
       "      <td>11.487179</td>\n",
       "      <td>5.794872</td>\n",
       "      <td>0.666667</td>\n",
       "      <td>8.416182e+06</td>\n",
       "      <td>3.140577e+05</td>\n",
       "      <td>0.035974</td>\n",
       "    </tr>\n",
       "  </tbody>\n",
       "</table>\n",
       "<p>516 rows × 114 columns</p>\n",
       "</div>"
      ],
      "text/plain": [
       "     and_ones  assist_percentage  assists  assists_per_poss  block_percentage  \\\n",
       "1         NaN               28.7    357.0               8.3               3.2   \n",
       "2         NaN               10.3     46.0               3.9               1.6   \n",
       "3         NaN               22.2    188.0               7.8               0.1   \n",
       "5         NaN                6.3     81.0               2.4               1.3   \n",
       "6         NaN                7.9     49.0               3.0               2.9   \n",
       "..        ...                ...      ...               ...               ...   \n",
       "620       NaN               15.4     99.0               4.7               0.8   \n",
       "622       NaN               18.1    150.0               6.4               2.1   \n",
       "623       NaN               22.5    174.0               7.9               1.0   \n",
       "624       NaN               10.9    167.0               3.3               2.6   \n",
       "625       NaN                4.9     26.0               1.5               3.8   \n",
       "\n",
       "     blocking_fouls  blocks  blocks_per_poss  box_plus_minus  \\\n",
       "1               NaN    73.0              1.7             9.0   \n",
       "2               NaN    10.0              0.9            -3.5   \n",
       "3               NaN     1.0              0.0            -2.1   \n",
       "5               NaN    23.0              0.7             0.0   \n",
       "6               NaN    26.0              1.6             0.4   \n",
       "..              ...     ...              ...             ...   \n",
       "620             NaN     9.0              0.4            -0.5   \n",
       "622             NaN    26.0              1.1             0.8   \n",
       "623             NaN    11.0              0.5            -4.0   \n",
       "624             NaN    70.0              1.4            -0.4   \n",
       "625             NaN    36.0              2.0            -5.0   \n",
       "\n",
       "     center_percentage  ...  win_shares  win_shares_per_48_minutes  \\\n",
       "1                    0  ...        10.2                      0.244   \n",
       "2                    0  ...         0.7                      0.057   \n",
       "3                    0  ...         2.1                      0.088   \n",
       "5                    0  ...         3.5                      0.108   \n",
       "6                    0  ...         2.2                      0.133   \n",
       "..                 ...  ...         ...                        ...   \n",
       "620                  0  ...         1.9                      0.094   \n",
       "622                  0  ...         3.0                      0.130   \n",
       "623                  0  ...         0.9                      0.039   \n",
       "624                  0  ...         3.9                      0.080   \n",
       "625                  0  ...         0.7                      0.042   \n",
       "\n",
       "                       name  team  points_per_game  reb_per_game  \\\n",
       "1     Giannis Antetokounmpo   MIL        28.147541     11.000000   \n",
       "2    Thanasis Antetokounmpo   MIL         2.912281      2.175439   \n",
       "3             D.J. Augustin   MIL         7.684211      1.649123   \n",
       "5           Pat Connaughton   MIL         6.782609      4.811594   \n",
       "6              Torrey Craig   MIL         5.480000      3.940000   \n",
       "..                      ...   ...              ...           ...   \n",
       "620            Jordan Poole   GSW        12.000000      1.803922   \n",
       "622   Juan Toscano-Anderson   GSW         5.679245      4.415094   \n",
       "623          Brad Wanamaker   GSW         5.508197      1.721311   \n",
       "624          Andrew Wiggins   GSW        18.591549      4.887324   \n",
       "625           James Wiseman   GSW        11.487179      5.794872   \n",
       "\n",
       "     ast_per_game  predicted salary  gap salaries  error ratio  \n",
       "1        5.852459      3.404077e+07 -6.512680e+06    -0.236583  \n",
       "2        0.807018      4.013782e+06 -2.312189e+06    -1.358838  \n",
       "3        3.298246      6.930539e+06 -2.638721e+05    -0.039581  \n",
       "5        1.173913      4.433764e+06  5.045087e+05     0.102163  \n",
       "6        0.980000      3.914598e+06 -2.235744e+06    -1.331708  \n",
       "..            ...               ...           ...          ...  \n",
       "620      1.941176      1.022029e+07 -8.157012e+06    -3.953420  \n",
       "622      2.830189      9.795332e+06 -9.437037e+06   -26.338736  \n",
       "623      2.852459      2.513736e+06 -2.637356e+05    -0.117216  \n",
       "624      2.352113      1.604607e+07  1.349594e+07     0.456839  \n",
       "625      0.666667      8.416182e+06  3.140577e+05     0.035974  \n",
       "\n",
       "[516 rows x 114 columns]"
      ]
     },
     "execution_count": 133,
     "metadata": {},
     "output_type": "execute_result"
    }
   ],
   "source": [
    "df_new['gap salaries']= df_new['salary'] - df_new['predicted salary']\n",
    "df_new['error ratio']=df_new['gap salaries']/df_new['salary']\n",
    "df_new"
   ]
  },
  {
   "cell_type": "code",
   "execution_count": 135,
   "metadata": {},
   "outputs": [
    {
     "data": {
      "text/plain": [
       "team\n",
       "ATL   -3.739311e+07\n",
       "BOS   -2.634409e+07\n",
       "BRK    1.803186e+07\n",
       "CHI   -2.016370e+07\n",
       "CHO   -3.571098e+07\n",
       "CLE   -2.353342e+07\n",
       "DAL   -1.787834e+07\n",
       "DEN   -1.657767e+07\n",
       "DET   -3.309845e+07\n",
       "GSW   -1.135810e+07\n",
       "HOU   -1.800856e+07\n",
       "IND   -1.036042e+07\n",
       "LAC    5.542773e+06\n",
       "LAL    4.483596e+06\n",
       "MEM   -3.550914e+07\n",
       "MIA   -2.247075e+07\n",
       "MIL   -1.797330e+07\n",
       "MIN    8.050525e+06\n",
       "NOP   -2.127725e+07\n",
       "NYK   -4.829240e+07\n",
       "OKC   -8.637077e+07\n",
       "ORL   -1.350037e+07\n",
       "PHI   -1.243709e+07\n",
       "PHO   -9.267352e+06\n",
       "POR   -8.757811e+06\n",
       "SAC   -2.011918e+07\n",
       "SAS    1.175127e+05\n",
       "TOR   -2.698284e+07\n",
       "UTA    4.778194e+06\n",
       "WAS    5.125928e+05\n",
       "Name: gap salaries, dtype: float64"
      ]
     },
     "execution_count": 135,
     "metadata": {},
     "output_type": "execute_result"
    }
   ],
   "source": [
    "df_new.groupby('team')['gap salaries'].sum()"
   ]
  },
  {
   "cell_type": "code",
   "execution_count": null,
   "metadata": {},
   "outputs": [],
   "source": []
  }
 ],
 "metadata": {
  "kernelspec": {
   "display_name": "Python 3",
   "language": "python",
   "name": "python3"
  },
  "language_info": {
   "codemirror_mode": {
    "name": "ipython",
    "version": 3
   },
   "file_extension": ".py",
   "mimetype": "text/x-python",
   "name": "python",
   "nbconvert_exporter": "python",
   "pygments_lexer": "ipython3",
   "version": "3.7.4"
  }
 },
 "nbformat": 4,
 "nbformat_minor": 2
}
