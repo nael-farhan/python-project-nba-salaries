{
 "cells": [
  {
   "cell_type": "markdown",
   "metadata": {
    "collapsed": true,
    "pycharm": {
     "name": "#%% md\n"
    }
   },
   "source": [
    "# Premières remarques"
   ]
  },
  {
   "cell_type": "code",
   "execution_count": 9,
   "outputs": [],
   "source": [
    "import pandas as pd\n",
    "import seaborn as sns\n",
    "df_21= pd.read_csv('modified data\\data21.csv')\n",
    "df_20= pd.read_csv('modified data\\data20.csv')\n",
    "df_19= pd.read_csv('modified data\\data19.csv')\n",
    "df_21nd= pd.read_csv('unduplicated data\\data21nd.csv')\n",
    "df_20nd= pd.read_csv('unduplicated data\\data20nd.csv')\n",
    "df_19nd= pd.read_csv('unduplicated data\\data19nd.csv')"
   ],
   "metadata": {
    "collapsed": false,
    "pycharm": {
     "name": "#%%\n"
    }
   }
  },
  {
   "cell_type": "code",
   "execution_count": 3,
   "outputs": [
    {
     "name": "stdout",
     "output_type": "stream",
     "text": [
      "Il y a 444 joueurs qui apparaissent 1 fois dans la base de 2019\n",
      "Il y a 80 joueurs qui apparaissent 2 fois dans la base de 2019\n",
      "Il y a 6 joueurs qui apparaissent 3 fois dans la base de 2019\n",
      "Il y a 470 joueurs qui apparaissent 1 fois dans la base de 2020\n",
      "Il y a 58 joueurs qui apparaissent 2 fois dans la base de 2020\n",
      "Il y a 2 joueurs qui apparaissent 3 fois dans la base de 2020\n",
      "Il y a 461 joueurs qui apparaissent 1 fois dans la base de 2021\n",
      "Il y a 72 joueurs qui apparaissent 2 fois dans la base de 2021\n",
      "Il y a 7 joueurs qui apparaissent 3 fois dans la base de 2021\n"
     ]
    }
   ],
   "source": [
    "d19 = df_19.groupby('name')['name'].transform('size').value_counts()\n",
    "for i in range(1,len(d19)+1):\n",
    "    print(\"Il y a \"+str(int(d19[i]/i))+\" joueurs qui apparaissent \"+str(i)+\" fois dans la base de 2019\")\n",
    "d20 = df_20.groupby('name')['name'].transform('size').value_counts()\n",
    "for i in range(1,len(d20)+1):\n",
    "    print(\"Il y a \"+str(int(d20[i]/i))+\" joueurs qui apparaissent \"+str(i)+\" fois dans la base de 2020\")\n",
    "d21 = df_21.groupby('name')['name'].transform('size').value_counts()\n",
    "for i in range(1,len(d21)+1):\n",
    "    print(\"Il y a \"+str(int(d21[i]/i))+\" joueurs qui apparaissent \"+str(i)+\" fois dans la base de 2021\")"
   ],
   "metadata": {
    "collapsed": false,
    "pycharm": {
     "name": "#%%\n"
    }
   }
  },
  {
   "cell_type": "code",
   "execution_count": 13,
   "outputs": [
    {
     "data": {
      "text/plain": "Text(0.5, 1.0, 'Histogramme des matchs joués par joueur pour la saison 2020-21')"
     },
     "execution_count": 13,
     "metadata": {},
     "output_type": "execute_result"
    },
    {
     "data": {
      "text/plain": "<Figure size 432x288 with 1 Axes>",
      "image/png": "[encoded data removed]"
     },
     "metadata": {},
     "output_type": "display_data"
    }
   ],
   "source": [
    "sns.set_theme(style=\"whitegrid\")\n",
    "sns.set(rc={'figure.figsize':(6,4)})\n",
    "sns.histplot(data = df_21nd,x=\"games_played\", bins=12).set_title('Histogramme des matchs joués par joueur pour la saison 2020-21')"
   ],
   "metadata": {
    "collapsed": false,
    "pycharm": {
     "name": "#%%\n"
    }
   }
  }
 ],
 "metadata": {
  "kernelspec": {
   "display_name": "Python 3",
   "language": "python",
   "name": "python3"
  },
  "language_info": {
   "codemirror_mode": {
    "name": "ipython",
    "version": 2
   },
   "file_extension": ".py",
   "mimetype": "text/x-python",
   "name": "python",
   "nbconvert_exporter": "python",
   "pygments_lexer": "ipython2",
   "version": "2.7.6"
  }
 },
 "nbformat": 4,
 "nbformat_minor": 0
}