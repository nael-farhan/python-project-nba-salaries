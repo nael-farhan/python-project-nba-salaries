{
 "cells": [
  {
   "cell_type": "code",
   "execution_count": 1,
   "metadata": {
    "collapsed": true
   },
   "outputs": [],
   "source": [
    "import pandas as pd\n",
    "from sportsipy.nba.roster import Roster\n",
    "# le module sportsipy contient de nombreuses données sur les joueurs, les équipes et les matchs de NBA sur plus de 40 années"
   ]
  },
  {
   "cell_type": "code",
   "execution_count": 6,
   "outputs": [],
   "source": [
    "league = ['MIL','CHO','LAL','LAC','SAC','ATL','MIA','DAL','POR',\n",
    "              'HOU','NOP','PHO','WAS','MEM','BOS','DEN','TOR','SAS',\n",
    "              'PHI','BRK','UTA','IND','OKC','ORL','MIN','DET',\n",
    "              'NYK','CLE','CHI','GSW']\n",
    "# liste de l'ensemble des équipes de NBA"
   ],
   "metadata": {
    "collapsed": false,
    "pycharm": {
     "name": "#%%\n"
    }
   }
  },
  {
   "cell_type": "code",
   "execution_count": 4,
   "outputs": [],
   "source": [
    "def data_season(season):\n",
    "    \"\"\"\n",
    "    :param season: l'année sur la quelle on prélève les données\n",
    "    :return: pour season='2010', on obtient les données de chaque joueur sur la saison 2009-2010\n",
    "    \"\"\"\n",
    "    df = []\n",
    "    for team in league :\n",
    "        for player in Roster(team, year=season).players :\n",
    "            s = str(int(season)-1)+'-'+season[2:] # transforme '2004' en '2003-04'\n",
    "            dfp = player.dataframe.loc[s]\n",
    "            dfp['name'] = player.name\n",
    "            dfp['team'] = team\n",
    "            df.append(dfp)\n",
    "    df = pd.concat(df)\n",
    "    return df"
   ],
   "metadata": {
    "collapsed": false,
    "pycharm": {
     "name": "#%%\n"
    }
   }
  },
  {
   "cell_type": "code",
   "execution_count": 10,
   "outputs": [],
   "source": [
    "df_21 = data_season('2021')"
   ],
   "metadata": {
    "collapsed": false,
    "pycharm": {
     "name": "#%%\n"
    }
   }
  },
  {
   "cell_type": "code",
   "execution_count": 11,
   "outputs": [],
   "source": [
    "df_20 = data_season('2020')"
   ],
   "metadata": {
    "collapsed": false,
    "pycharm": {
     "name": "#%%\n"
    }
   }
  },
  {
   "cell_type": "code",
   "execution_count": 19,
   "outputs": [],
   "source": [
    "df_19 = data_season('2019')"
   ],
   "metadata": {
    "collapsed": false,
    "pycharm": {
     "name": "#%%\n"
    }
   }
  },
  {
   "cell_type": "code",
   "execution_count": 16,
   "outputs": [],
   "source": [
    "df_21.to_csv(r'C:\\Users\\nael3\\PycharmProjects\\python-project-nba-salaries\\data21.csv', index = False)"
   ],
   "metadata": {
    "collapsed": false,
    "pycharm": {
     "name": "#%%\n"
    }
   }
  },
  {
   "cell_type": "code",
   "execution_count": 17,
   "outputs": [],
   "source": [
    "df_20.to_csv(r'C:\\Users\\nael3\\PycharmProjects\\python-project-nba-salaries\\data20.csv', index = False)"
   ],
   "metadata": {
    "collapsed": false,
    "pycharm": {
     "name": "#%%\n"
    }
   }
  },
  {
   "cell_type": "code",
   "execution_count": 20,
   "outputs": [],
   "source": [
    "df_19.to_csv(r'C:\\Users\\nael3\\PycharmProjects\\python-project-nba-salaries\\data\\data19.csv', index = False)"
   ],
   "metadata": {
    "collapsed": false,
    "pycharm": {
     "name": "#%%\n"
    }
   }
  }
 ],
 "metadata": {
  "kernelspec": {
   "display_name": "Python 3",
   "language": "python",
   "name": "python3"
  },
  "language_info": {
   "codemirror_mode": {
    "name": "ipython",
    "version": 2
   },
   "file_extension": ".py",
   "mimetype": "text/x-python",
   "name": "python",
   "nbconvert_exporter": "python",
   "pygments_lexer": "ipython2",
   "version": "2.7.6"
  }
 },
 "nbformat": 4,
 "nbformat_minor": 0
}